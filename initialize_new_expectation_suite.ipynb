{
 "cells": [
  {
   "cell_type": "markdown",
   "metadata": {},
   "source": [
    "# Initialize new Expectation Suite"
   ]
  },
  {
   "cell_type": "markdown",
   "metadata": {},
   "source": [
    "\n",
    "Expectation Suite Name: southwest_passengers_suite\n",
    "\n"
   ]
  },
  {
   "cell_type": "markdown",
   "metadata": {},
   "source": [
    "#### Import all necessary packages"
   ]
  },
  {
   "cell_type": "code",
   "execution_count": 13,
   "metadata": {},
   "outputs": [],
   "source": [
    "\n",
    "import pandas as pd\n",
    "import great_expectations as gx\n",
    "from great_expectations.core.batch import BatchRequest\n",
    "from great_expectations.checkpoint import SimpleCheckpoint\n"
   ]
  },
  {
   "cell_type": "markdown",
   "metadata": {},
   "source": [
    "#### Create context and data batch, define Expectation Suite name and create validator \n",
    "##### Check first 5 rows of data"
   ]
  },
  {
   "cell_type": "code",
   "execution_count": 14,
   "metadata": {},
   "outputs": [
    {
     "name": "stdout",
     "output_type": "stream",
     "text": [
      "2024-09-22T14:26:39+0200 - INFO - FileDataContext loading fluent config\n",
      "2024-09-22T14:26:39+0200 - INFO - Loading 'datasources' ->\n",
      "[]\n"
     ]
    },
    {
     "data": {
      "application/vnd.jupyter.widget-view+json": {
       "model_id": "d3b9179252de4e8cb7445b82713b263b",
       "version_major": 2,
       "version_minor": 0
      },
      "text/plain": [
       "Calculating Metrics:   0%|          | 0/2 [00:00<?, ?it/s]"
      ]
     },
     "metadata": {},
     "output_type": "display_data"
    },
    {
     "name": "stdout",
     "output_type": "stream",
     "text": [
      "Columns: \"DEPARTURES_PERFORMED\", \"SEATS\", \"PASSENGERS\", \"FREIGHT\", \"MAIL\", \"UNIQUE_CARRIER\", \"UNIQUE_CARRIER_NAME\", \"ORIGIN\", \"DEST\", \"AIRCRAFT_GROUP\", \"AIRCRAFT_TYPE\", \"YEAR\", \"MONTH\", \"SEATS_PER_FLIGHT\", \"AV_PASSENGERS_PER_FLIGHT\".\n"
     ]
    },
    {
     "data": {
      "application/vnd.jupyter.widget-view+json": {
       "model_id": "81aec270e762456fb938a434d905cd9c",
       "version_major": 2,
       "version_minor": 0
      },
      "text/plain": [
       "Calculating Metrics:   0%|          | 0/1 [00:00<?, ?it/s]"
      ]
     },
     "metadata": {},
     "output_type": "display_data"
    },
    {
     "data": {
      "text/html": [
       "<div>\n",
       "<style scoped>\n",
       "    .dataframe tbody tr th:only-of-type {\n",
       "        vertical-align: middle;\n",
       "    }\n",
       "\n",
       "    .dataframe tbody tr th {\n",
       "        vertical-align: top;\n",
       "    }\n",
       "\n",
       "    .dataframe thead th {\n",
       "        text-align: right;\n",
       "    }\n",
       "</style>\n",
       "<table border=\"1\" class=\"dataframe\">\n",
       "  <thead>\n",
       "    <tr style=\"text-align: right;\">\n",
       "      <th></th>\n",
       "      <th>DEPARTURES_PERFORMED</th>\n",
       "      <th>SEATS</th>\n",
       "      <th>PASSENGERS</th>\n",
       "      <th>FREIGHT</th>\n",
       "      <th>MAIL</th>\n",
       "      <th>UNIQUE_CARRIER</th>\n",
       "      <th>UNIQUE_CARRIER_NAME</th>\n",
       "      <th>ORIGIN</th>\n",
       "      <th>DEST</th>\n",
       "      <th>AIRCRAFT_GROUP</th>\n",
       "      <th>AIRCRAFT_TYPE</th>\n",
       "      <th>YEAR</th>\n",
       "      <th>MONTH</th>\n",
       "      <th>SEATS_PER_FLIGHT</th>\n",
       "      <th>AV_PASSENGERS_PER_FLIGHT</th>\n",
       "    </tr>\n",
       "  </thead>\n",
       "  <tbody>\n",
       "    <tr>\n",
       "      <th>0</th>\n",
       "      <td>1.0</td>\n",
       "      <td>143.0</td>\n",
       "      <td>49.0</td>\n",
       "      <td>0.0</td>\n",
       "      <td>0.0</td>\n",
       "      <td>WN</td>\n",
       "      <td>Southwest Airlines Co.</td>\n",
       "      <td>MSY</td>\n",
       "      <td>CUN</td>\n",
       "      <td>6</td>\n",
       "      <td>612</td>\n",
       "      <td>2024</td>\n",
       "      <td>1</td>\n",
       "      <td>299.0</td>\n",
       "      <td>49.0</td>\n",
       "    </tr>\n",
       "    <tr>\n",
       "      <th>1</th>\n",
       "      <td>1.0</td>\n",
       "      <td>143.0</td>\n",
       "      <td>49.0</td>\n",
       "      <td>0.0</td>\n",
       "      <td>0.0</td>\n",
       "      <td>WN</td>\n",
       "      <td>Southwest Airlines Co.</td>\n",
       "      <td>SAT</td>\n",
       "      <td>CUN</td>\n",
       "      <td>6</td>\n",
       "      <td>612</td>\n",
       "      <td>2024</td>\n",
       "      <td>1</td>\n",
       "      <td>299.0</td>\n",
       "      <td>49.0</td>\n",
       "    </tr>\n",
       "    <tr>\n",
       "      <th>2</th>\n",
       "      <td>1.0</td>\n",
       "      <td>143.0</td>\n",
       "      <td>111.0</td>\n",
       "      <td>0.0</td>\n",
       "      <td>0.0</td>\n",
       "      <td>WN</td>\n",
       "      <td>Southwest Airlines Co.</td>\n",
       "      <td>CUN</td>\n",
       "      <td>MSY</td>\n",
       "      <td>6</td>\n",
       "      <td>612</td>\n",
       "      <td>2024</td>\n",
       "      <td>1</td>\n",
       "      <td>143.0</td>\n",
       "      <td>111.0</td>\n",
       "    </tr>\n",
       "    <tr>\n",
       "      <th>3</th>\n",
       "      <td>1.0</td>\n",
       "      <td>143.0</td>\n",
       "      <td>116.0</td>\n",
       "      <td>0.0</td>\n",
       "      <td>0.0</td>\n",
       "      <td>WN</td>\n",
       "      <td>Southwest Airlines Co.</td>\n",
       "      <td>CUN</td>\n",
       "      <td>TPA</td>\n",
       "      <td>6</td>\n",
       "      <td>612</td>\n",
       "      <td>2024</td>\n",
       "      <td>1</td>\n",
       "      <td>143.0</td>\n",
       "      <td>116.0</td>\n",
       "    </tr>\n",
       "    <tr>\n",
       "      <th>4</th>\n",
       "      <td>1.0</td>\n",
       "      <td>143.0</td>\n",
       "      <td>129.0</td>\n",
       "      <td>0.0</td>\n",
       "      <td>0.0</td>\n",
       "      <td>WN</td>\n",
       "      <td>Southwest Airlines Co.</td>\n",
       "      <td>CUN</td>\n",
       "      <td>SAT</td>\n",
       "      <td>6</td>\n",
       "      <td>612</td>\n",
       "      <td>2024</td>\n",
       "      <td>1</td>\n",
       "      <td>143.0</td>\n",
       "      <td>129.0</td>\n",
       "    </tr>\n",
       "  </tbody>\n",
       "</table>\n",
       "</div>"
      ],
      "text/plain": [
       "   DEPARTURES_PERFORMED  SEATS  PASSENGERS  FREIGHT  MAIL UNIQUE_CARRIER  \\\n",
       "0                   1.0  143.0        49.0      0.0   0.0             WN   \n",
       "1                   1.0  143.0        49.0      0.0   0.0             WN   \n",
       "2                   1.0  143.0       111.0      0.0   0.0             WN   \n",
       "3                   1.0  143.0       116.0      0.0   0.0             WN   \n",
       "4                   1.0  143.0       129.0      0.0   0.0             WN   \n",
       "\n",
       "      UNIQUE_CARRIER_NAME ORIGIN DEST  AIRCRAFT_GROUP  AIRCRAFT_TYPE  YEAR  \\\n",
       "0  Southwest Airlines Co.    MSY  CUN               6            612  2024   \n",
       "1  Southwest Airlines Co.    SAT  CUN               6            612  2024   \n",
       "2  Southwest Airlines Co.    CUN  MSY               6            612  2024   \n",
       "3  Southwest Airlines Co.    CUN  TPA               6            612  2024   \n",
       "4  Southwest Airlines Co.    CUN  SAT               6            612  2024   \n",
       "\n",
       "   MONTH  SEATS_PER_FLIGHT  AV_PASSENGERS_PER_FLIGHT  \n",
       "0      1             299.0                      49.0  \n",
       "1      1             299.0                      49.0  \n",
       "2      1             143.0                     111.0  \n",
       "3      1             143.0                     116.0  \n",
       "4      1             143.0                     129.0  "
      ]
     },
     "execution_count": 14,
     "metadata": {},
     "output_type": "execute_result"
    }
   ],
   "source": [
    "context = gx.get_context()\n",
    "\n",
    "batch_request = {'datasource_name': 'airline_data', 'data_connector_name': 'default_inferred_data_connector_name', 'data_asset_name': 'southwest_passengers.csv', 'limit': 1000}\n",
    "\n",
    "expectation_suite_name = \"southwest_passengers_suite\"\n",
    "\n",
    "validator = context.get_validator(\n",
    "    batch_request=BatchRequest(**batch_request),\n",
    "    expectation_suite_name=expectation_suite_name\n",
    ")\n",
    "column_names = [f'\"{column_name}\"' for column_name in validator.columns()]\n",
    "print(f\"Columns: {', '.join(column_names)}.\")\n",
    "validator.head(n_rows=5, fetch_all=False)"
   ]
  },
  {
   "cell_type": "markdown",
   "metadata": {},
   "source": [
    "##### Select the columns to be ignored and comment out columns that are important and should be included"
   ]
  },
  {
   "cell_type": "code",
   "execution_count": 15,
   "metadata": {},
   "outputs": [],
   "source": [
    "exclude_column_names = [\n",
    "     #\"AV_PASSENGERS_PER_FLIGHT\",\n",
    "     #\"PASSENGERS\",\n",
    "     #\"SEATS_PER_FLIGHT\",\n",
    "      \"FREIGHT\",\n",
    "      \"DEPARTURES_PERFORMED\",\n",
    "      \"UNIQUE_CARRIER_NAME\",\n",
    "     #\"ORIGIN\",\n",
    "     #\"DEST\",\n",
    "      \"SEATS\",\n",
    "      \"AIRCRAFT_GROUP\",\n",
    "      \"MAIL\",\n",
    "      \"MONTH\",\n",
    "     #\"AIRCRAFT_TYPE\",\n",
    "      \"UNIQUE_CARRIER\",\n",
    "      \"YEAR\"\n",
    "]"
   ]
  },
  {
   "cell_type": "markdown",
   "metadata": {},
   "source": [
    "#### Setting up the Onboarding assistant for guidance through first expectation process and assigning the validator to the Expectation Suite"
   ]
  },
  {
   "cell_type": "code",
   "execution_count": 16,
   "metadata": {},
   "outputs": [
    {
     "name": "stdout",
     "output_type": "stream",
     "text": [
      "\n"
     ]
    },
    {
     "data": {
      "application/vnd.jupyter.widget-view+json": {
       "model_id": "17eadc5912364ae1a8e9911b86e6c3c1",
       "version_major": 2,
       "version_minor": 0
      },
      "text/plain": [
       "Generating Expectations:   0%|          | 0/8 [00:00<?, ?it/s]"
      ]
     },
     "metadata": {},
     "output_type": "display_data"
    },
    {
     "data": {
      "application/vnd.jupyter.widget-view+json": {
       "model_id": "df1abed0b2b04efbb6598245790feb8c",
       "version_major": 2,
       "version_minor": 0
      },
      "text/plain": [
       "Profiling Dataset:         0%|          | 0/1 [00:00<?, ?it/s]"
      ]
     },
     "metadata": {},
     "output_type": "display_data"
    },
    {
     "data": {
      "application/vnd.jupyter.widget-view+json": {
       "model_id": "c82662277c1f4843979fdeb6ce4cb125",
       "version_major": 2,
       "version_minor": 0
      },
      "text/plain": [
       "Calculating Metrics:   0%|          | 0/1 [00:00<?, ?it/s]"
      ]
     },
     "metadata": {},
     "output_type": "display_data"
    },
    {
     "data": {
      "application/vnd.jupyter.widget-view+json": {
       "model_id": "fced40d19788475091d3c69e67bee934",
       "version_major": 2,
       "version_minor": 0
      },
      "text/plain": [
       "Calculating Metrics:   0%|          | 0/2 [00:00<?, ?it/s]"
      ]
     },
     "metadata": {},
     "output_type": "display_data"
    },
    {
     "data": {
      "application/vnd.jupyter.widget-view+json": {
       "model_id": "5baf139f7ef84549ad2d50d9e17bc84e",
       "version_major": 2,
       "version_minor": 0
      },
      "text/plain": [
       "Calculating Metrics:   0%|          | 0/2 [00:00<?, ?it/s]"
      ]
     },
     "metadata": {},
     "output_type": "display_data"
    },
    {
     "data": {
      "application/vnd.jupyter.widget-view+json": {
       "model_id": "0858e1ab52b640b3a775eeccaced3f62",
       "version_major": 2,
       "version_minor": 0
      },
      "text/plain": [
       "Calculating Metrics:   0%|          | 0/2 [00:00<?, ?it/s]"
      ]
     },
     "metadata": {},
     "output_type": "display_data"
    },
    {
     "data": {
      "application/vnd.jupyter.widget-view+json": {
       "model_id": "53a248593afb4197b7bc04d5fa62ac06",
       "version_major": 2,
       "version_minor": 0
      },
      "text/plain": [
       "Calculating Metrics:   0%|          | 0/1 [00:00<?, ?it/s]"
      ]
     },
     "metadata": {},
     "output_type": "display_data"
    },
    {
     "data": {
      "application/vnd.jupyter.widget-view+json": {
       "model_id": "3e0e7e3c70c24aae954258b8d62bd542",
       "version_major": 2,
       "version_minor": 0
      },
      "text/plain": [
       "Calculating Metrics:   0%|          | 0/1 [00:00<?, ?it/s]"
      ]
     },
     "metadata": {},
     "output_type": "display_data"
    },
    {
     "data": {
      "application/vnd.jupyter.widget-view+json": {
       "model_id": "8e7698d314c344cdbc676b8851467178",
       "version_major": 2,
       "version_minor": 0
      },
      "text/plain": [
       "Calculating Metrics:   0%|          | 0/15 [00:00<?, ?it/s]"
      ]
     },
     "metadata": {},
     "output_type": "display_data"
    },
    {
     "data": {
      "application/vnd.jupyter.widget-view+json": {
       "model_id": "e61f16f6dcdc471dab7a00bb78e6ec99",
       "version_major": 2,
       "version_minor": 0
      },
      "text/plain": [
       "Profiling Dataset:         0%|          | 0/0 [00:00<?, ?it/s]"
      ]
     },
     "metadata": {},
     "output_type": "display_data"
    },
    {
     "data": {
      "application/vnd.jupyter.widget-view+json": {
       "model_id": "d6d6f526dbf34619b522981246a86a04",
       "version_major": 2,
       "version_minor": 0
      },
      "text/plain": [
       "Calculating Metrics:   0%|          | 0/2 [00:00<?, ?it/s]"
      ]
     },
     "metadata": {},
     "output_type": "display_data"
    },
    {
     "data": {
      "application/vnd.jupyter.widget-view+json": {
       "model_id": "b51fe6d92c0a4a4ba1d982dc67272f46",
       "version_major": 2,
       "version_minor": 0
      },
      "text/plain": [
       "Calculating Metrics:   0%|          | 0/1 [00:00<?, ?it/s]"
      ]
     },
     "metadata": {},
     "output_type": "display_data"
    },
    {
     "data": {
      "application/vnd.jupyter.widget-view+json": {
       "model_id": "8369df59a49c47bba1feda32fc4b18fc",
       "version_major": 2,
       "version_minor": 0
      },
      "text/plain": [
       "Calculating Metrics:   0%|          | 0/1 [00:00<?, ?it/s]"
      ]
     },
     "metadata": {},
     "output_type": "display_data"
    },
    {
     "data": {
      "application/vnd.jupyter.widget-view+json": {
       "model_id": "acfeb01ae62442548b79f17e3e1ea3c7",
       "version_major": 2,
       "version_minor": 0
      },
      "text/plain": [
       "Calculating Metrics:   0%|          | 0/15 [00:00<?, ?it/s]"
      ]
     },
     "metadata": {},
     "output_type": "display_data"
    },
    {
     "data": {
      "application/vnd.jupyter.widget-view+json": {
       "model_id": "9de85ca73886417e91b587e44643e613",
       "version_major": 2,
       "version_minor": 0
      },
      "text/plain": [
       "Profiling Dataset:         0%|          | 0/0 [00:00<?, ?it/s]"
      ]
     },
     "metadata": {},
     "output_type": "display_data"
    },
    {
     "data": {
      "application/vnd.jupyter.widget-view+json": {
       "model_id": "0ed3972259f54352a32ad8c1c8e678c0",
       "version_major": 2,
       "version_minor": 0
      },
      "text/plain": [
       "Calculating Metrics:   0%|          | 0/2 [00:00<?, ?it/s]"
      ]
     },
     "metadata": {},
     "output_type": "display_data"
    },
    {
     "data": {
      "application/vnd.jupyter.widget-view+json": {
       "model_id": "7484fef66a3b4b8dba567f1abce42070",
       "version_major": 2,
       "version_minor": 0
      },
      "text/plain": [
       "Calculating Metrics:   0%|          | 0/1 [00:00<?, ?it/s]"
      ]
     },
     "metadata": {},
     "output_type": "display_data"
    },
    {
     "data": {
      "application/vnd.jupyter.widget-view+json": {
       "model_id": "a16c4d31db434424985ef86c12042c74",
       "version_major": 2,
       "version_minor": 0
      },
      "text/plain": [
       "Calculating Metrics:   0%|          | 0/1 [00:00<?, ?it/s]"
      ]
     },
     "metadata": {},
     "output_type": "display_data"
    },
    {
     "data": {
      "application/vnd.jupyter.widget-view+json": {
       "model_id": "389966dac36440d3807b78affac36f35",
       "version_major": 2,
       "version_minor": 0
      },
      "text/plain": [
       "Calculating Metrics:   0%|          | 0/15 [00:00<?, ?it/s]"
      ]
     },
     "metadata": {},
     "output_type": "display_data"
    },
    {
     "data": {
      "application/vnd.jupyter.widget-view+json": {
       "model_id": "a0270c82be8c4e59b47f26e05af3a9bd",
       "version_major": 2,
       "version_minor": 0
      },
      "text/plain": [
       "Profiling Dataset:         0%|          | 0/6 [00:00<?, ?it/s]"
      ]
     },
     "metadata": {},
     "output_type": "display_data"
    },
    {
     "data": {
      "application/vnd.jupyter.widget-view+json": {
       "model_id": "7d86476364ab41159d8e271a2678c536",
       "version_major": 2,
       "version_minor": 0
      },
      "text/plain": [
       "Calculating Metrics:   0%|          | 0/5 [00:00<?, ?it/s]"
      ]
     },
     "metadata": {},
     "output_type": "display_data"
    },
    {
     "data": {
      "application/vnd.jupyter.widget-view+json": {
       "model_id": "ff39b83600f7457d82333d731b79daeb",
       "version_major": 2,
       "version_minor": 0
      },
      "text/plain": [
       "Calculating Metrics:   0%|          | 0/1 [00:00<?, ?it/s]"
      ]
     },
     "metadata": {},
     "output_type": "display_data"
    },
    {
     "data": {
      "application/vnd.jupyter.widget-view+json": {
       "model_id": "69858aa3157148c18f931406a8ce66a0",
       "version_major": 2,
       "version_minor": 0
      },
      "text/plain": [
       "Calculating Metrics:   0%|          | 0/5 [00:00<?, ?it/s]"
      ]
     },
     "metadata": {},
     "output_type": "display_data"
    },
    {
     "data": {
      "application/vnd.jupyter.widget-view+json": {
       "model_id": "43a953fbbc7a46b3ba11dfb194376c6b",
       "version_major": 2,
       "version_minor": 0
      },
      "text/plain": [
       "Calculating Metrics:   0%|          | 0/5 [00:00<?, ?it/s]"
      ]
     },
     "metadata": {},
     "output_type": "display_data"
    },
    {
     "data": {
      "application/vnd.jupyter.widget-view+json": {
       "model_id": "d8c4a770c6f346babe0376836051112a",
       "version_major": 2,
       "version_minor": 0
      },
      "text/plain": [
       "Calculating Metrics:   0%|          | 0/5 [00:00<?, ?it/s]"
      ]
     },
     "metadata": {},
     "output_type": "display_data"
    },
    {
     "data": {
      "application/vnd.jupyter.widget-view+json": {
       "model_id": "96ed7dd8d84d4a658bd13a8d951862a2",
       "version_major": 2,
       "version_minor": 0
      },
      "text/plain": [
       "Calculating Metrics:   0%|          | 0/1 [00:00<?, ?it/s]"
      ]
     },
     "metadata": {},
     "output_type": "display_data"
    },
    {
     "data": {
      "application/vnd.jupyter.widget-view+json": {
       "model_id": "5a5ebfe7c2ab4745bead0cca2d0119cd",
       "version_major": 2,
       "version_minor": 0
      },
      "text/plain": [
       "Calculating Metrics:   0%|          | 0/5 [00:00<?, ?it/s]"
      ]
     },
     "metadata": {},
     "output_type": "display_data"
    },
    {
     "data": {
      "application/vnd.jupyter.widget-view+json": {
       "model_id": "b57809cb04134a60a5dfbb0b77189175",
       "version_major": 2,
       "version_minor": 0
      },
      "text/plain": [
       "Calculating Metrics:   0%|          | 0/5 [00:00<?, ?it/s]"
      ]
     },
     "metadata": {},
     "output_type": "display_data"
    },
    {
     "data": {
      "application/vnd.jupyter.widget-view+json": {
       "model_id": "d6ec6500afa641a7b4fa338b4ba7e1d2",
       "version_major": 2,
       "version_minor": 0
      },
      "text/plain": [
       "Calculating Metrics:   0%|          | 0/5 [00:00<?, ?it/s]"
      ]
     },
     "metadata": {},
     "output_type": "display_data"
    },
    {
     "data": {
      "application/vnd.jupyter.widget-view+json": {
       "model_id": "840e1bf09a214ae88be40f63dbc71a6f",
       "version_major": 2,
       "version_minor": 0
      },
      "text/plain": [
       "Calculating Metrics:   0%|          | 0/1 [00:00<?, ?it/s]"
      ]
     },
     "metadata": {},
     "output_type": "display_data"
    },
    {
     "data": {
      "application/vnd.jupyter.widget-view+json": {
       "model_id": "03b3c1255839456b8730913c3e8a224e",
       "version_major": 2,
       "version_minor": 0
      },
      "text/plain": [
       "Calculating Metrics:   0%|          | 0/5 [00:00<?, ?it/s]"
      ]
     },
     "metadata": {},
     "output_type": "display_data"
    },
    {
     "data": {
      "application/vnd.jupyter.widget-view+json": {
       "model_id": "ef62965caedf40c2a36ac153322a67dc",
       "version_major": 2,
       "version_minor": 0
      },
      "text/plain": [
       "Calculating Metrics:   0%|          | 0/5 [00:00<?, ?it/s]"
      ]
     },
     "metadata": {},
     "output_type": "display_data"
    },
    {
     "data": {
      "application/vnd.jupyter.widget-view+json": {
       "model_id": "c44347578cca4749aeb64f58de9663e9",
       "version_major": 2,
       "version_minor": 0
      },
      "text/plain": [
       "Calculating Metrics:   0%|          | 0/5 [00:00<?, ?it/s]"
      ]
     },
     "metadata": {},
     "output_type": "display_data"
    },
    {
     "data": {
      "application/vnd.jupyter.widget-view+json": {
       "model_id": "0504049688d6466dbca0a234c2fe404f",
       "version_major": 2,
       "version_minor": 0
      },
      "text/plain": [
       "Calculating Metrics:   0%|          | 0/1 [00:00<?, ?it/s]"
      ]
     },
     "metadata": {},
     "output_type": "display_data"
    },
    {
     "data": {
      "application/vnd.jupyter.widget-view+json": {
       "model_id": "fa39cdc7dac043e597cc39f9e7eaca73",
       "version_major": 2,
       "version_minor": 0
      },
      "text/plain": [
       "Calculating Metrics:   0%|          | 0/5 [00:00<?, ?it/s]"
      ]
     },
     "metadata": {},
     "output_type": "display_data"
    },
    {
     "data": {
      "application/vnd.jupyter.widget-view+json": {
       "model_id": "acd735fa9d7643828990661c7b3a28a8",
       "version_major": 2,
       "version_minor": 0
      },
      "text/plain": [
       "Calculating Metrics:   0%|          | 0/5 [00:00<?, ?it/s]"
      ]
     },
     "metadata": {},
     "output_type": "display_data"
    },
    {
     "data": {
      "application/vnd.jupyter.widget-view+json": {
       "model_id": "35b1f5b3bab74b5bbbe1851902c1df0e",
       "version_major": 2,
       "version_minor": 0
      },
      "text/plain": [
       "Calculating Metrics:   0%|          | 0/5 [00:00<?, ?it/s]"
      ]
     },
     "metadata": {},
     "output_type": "display_data"
    },
    {
     "data": {
      "application/vnd.jupyter.widget-view+json": {
       "model_id": "b9bde86eafe141e9abe16305df003263",
       "version_major": 2,
       "version_minor": 0
      },
      "text/plain": [
       "Calculating Metrics:   0%|          | 0/1 [00:00<?, ?it/s]"
      ]
     },
     "metadata": {},
     "output_type": "display_data"
    },
    {
     "data": {
      "application/vnd.jupyter.widget-view+json": {
       "model_id": "0287787fdcd74cb1b3c4af583b83eb7c",
       "version_major": 2,
       "version_minor": 0
      },
      "text/plain": [
       "Calculating Metrics:   0%|          | 0/5 [00:00<?, ?it/s]"
      ]
     },
     "metadata": {},
     "output_type": "display_data"
    },
    {
     "data": {
      "application/vnd.jupyter.widget-view+json": {
       "model_id": "8def71c45aa442aca6085ce33f11a010",
       "version_major": 2,
       "version_minor": 0
      },
      "text/plain": [
       "Calculating Metrics:   0%|          | 0/5 [00:00<?, ?it/s]"
      ]
     },
     "metadata": {},
     "output_type": "display_data"
    },
    {
     "data": {
      "application/vnd.jupyter.widget-view+json": {
       "model_id": "082cb3c6284e485cb063b2ae13da10f4",
       "version_major": 2,
       "version_minor": 0
      },
      "text/plain": [
       "Calculating Metrics:   0%|          | 0/5 [00:00<?, ?it/s]"
      ]
     },
     "metadata": {},
     "output_type": "display_data"
    },
    {
     "data": {
      "application/vnd.jupyter.widget-view+json": {
       "model_id": "8a43a8d09d8f414f9576018c17080e48",
       "version_major": 2,
       "version_minor": 0
      },
      "text/plain": [
       "Calculating Metrics:   0%|          | 0/1 [00:00<?, ?it/s]"
      ]
     },
     "metadata": {},
     "output_type": "display_data"
    },
    {
     "data": {
      "application/vnd.jupyter.widget-view+json": {
       "model_id": "02e9015941784e80ac1e49ef5df24ce9",
       "version_major": 2,
       "version_minor": 0
      },
      "text/plain": [
       "Calculating Metrics:   0%|          | 0/5 [00:00<?, ?it/s]"
      ]
     },
     "metadata": {},
     "output_type": "display_data"
    },
    {
     "data": {
      "application/vnd.jupyter.widget-view+json": {
       "model_id": "d6ad73e3c9384d62a1ac3a7d1fcd68ae",
       "version_major": 2,
       "version_minor": 0
      },
      "text/plain": [
       "Calculating Metrics:   0%|          | 0/5 [00:00<?, ?it/s]"
      ]
     },
     "metadata": {},
     "output_type": "display_data"
    },
    {
     "data": {
      "application/vnd.jupyter.widget-view+json": {
       "model_id": "2d664ea4303142c8bb414839d349effb",
       "version_major": 2,
       "version_minor": 0
      },
      "text/plain": [
       "Calculating Metrics:   0%|          | 0/2 [00:00<?, ?it/s]"
      ]
     },
     "metadata": {},
     "output_type": "display_data"
    },
    {
     "data": {
      "application/vnd.jupyter.widget-view+json": {
       "model_id": "eec0841b83494e27afaaefc72e5d6c43",
       "version_major": 2,
       "version_minor": 0
      },
      "text/plain": [
       "Calculating Metrics:   0%|          | 0/1 [00:00<?, ?it/s]"
      ]
     },
     "metadata": {},
     "output_type": "display_data"
    },
    {
     "data": {
      "application/vnd.jupyter.widget-view+json": {
       "model_id": "c510648f13e54d7f9037beb8b77867df",
       "version_major": 2,
       "version_minor": 0
      },
      "text/plain": [
       "Profiling Dataset:         0%|          | 0/4 [00:00<?, ?it/s]"
      ]
     },
     "metadata": {},
     "output_type": "display_data"
    },
    {
     "data": {
      "application/vnd.jupyter.widget-view+json": {
       "model_id": "e6332b501dc8433e84e9727293d3cac4",
       "version_major": 2,
       "version_minor": 0
      },
      "text/plain": [
       "Calculating Metrics:   0%|          | 0/6 [00:00<?, ?it/s]"
      ]
     },
     "metadata": {},
     "output_type": "display_data"
    },
    {
     "data": {
      "application/vnd.jupyter.widget-view+json": {
       "model_id": "9814c02ded054206b987d1587f0b9a06",
       "version_major": 2,
       "version_minor": 0
      },
      "text/plain": [
       "Calculating Metrics:   0%|          | 0/6 [00:00<?, ?it/s]"
      ]
     },
     "metadata": {},
     "output_type": "display_data"
    },
    {
     "data": {
      "application/vnd.jupyter.widget-view+json": {
       "model_id": "3b1f40afa5004abeb82e7cd7f280bb7f",
       "version_major": 2,
       "version_minor": 0
      },
      "text/plain": [
       "Calculating Metrics:   0%|          | 0/4 [00:00<?, ?it/s]"
      ]
     },
     "metadata": {},
     "output_type": "display_data"
    },
    {
     "data": {
      "application/vnd.jupyter.widget-view+json": {
       "model_id": "b71722010db44902a9569ce9beb22075",
       "version_major": 2,
       "version_minor": 0
      },
      "text/plain": [
       "Calculating Metrics:   0%|          | 0/4 [00:00<?, ?it/s]"
      ]
     },
     "metadata": {},
     "output_type": "display_data"
    },
    {
     "data": {
      "application/vnd.jupyter.widget-view+json": {
       "model_id": "4718bb2ff97b4771ababe01dfabbfc24",
       "version_major": 2,
       "version_minor": 0
      },
      "text/plain": [
       "Calculating Metrics:   0%|          | 0/4 [00:00<?, ?it/s]"
      ]
     },
     "metadata": {},
     "output_type": "display_data"
    },
    {
     "data": {
      "application/vnd.jupyter.widget-view+json": {
       "model_id": "3fc8a3382f284554a13d5603848900f2",
       "version_major": 2,
       "version_minor": 0
      },
      "text/plain": [
       "Calculating Metrics:   0%|          | 0/4 [00:00<?, ?it/s]"
      ]
     },
     "metadata": {},
     "output_type": "display_data"
    },
    {
     "data": {
      "application/vnd.jupyter.widget-view+json": {
       "model_id": "8cf6b0526dcc4be4980643414f8aba09",
       "version_major": 2,
       "version_minor": 0
      },
      "text/plain": [
       "Calculating Metrics:   0%|          | 0/4 [00:00<?, ?it/s]"
      ]
     },
     "metadata": {},
     "output_type": "display_data"
    },
    {
     "data": {
      "application/vnd.jupyter.widget-view+json": {
       "model_id": "c54e9de639684c3da97fa977458b79e1",
       "version_major": 2,
       "version_minor": 0
      },
      "text/plain": [
       "Calculating Metrics:   0%|          | 0/4 [00:00<?, ?it/s]"
      ]
     },
     "metadata": {},
     "output_type": "display_data"
    },
    {
     "data": {
      "application/vnd.jupyter.widget-view+json": {
       "model_id": "def775d63fea410495eeadb5e32ed6d3",
       "version_major": 2,
       "version_minor": 0
      },
      "text/plain": [
       "Calculating Metrics:   0%|          | 0/4 [00:00<?, ?it/s]"
      ]
     },
     "metadata": {},
     "output_type": "display_data"
    },
    {
     "data": {
      "application/vnd.jupyter.widget-view+json": {
       "model_id": "d30bd881b39d41caba53590e5c5ca13f",
       "version_major": 2,
       "version_minor": 0
      },
      "text/plain": [
       "Calculating Metrics:   0%|          | 0/6 [00:00<?, ?it/s]"
      ]
     },
     "metadata": {},
     "output_type": "display_data"
    },
    {
     "data": {
      "application/vnd.jupyter.widget-view+json": {
       "model_id": "4287dd5ac1ee4b5098faceb527ff2555",
       "version_major": 2,
       "version_minor": 0
      },
      "text/plain": [
       "Calculating Metrics:   0%|          | 0/6 [00:00<?, ?it/s]"
      ]
     },
     "metadata": {},
     "output_type": "display_data"
    },
    {
     "data": {
      "application/vnd.jupyter.widget-view+json": {
       "model_id": "37e6b1eea7994c2d8e71635adcd165bd",
       "version_major": 2,
       "version_minor": 0
      },
      "text/plain": [
       "Calculating Metrics:   0%|          | 0/4 [00:00<?, ?it/s]"
      ]
     },
     "metadata": {},
     "output_type": "display_data"
    },
    {
     "data": {
      "application/vnd.jupyter.widget-view+json": {
       "model_id": "001ce8ee0cd547099f0958bac49f0548",
       "version_major": 2,
       "version_minor": 0
      },
      "text/plain": [
       "Calculating Metrics:   0%|          | 0/4 [00:00<?, ?it/s]"
      ]
     },
     "metadata": {},
     "output_type": "display_data"
    },
    {
     "data": {
      "application/vnd.jupyter.widget-view+json": {
       "model_id": "7a25681ff3ff458f8424d494945542f0",
       "version_major": 2,
       "version_minor": 0
      },
      "text/plain": [
       "Calculating Metrics:   0%|          | 0/4 [00:00<?, ?it/s]"
      ]
     },
     "metadata": {},
     "output_type": "display_data"
    },
    {
     "data": {
      "application/vnd.jupyter.widget-view+json": {
       "model_id": "84d64f344d5c4fdaa5f7616ea79d2b83",
       "version_major": 2,
       "version_minor": 0
      },
      "text/plain": [
       "Calculating Metrics:   0%|          | 0/4 [00:00<?, ?it/s]"
      ]
     },
     "metadata": {},
     "output_type": "display_data"
    },
    {
     "data": {
      "application/vnd.jupyter.widget-view+json": {
       "model_id": "8056da6d902f4f4d86dd1243f9452f4b",
       "version_major": 2,
       "version_minor": 0
      },
      "text/plain": [
       "Calculating Metrics:   0%|          | 0/4 [00:00<?, ?it/s]"
      ]
     },
     "metadata": {},
     "output_type": "display_data"
    },
    {
     "data": {
      "application/vnd.jupyter.widget-view+json": {
       "model_id": "b8d0b630975b4c259c5c3c784a045843",
       "version_major": 2,
       "version_minor": 0
      },
      "text/plain": [
       "Calculating Metrics:   0%|          | 0/4 [00:00<?, ?it/s]"
      ]
     },
     "metadata": {},
     "output_type": "display_data"
    },
    {
     "data": {
      "application/vnd.jupyter.widget-view+json": {
       "model_id": "30cbb2d34914407e83d697c6f11b4362",
       "version_major": 2,
       "version_minor": 0
      },
      "text/plain": [
       "Calculating Metrics:   0%|          | 0/4 [00:00<?, ?it/s]"
      ]
     },
     "metadata": {},
     "output_type": "display_data"
    },
    {
     "data": {
      "application/vnd.jupyter.widget-view+json": {
       "model_id": "9a5619c347a949cdb41349a8866628c7",
       "version_major": 2,
       "version_minor": 0
      },
      "text/plain": [
       "Calculating Metrics:   0%|          | 0/6 [00:00<?, ?it/s]"
      ]
     },
     "metadata": {},
     "output_type": "display_data"
    },
    {
     "data": {
      "application/vnd.jupyter.widget-view+json": {
       "model_id": "2116a0d18a524f2893c0ef0574e6c4e9",
       "version_major": 2,
       "version_minor": 0
      },
      "text/plain": [
       "Calculating Metrics:   0%|          | 0/6 [00:00<?, ?it/s]"
      ]
     },
     "metadata": {},
     "output_type": "display_data"
    },
    {
     "data": {
      "application/vnd.jupyter.widget-view+json": {
       "model_id": "eccbbb4f9750499397175ac7577e385f",
       "version_major": 2,
       "version_minor": 0
      },
      "text/plain": [
       "Calculating Metrics:   0%|          | 0/4 [00:00<?, ?it/s]"
      ]
     },
     "metadata": {},
     "output_type": "display_data"
    },
    {
     "data": {
      "application/vnd.jupyter.widget-view+json": {
       "model_id": "f860c013ea2d44928707d1df0b5807b4",
       "version_major": 2,
       "version_minor": 0
      },
      "text/plain": [
       "Calculating Metrics:   0%|          | 0/4 [00:00<?, ?it/s]"
      ]
     },
     "metadata": {},
     "output_type": "display_data"
    },
    {
     "data": {
      "application/vnd.jupyter.widget-view+json": {
       "model_id": "690731c4a86241c3a88175589b05d5e0",
       "version_major": 2,
       "version_minor": 0
      },
      "text/plain": [
       "Calculating Metrics:   0%|          | 0/4 [00:00<?, ?it/s]"
      ]
     },
     "metadata": {},
     "output_type": "display_data"
    },
    {
     "data": {
      "application/vnd.jupyter.widget-view+json": {
       "model_id": "3542dce7931d42b59558cb6c8399a410",
       "version_major": 2,
       "version_minor": 0
      },
      "text/plain": [
       "Calculating Metrics:   0%|          | 0/4 [00:00<?, ?it/s]"
      ]
     },
     "metadata": {},
     "output_type": "display_data"
    },
    {
     "data": {
      "application/vnd.jupyter.widget-view+json": {
       "model_id": "b4fd729c513848278dc58dc8db2c1545",
       "version_major": 2,
       "version_minor": 0
      },
      "text/plain": [
       "Calculating Metrics:   0%|          | 0/4 [00:00<?, ?it/s]"
      ]
     },
     "metadata": {},
     "output_type": "display_data"
    },
    {
     "data": {
      "application/vnd.jupyter.widget-view+json": {
       "model_id": "d9c00a929f68404c8bf7963fb45ce8c5",
       "version_major": 2,
       "version_minor": 0
      },
      "text/plain": [
       "Calculating Metrics:   0%|          | 0/4 [00:00<?, ?it/s]"
      ]
     },
     "metadata": {},
     "output_type": "display_data"
    },
    {
     "data": {
      "application/vnd.jupyter.widget-view+json": {
       "model_id": "3fa9afb0a0d749708293467b8e356d4e",
       "version_major": 2,
       "version_minor": 0
      },
      "text/plain": [
       "Calculating Metrics:   0%|          | 0/4 [00:00<?, ?it/s]"
      ]
     },
     "metadata": {},
     "output_type": "display_data"
    },
    {
     "data": {
      "application/vnd.jupyter.widget-view+json": {
       "model_id": "a82b1da32e1f43d693728c37d0c65ab6",
       "version_major": 2,
       "version_minor": 0
      },
      "text/plain": [
       "Calculating Metrics:   0%|          | 0/6 [00:00<?, ?it/s]"
      ]
     },
     "metadata": {},
     "output_type": "display_data"
    },
    {
     "data": {
      "application/vnd.jupyter.widget-view+json": {
       "model_id": "8c8420a526094cfc9aa87cd401d5aa4a",
       "version_major": 2,
       "version_minor": 0
      },
      "text/plain": [
       "Calculating Metrics:   0%|          | 0/6 [00:00<?, ?it/s]"
      ]
     },
     "metadata": {},
     "output_type": "display_data"
    },
    {
     "data": {
      "application/vnd.jupyter.widget-view+json": {
       "model_id": "75ff31f7e1924657b2567dbe54cfa3ab",
       "version_major": 2,
       "version_minor": 0
      },
      "text/plain": [
       "Calculating Metrics:   0%|          | 0/4 [00:00<?, ?it/s]"
      ]
     },
     "metadata": {},
     "output_type": "display_data"
    },
    {
     "data": {
      "application/vnd.jupyter.widget-view+json": {
       "model_id": "5af62b5ec43446dca35ba59832e93f27",
       "version_major": 2,
       "version_minor": 0
      },
      "text/plain": [
       "Calculating Metrics:   0%|          | 0/4 [00:00<?, ?it/s]"
      ]
     },
     "metadata": {},
     "output_type": "display_data"
    },
    {
     "data": {
      "application/vnd.jupyter.widget-view+json": {
       "model_id": "62d5b0d002c14e2880de101f623da104",
       "version_major": 2,
       "version_minor": 0
      },
      "text/plain": [
       "Calculating Metrics:   0%|          | 0/4 [00:00<?, ?it/s]"
      ]
     },
     "metadata": {},
     "output_type": "display_data"
    },
    {
     "data": {
      "application/vnd.jupyter.widget-view+json": {
       "model_id": "b7fa6398bc764cedae7a42719b13739d",
       "version_major": 2,
       "version_minor": 0
      },
      "text/plain": [
       "Calculating Metrics:   0%|          | 0/4 [00:00<?, ?it/s]"
      ]
     },
     "metadata": {},
     "output_type": "display_data"
    },
    {
     "data": {
      "application/vnd.jupyter.widget-view+json": {
       "model_id": "6f38c57ad11949dc90e411b4df4a6616",
       "version_major": 2,
       "version_minor": 0
      },
      "text/plain": [
       "Calculating Metrics:   0%|          | 0/4 [00:00<?, ?it/s]"
      ]
     },
     "metadata": {},
     "output_type": "display_data"
    },
    {
     "data": {
      "application/vnd.jupyter.widget-view+json": {
       "model_id": "c88cdf632b0f4557b5a5f47d0103335a",
       "version_major": 2,
       "version_minor": 0
      },
      "text/plain": [
       "Calculating Metrics:   0%|          | 0/4 [00:00<?, ?it/s]"
      ]
     },
     "metadata": {},
     "output_type": "display_data"
    },
    {
     "data": {
      "application/vnd.jupyter.widget-view+json": {
       "model_id": "2e5b4bf8d76048268e735f6a098cc42a",
       "version_major": 2,
       "version_minor": 0
      },
      "text/plain": [
       "Calculating Metrics:   0%|          | 0/4 [00:00<?, ?it/s]"
      ]
     },
     "metadata": {},
     "output_type": "display_data"
    },
    {
     "data": {
      "application/vnd.jupyter.widget-view+json": {
       "model_id": "7163e131fd4143c3908a6caed9d05d87",
       "version_major": 2,
       "version_minor": 0
      },
      "text/plain": [
       "Calculating Metrics:   0%|          | 0/2 [00:00<?, ?it/s]"
      ]
     },
     "metadata": {},
     "output_type": "display_data"
    },
    {
     "data": {
      "application/vnd.jupyter.widget-view+json": {
       "model_id": "30d4217fff694e22a172b40cab8d1102",
       "version_major": 2,
       "version_minor": 0
      },
      "text/plain": [
       "Calculating Metrics:   0%|          | 0/1 [00:00<?, ?it/s]"
      ]
     },
     "metadata": {},
     "output_type": "display_data"
    },
    {
     "data": {
      "application/vnd.jupyter.widget-view+json": {
       "model_id": "7f5665ab986742979eecc8dca2f39e04",
       "version_major": 2,
       "version_minor": 0
      },
      "text/plain": [
       "Profiling Dataset:         0%|          | 0/0 [00:00<?, ?it/s]"
      ]
     },
     "metadata": {},
     "output_type": "display_data"
    },
    {
     "data": {
      "application/vnd.jupyter.widget-view+json": {
       "model_id": "4526d97f5be1426cadc9afc97a14bcc5",
       "version_major": 2,
       "version_minor": 0
      },
      "text/plain": [
       "Calculating Metrics:   0%|          | 0/2 [00:00<?, ?it/s]"
      ]
     },
     "metadata": {},
     "output_type": "display_data"
    },
    {
     "data": {
      "application/vnd.jupyter.widget-view+json": {
       "model_id": "86b96ae6770347e1ad5e55c8af8990b6",
       "version_major": 2,
       "version_minor": 0
      },
      "text/plain": [
       "Calculating Metrics:   0%|          | 0/1 [00:00<?, ?it/s]"
      ]
     },
     "metadata": {},
     "output_type": "display_data"
    },
    {
     "data": {
      "application/vnd.jupyter.widget-view+json": {
       "model_id": "66f25081fa244e8192957fc5ea42567e",
       "version_major": 2,
       "version_minor": 0
      },
      "text/plain": [
       "Profiling Dataset:         0%|          | 0/2 [00:00<?, ?it/s]"
      ]
     },
     "metadata": {},
     "output_type": "display_data"
    },
    {
     "data": {
      "application/vnd.jupyter.widget-view+json": {
       "model_id": "33d0e8fbb2f3402793446d7fd37276ea",
       "version_major": 2,
       "version_minor": 0
      },
      "text/plain": [
       "Calculating Metrics:   0%|          | 0/4 [00:00<?, ?it/s]"
      ]
     },
     "metadata": {},
     "output_type": "display_data"
    },
    {
     "data": {
      "application/vnd.jupyter.widget-view+json": {
       "model_id": "fa2cbc77bbdb42f0832c24ef12a53d4a",
       "version_major": 2,
       "version_minor": 0
      },
      "text/plain": [
       "Calculating Metrics:   0%|          | 0/4 [00:00<?, ?it/s]"
      ]
     },
     "metadata": {},
     "output_type": "display_data"
    },
    {
     "data": {
      "application/vnd.jupyter.widget-view+json": {
       "model_id": "1fff5fefd33d447d96dc4b985180e69f",
       "version_major": 2,
       "version_minor": 0
      },
      "text/plain": [
       "Calculating Metrics:   0%|          | 0/6 [00:00<?, ?it/s]"
      ]
     },
     "metadata": {},
     "output_type": "display_data"
    },
    {
     "data": {
      "application/vnd.jupyter.widget-view+json": {
       "model_id": "5163531e14294aa3a861237aa25a76b9",
       "version_major": 2,
       "version_minor": 0
      },
      "text/plain": [
       "Calculating Metrics:   0%|          | 0/23 [00:00<?, ?it/s]"
      ]
     },
     "metadata": {},
     "output_type": "display_data"
    },
    {
     "data": {
      "application/vnd.jupyter.widget-view+json": {
       "model_id": "6182a8bcd13b40ec83ccf2dec8a6092c",
       "version_major": 2,
       "version_minor": 0
      },
      "text/plain": [
       "Calculating Metrics:   0%|          | 0/4 [00:00<?, ?it/s]"
      ]
     },
     "metadata": {},
     "output_type": "display_data"
    },
    {
     "data": {
      "application/vnd.jupyter.widget-view+json": {
       "model_id": "bd54d150c4e3423bb28da73293e10425",
       "version_major": 2,
       "version_minor": 0
      },
      "text/plain": [
       "Calculating Metrics:   0%|          | 0/4 [00:00<?, ?it/s]"
      ]
     },
     "metadata": {},
     "output_type": "display_data"
    },
    {
     "data": {
      "application/vnd.jupyter.widget-view+json": {
       "model_id": "609b58c4701d4034a778f0debf05a0b5",
       "version_major": 2,
       "version_minor": 0
      },
      "text/plain": [
       "Calculating Metrics:   0%|          | 0/6 [00:00<?, ?it/s]"
      ]
     },
     "metadata": {},
     "output_type": "display_data"
    },
    {
     "data": {
      "application/vnd.jupyter.widget-view+json": {
       "model_id": "77c37044f8ef44a8a1f5ee484142c694",
       "version_major": 2,
       "version_minor": 0
      },
      "text/plain": [
       "Calculating Metrics:   0%|          | 0/23 [00:00<?, ?it/s]"
      ]
     },
     "metadata": {},
     "output_type": "display_data"
    },
    {
     "data": {
      "application/vnd.jupyter.widget-view+json": {
       "model_id": "8fbde1f1deaa442698ada6625b7a4536",
       "version_major": 2,
       "version_minor": 0
      },
      "text/plain": [
       "Calculating Metrics:   0%|          | 0/2 [00:00<?, ?it/s]"
      ]
     },
     "metadata": {},
     "output_type": "display_data"
    },
    {
     "data": {
      "application/vnd.jupyter.widget-view+json": {
       "model_id": "11eae05507604b80b0c8ade96632e2bd",
       "version_major": 2,
       "version_minor": 0
      },
      "text/plain": [
       "Calculating Metrics:   0%|          | 0/1 [00:00<?, ?it/s]"
      ]
     },
     "metadata": {},
     "output_type": "display_data"
    },
    {
     "data": {
      "application/vnd.jupyter.widget-view+json": {
       "model_id": "cdbf73ae7f384a6eb5c0526f680561c3",
       "version_major": 2,
       "version_minor": 0
      },
      "text/plain": [
       "Calculating Metrics:   0%|          | 0/9 [00:00<?, ?it/s]"
      ]
     },
     "metadata": {},
     "output_type": "display_data"
    },
    {
     "data": {
      "application/vnd.jupyter.widget-view+json": {
       "model_id": "e14108ce18834abeb8ee92586e6f9af5",
       "version_major": 2,
       "version_minor": 0
      },
      "text/plain": [
       "Profiling Dataset:         0%|          | 0/4 [00:00<?, ?it/s]"
      ]
     },
     "metadata": {},
     "output_type": "display_data"
    },
    {
     "data": {
      "application/vnd.jupyter.widget-view+json": {
       "model_id": "1005a5f0ca8444858869184286602d2a",
       "version_major": 2,
       "version_minor": 0
      },
      "text/plain": [
       "Calculating Metrics:   0%|          | 0/4 [00:00<?, ?it/s]"
      ]
     },
     "metadata": {},
     "output_type": "display_data"
    },
    {
     "data": {
      "application/vnd.jupyter.widget-view+json": {
       "model_id": "f39c88f6f0f5429399c487b4b62ce6aa",
       "version_major": 2,
       "version_minor": 0
      },
      "text/plain": [
       "Calculating Metrics:   0%|          | 0/4 [00:00<?, ?it/s]"
      ]
     },
     "metadata": {},
     "output_type": "display_data"
    },
    {
     "data": {
      "application/vnd.jupyter.widget-view+json": {
       "model_id": "3ddd9691dd5d430ab45422ff54cd7710",
       "version_major": 2,
       "version_minor": 0
      },
      "text/plain": [
       "Calculating Metrics:   0%|          | 0/4 [00:00<?, ?it/s]"
      ]
     },
     "metadata": {},
     "output_type": "display_data"
    },
    {
     "data": {
      "application/vnd.jupyter.widget-view+json": {
       "model_id": "363e85b34e574ff88f06ca2d9aa63547",
       "version_major": 2,
       "version_minor": 0
      },
      "text/plain": [
       "Calculating Metrics:   0%|          | 0/7 [00:00<?, ?it/s]"
      ]
     },
     "metadata": {},
     "output_type": "display_data"
    },
    {
     "data": {
      "application/vnd.jupyter.widget-view+json": {
       "model_id": "f19a4e19f0a441bea5e09a970ab12503",
       "version_major": 2,
       "version_minor": 0
      },
      "text/plain": [
       "Calculating Metrics:   0%|          | 0/4 [00:00<?, ?it/s]"
      ]
     },
     "metadata": {},
     "output_type": "display_data"
    },
    {
     "data": {
      "application/vnd.jupyter.widget-view+json": {
       "model_id": "4f96ba52208e4b23a83f8828bb9bd72d",
       "version_major": 2,
       "version_minor": 0
      },
      "text/plain": [
       "Calculating Metrics:   0%|          | 0/4 [00:00<?, ?it/s]"
      ]
     },
     "metadata": {},
     "output_type": "display_data"
    },
    {
     "data": {
      "application/vnd.jupyter.widget-view+json": {
       "model_id": "d0ff03f0a23b48619479f48336342ba2",
       "version_major": 2,
       "version_minor": 0
      },
      "text/plain": [
       "Calculating Metrics:   0%|          | 0/4 [00:00<?, ?it/s]"
      ]
     },
     "metadata": {},
     "output_type": "display_data"
    },
    {
     "data": {
      "application/vnd.jupyter.widget-view+json": {
       "model_id": "7519ae779ce64b1a8beca04409fd3559",
       "version_major": 2,
       "version_minor": 0
      },
      "text/plain": [
       "Calculating Metrics:   0%|          | 0/7 [00:00<?, ?it/s]"
      ]
     },
     "metadata": {},
     "output_type": "display_data"
    },
    {
     "data": {
      "application/vnd.jupyter.widget-view+json": {
       "model_id": "179cbf1fff6e4d99a26b96e4da912751",
       "version_major": 2,
       "version_minor": 0
      },
      "text/plain": [
       "Calculating Metrics:   0%|          | 0/4 [00:00<?, ?it/s]"
      ]
     },
     "metadata": {},
     "output_type": "display_data"
    },
    {
     "data": {
      "application/vnd.jupyter.widget-view+json": {
       "model_id": "34923262b0814f07b883f8b90e7500a2",
       "version_major": 2,
       "version_minor": 0
      },
      "text/plain": [
       "Calculating Metrics:   0%|          | 0/4 [00:00<?, ?it/s]"
      ]
     },
     "metadata": {},
     "output_type": "display_data"
    },
    {
     "data": {
      "application/vnd.jupyter.widget-view+json": {
       "model_id": "fa7c9c49afa24d2c87c509ab7375e0fd",
       "version_major": 2,
       "version_minor": 0
      },
      "text/plain": [
       "Calculating Metrics:   0%|          | 0/4 [00:00<?, ?it/s]"
      ]
     },
     "metadata": {},
     "output_type": "display_data"
    },
    {
     "data": {
      "application/vnd.jupyter.widget-view+json": {
       "model_id": "1c6319693c304c9f89ef9e8df7116551",
       "version_major": 2,
       "version_minor": 0
      },
      "text/plain": [
       "Calculating Metrics:   0%|          | 0/7 [00:00<?, ?it/s]"
      ]
     },
     "metadata": {},
     "output_type": "display_data"
    },
    {
     "data": {
      "application/vnd.jupyter.widget-view+json": {
       "model_id": "e101cbb55ae645429fb7c95adc8b44ec",
       "version_major": 2,
       "version_minor": 0
      },
      "text/plain": [
       "Calculating Metrics:   0%|          | 0/4 [00:00<?, ?it/s]"
      ]
     },
     "metadata": {},
     "output_type": "display_data"
    },
    {
     "data": {
      "application/vnd.jupyter.widget-view+json": {
       "model_id": "afcb0ad655bd4b4fa5d9c048759b0c63",
       "version_major": 2,
       "version_minor": 0
      },
      "text/plain": [
       "Calculating Metrics:   0%|          | 0/4 [00:00<?, ?it/s]"
      ]
     },
     "metadata": {},
     "output_type": "display_data"
    },
    {
     "data": {
      "application/vnd.jupyter.widget-view+json": {
       "model_id": "eafa69fc721240aaa27803e3c856e2b3",
       "version_major": 2,
       "version_minor": 0
      },
      "text/plain": [
       "Calculating Metrics:   0%|          | 0/4 [00:00<?, ?it/s]"
      ]
     },
     "metadata": {},
     "output_type": "display_data"
    },
    {
     "data": {
      "application/vnd.jupyter.widget-view+json": {
       "model_id": "0afc8097ed484efcad831f60c4e84f88",
       "version_major": 2,
       "version_minor": 0
      },
      "text/plain": [
       "Calculating Metrics:   0%|          | 0/7 [00:00<?, ?it/s]"
      ]
     },
     "metadata": {},
     "output_type": "display_data"
    }
   ],
   "source": [
    "result = context.assistants.onboarding.run(\n",
    "    batch_request=batch_request,\n",
    "    exclude_column_names=exclude_column_names,\n",
    ")\n",
    "validator.expectation_suite = result.get_expectation_suite(\n",
    "    expectation_suite_name=expectation_suite_name\n",
    ")"
   ]
  },
  {
   "cell_type": "markdown",
   "metadata": {},
   "source": [
    "#### Saving the draft Expectation Suite as a JSON file and building the Data Docs site to review the suite"
   ]
  },
  {
   "cell_type": "code",
   "execution_count": 17,
   "metadata": {},
   "outputs": [
    {
     "name": "stdout",
     "output_type": "stream",
     "text": [
      "2024-09-22T14:27:07+0200 - INFO - \t52 expectation(s) included in expectation_suite.\n",
      "{\n",
      "  \"expectation_suite_name\": \"southwest_passengers_suite\",\n",
      "  \"meta\": {\n",
      "    \"great_expectations_version\": \"0.18.13\",\n",
      "    \"citations\": [\n",
      "      {\n",
      "        \"citation_date\": \"2024-09-22T12:26:52.219104Z\",\n",
      "        \"comment\": \"Created by effective Rule-Based Profiler of OnboardingDataAssistant with the configuration included.\\n\"\n",
      "      }\n",
      "    ]\n",
      "  },\n",
      "  \"expectations\": [\n",
      "    {\n",
      "      \"expectation_type\": \"expect_table_row_count_to_be_between\",\n",
      "      \"kwargs\": {\n",
      "        \"min_value\": 232,\n",
      "        \"max_value\": 232\n",
      "      },\n",
      "      \"meta\": {\n",
      "        \"profiler_details\": {\n",
      "          \"metric_configuration\": {\n",
      "            \"metric_name\": \"table.row_count\",\n",
      "            \"domain_kwargs\": {},\n",
      "            \"metric_value_kwargs\": null\n",
      "          },\n",
      "          \"num_batches\": 1\n",
      "        }\n",
      "      }\n",
      "    },\n",
      "    {\n",
      "      \"expectation_type\": \"expect_table_columns_to_match_set\",\n",
      "      \"kwargs\": {\n",
      "        \"column_set\": [\n",
      "          \"AIRCRAFT_TYPE\",\n",
      "          \"DEPARTURES_PERFORMED\",\n",
      "          \"AIRCRAFT_GROUP\",\n",
      "          \"UNIQUE_CARRIER_NAME\",\n",
      "          \"SEATS\",\n",
      "          \"PASSENGERS\",\n",
      "          \"YEAR\",\n",
      "          \"MONTH\",\n",
      "          \"MAIL\",\n",
      "          \"SEATS_PER_FLIGHT\",\n",
      "          \"UNIQUE_CARRIER\",\n",
      "          \"AV_PASSENGERS_PER_FLIGHT\",\n",
      "          \"ORIGIN\",\n",
      "          \"FREIGHT\",\n",
      "          \"DEST\"\n",
      "        ],\n",
      "        \"exact_match\": null\n",
      "      },\n",
      "      \"meta\": {\n",
      "        \"profiler_details\": {\n",
      "          \"success_ratio\": 1.0\n",
      "        }\n",
      "      }\n",
      "    },\n",
      "    {\n",
      "      \"expectation_type\": \"expect_column_values_to_not_be_null\",\n",
      "      \"kwargs\": {\n",
      "        \"column\": \"PASSENGERS\"\n",
      "      },\n",
      "      \"meta\": {\n",
      "        \"profiler_details\": {\n",
      "          \"metric_configuration\": {\n",
      "            \"metric_name\": \"column_values.nonnull.unexpected_count\",\n",
      "            \"domain_kwargs\": {\n",
      "              \"column\": \"PASSENGERS\"\n",
      "            },\n",
      "            \"metric_value_kwargs\": null\n",
      "          },\n",
      "          \"num_batches\": 1\n",
      "        }\n",
      "      }\n",
      "    },\n",
      "    {\n",
      "      \"expectation_type\": \"expect_column_values_to_not_be_null\",\n",
      "      \"kwargs\": {\n",
      "        \"column\": \"ORIGIN\"\n",
      "      },\n",
      "      \"meta\": {\n",
      "        \"profiler_details\": {\n",
      "          \"metric_configuration\": {\n",
      "            \"metric_name\": \"column_values.nonnull.unexpected_count\",\n",
      "            \"domain_kwargs\": {\n",
      "              \"column\": \"ORIGIN\"\n",
      "            },\n",
      "            \"metric_value_kwargs\": null\n",
      "          },\n",
      "          \"num_batches\": 1\n",
      "        }\n",
      "      }\n",
      "    },\n",
      "    {\n",
      "      \"expectation_type\": \"expect_column_values_to_not_be_null\",\n",
      "      \"kwargs\": {\n",
      "        \"column\": \"DEST\"\n",
      "      },\n",
      "      \"meta\": {\n",
      "        \"profiler_details\": {\n",
      "          \"metric_configuration\": {\n",
      "            \"metric_name\": \"column_values.nonnull.unexpected_count\",\n",
      "            \"domain_kwargs\": {\n",
      "              \"column\": \"DEST\"\n",
      "            },\n",
      "            \"metric_value_kwargs\": null\n",
      "          },\n",
      "          \"num_batches\": 1\n",
      "        }\n",
      "      }\n",
      "    },\n",
      "    {\n",
      "      \"expectation_type\": \"expect_column_values_to_not_be_null\",\n",
      "      \"kwargs\": {\n",
      "        \"column\": \"AIRCRAFT_TYPE\"\n",
      "      },\n",
      "      \"meta\": {\n",
      "        \"profiler_details\": {\n",
      "          \"metric_configuration\": {\n",
      "            \"metric_name\": \"column_values.nonnull.unexpected_count\",\n",
      "            \"domain_kwargs\": {\n",
      "              \"column\": \"AIRCRAFT_TYPE\"\n",
      "            },\n",
      "            \"metric_value_kwargs\": null\n",
      "          },\n",
      "          \"num_batches\": 1\n",
      "        }\n",
      "      }\n",
      "    },\n",
      "    {\n",
      "      \"expectation_type\": \"expect_column_values_to_not_be_null\",\n",
      "      \"kwargs\": {\n",
      "        \"column\": \"SEATS_PER_FLIGHT\"\n",
      "      },\n",
      "      \"meta\": {\n",
      "        \"profiler_details\": {\n",
      "          \"metric_configuration\": {\n",
      "            \"metric_name\": \"column_values.nonnull.unexpected_count\",\n",
      "            \"domain_kwargs\": {\n",
      "              \"column\": \"SEATS_PER_FLIGHT\"\n",
      "            },\n",
      "            \"metric_value_kwargs\": null\n",
      "          },\n",
      "          \"num_batches\": 1\n",
      "        }\n",
      "      }\n",
      "    },\n",
      "    {\n",
      "      \"expectation_type\": \"expect_column_values_to_not_be_null\",\n",
      "      \"kwargs\": {\n",
      "        \"column\": \"AV_PASSENGERS_PER_FLIGHT\"\n",
      "      },\n",
      "      \"meta\": {\n",
      "        \"profiler_details\": {\n",
      "          \"metric_configuration\": {\n",
      "            \"metric_name\": \"column_values.nonnull.unexpected_count\",\n",
      "            \"domain_kwargs\": {\n",
      "              \"column\": \"AV_PASSENGERS_PER_FLIGHT\"\n",
      "            },\n",
      "            \"metric_value_kwargs\": null\n",
      "          },\n",
      "          \"num_batches\": 1\n",
      "        }\n",
      "      }\n",
      "    },\n",
      "    {\n",
      "      \"expectation_type\": \"expect_column_min_to_be_between\",\n",
      "      \"kwargs\": {\n",
      "        \"min_value\": 49.0,\n",
      "        \"column\": \"PASSENGERS\",\n",
      "        \"strict_max\": false,\n",
      "        \"max_value\": 49.0,\n",
      "        \"strict_min\": false\n",
      "      },\n",
      "      \"meta\": {\n",
      "        \"profiler_details\": {\n",
      "          \"metric_configuration\": {\n",
      "            \"metric_name\": \"column.min\",\n",
      "            \"domain_kwargs\": {\n",
      "              \"column\": \"PASSENGERS\"\n",
      "            },\n",
      "            \"metric_value_kwargs\": null\n",
      "          },\n",
      "          \"num_batches\": 1\n",
      "        }\n",
      "      }\n",
      "    },\n",
      "    {\n",
      "      \"expectation_type\": \"expect_column_max_to_be_between\",\n",
      "      \"kwargs\": {\n",
      "        \"min_value\": 11384.0,\n",
      "        \"column\": \"PASSENGERS\",\n",
      "        \"strict_max\": false,\n",
      "        \"max_value\": 11384.0,\n",
      "        \"strict_min\": false\n",
      "      },\n",
      "      \"meta\": {\n",
      "        \"profiler_details\": {\n",
      "          \"metric_configuration\": {\n",
      "            \"metric_name\": \"column.max\",\n",
      "            \"domain_kwargs\": {\n",
      "              \"column\": \"PASSENGERS\"\n",
      "            },\n",
      "            \"metric_value_kwargs\": null\n",
      "          },\n",
      "          \"num_batches\": 1\n",
      "        }\n",
      "      }\n",
      "    },\n",
      "    {\n",
      "      \"expectation_type\": \"expect_column_values_to_be_between\",\n",
      "      \"kwargs\": {\n",
      "        \"mostly\": 1.0,\n",
      "        \"min_value\": 49.0,\n",
      "        \"column\": \"PASSENGERS\",\n",
      "        \"strict_max\": false,\n",
      "        \"max_value\": 11384.0,\n",
      "        \"strict_min\": false\n",
      "      },\n",
      "      \"meta\": {\n",
      "        \"profiler_details\": {\n",
      "          \"column_min_values_range_estimator\": {\n",
      "            \"metric_configuration\": {\n",
      "              \"metric_name\": \"column.min\",\n",
      "              \"domain_kwargs\": {\n",
      "                \"column\": \"PASSENGERS\"\n",
      "              },\n",
      "              \"metric_value_kwargs\": null\n",
      "            },\n",
      "            \"num_batches\": 1\n",
      "          },\n",
      "          \"column_max_values_range_estimator\": {\n",
      "            \"metric_configuration\": {\n",
      "              \"metric_name\": \"column.max\",\n",
      "              \"domain_kwargs\": {\n",
      "                \"column\": \"PASSENGERS\"\n",
      "              },\n",
      "              \"metric_value_kwargs\": null\n",
      "            },\n",
      "            \"num_batches\": 1\n",
      "          }\n",
      "        }\n",
      "      }\n",
      "    },\n",
      "    {\n",
      "      \"expectation_type\": \"expect_column_quantile_values_to_be_between\",\n",
      "      \"kwargs\": {\n",
      "        \"quantile_ranges\": {\n",
      "          \"quantiles\": [\n",
      "            0.25,\n",
      "            0.5,\n",
      "            0.75\n",
      "          ],\n",
      "          \"value_ranges\": [\n",
      "            [\n",
      "              335.0,\n",
      "              335.0\n",
      "            ],\n",
      "            [\n",
      "              708.0,\n",
      "              708.0\n",
      "            ],\n",
      "            [\n",
      "              2282.0,\n",
      "              2282.0\n",
      "            ]\n",
      "          ]\n",
      "        },\n",
      "        \"column\": \"PASSENGERS\",\n",
      "        \"allow_relative_error\": false\n",
      "      },\n",
      "      \"meta\": {\n",
      "        \"profiler_details\": {\n",
      "          \"metric_configuration\": {\n",
      "            \"metric_name\": \"column.quantile_values\",\n",
      "            \"domain_kwargs\": {\n",
      "              \"column\": \"PASSENGERS\"\n",
      "            },\n",
      "            \"metric_value_kwargs\": {\n",
      "              \"quantiles\": [\n",
      "                0.25,\n",
      "                0.5,\n",
      "                0.75\n",
      "              ],\n",
      "              \"allow_relative_error\": false\n",
      "            }\n",
      "          },\n",
      "          \"num_batches\": 1\n",
      "        }\n",
      "      }\n",
      "    },\n",
      "    {\n",
      "      \"expectation_type\": \"expect_column_median_to_be_between\",\n",
      "      \"kwargs\": {\n",
      "        \"min_value\": 703.5,\n",
      "        \"column\": \"PASSENGERS\",\n",
      "        \"strict_max\": false,\n",
      "        \"max_value\": 703.5,\n",
      "        \"strict_min\": false\n",
      "      },\n",
      "      \"meta\": {\n",
      "        \"profiler_details\": {\n",
      "          \"metric_configuration\": {\n",
      "            \"metric_name\": \"column.median\",\n",
      "            \"domain_kwargs\": {\n",
      "              \"column\": \"PASSENGERS\"\n",
      "            },\n",
      "            \"metric_value_kwargs\": null\n",
      "          },\n",
      "          \"num_batches\": 1\n",
      "        }\n",
      "      }\n",
      "    },\n",
      "    {\n",
      "      \"expectation_type\": \"expect_column_mean_to_be_between\",\n",
      "      \"kwargs\": {\n",
      "        \"min_value\": 1515.2931034482758,\n",
      "        \"column\": \"PASSENGERS\",\n",
      "        \"strict_max\": false,\n",
      "        \"max_value\": 1515.2931034482758,\n",
      "        \"strict_min\": false\n",
      "      },\n",
      "      \"meta\": {\n",
      "        \"profiler_details\": {\n",
      "          \"metric_configuration\": {\n",
      "            \"metric_name\": \"column.mean\",\n",
      "            \"domain_kwargs\": {\n",
      "              \"column\": \"PASSENGERS\"\n",
      "            },\n",
      "            \"metric_value_kwargs\": null\n",
      "          },\n",
      "          \"num_batches\": 1\n",
      "        }\n",
      "      }\n",
      "    },\n",
      "    {\n",
      "      \"expectation_type\": \"expect_column_stdev_to_be_between\",\n",
      "      \"kwargs\": {\n",
      "        \"min_value\": 1864.8442132501289,\n",
      "        \"column\": \"PASSENGERS\",\n",
      "        \"strict_max\": false,\n",
      "        \"max_value\": 1864.8442132501289,\n",
      "        \"strict_min\": false\n",
      "      },\n",
      "      \"meta\": {\n",
      "        \"profiler_details\": {\n",
      "          \"metric_configuration\": {\n",
      "            \"metric_name\": \"column.standard_deviation\",\n",
      "            \"domain_kwargs\": {\n",
      "              \"column\": \"PASSENGERS\"\n",
      "            },\n",
      "            \"metric_value_kwargs\": null\n",
      "          },\n",
      "          \"num_batches\": 1\n",
      "        }\n",
      "      }\n",
      "    },\n",
      "    {\n",
      "      \"expectation_type\": \"expect_column_min_to_be_between\",\n",
      "      \"kwargs\": {\n",
      "        \"min_value\": 612,\n",
      "        \"column\": \"AIRCRAFT_TYPE\",\n",
      "        \"strict_max\": false,\n",
      "        \"max_value\": 612,\n",
      "        \"strict_min\": false\n",
      "      },\n",
      "      \"meta\": {\n",
      "        \"profiler_details\": {\n",
      "          \"metric_configuration\": {\n",
      "            \"metric_name\": \"column.min\",\n",
      "            \"domain_kwargs\": {\n",
      "              \"column\": \"AIRCRAFT_TYPE\"\n",
      "            },\n",
      "            \"metric_value_kwargs\": null\n",
      "          },\n",
      "          \"num_batches\": 1\n",
      "        }\n",
      "      }\n",
      "    },\n",
      "    {\n",
      "      \"expectation_type\": \"expect_column_max_to_be_between\",\n",
      "      \"kwargs\": {\n",
      "        \"min_value\": 838,\n",
      "        \"column\": \"AIRCRAFT_TYPE\",\n",
      "        \"strict_max\": false,\n",
      "        \"max_value\": 838,\n",
      "        \"strict_min\": false\n",
      "      },\n",
      "      \"meta\": {\n",
      "        \"profiler_details\": {\n",
      "          \"metric_configuration\": {\n",
      "            \"metric_name\": \"column.max\",\n",
      "            \"domain_kwargs\": {\n",
      "              \"column\": \"AIRCRAFT_TYPE\"\n",
      "            },\n",
      "            \"metric_value_kwargs\": null\n",
      "          },\n",
      "          \"num_batches\": 1\n",
      "        }\n",
      "      }\n",
      "    },\n",
      "    {\n",
      "      \"expectation_type\": \"expect_column_values_to_be_between\",\n",
      "      \"kwargs\": {\n",
      "        \"mostly\": 1.0,\n",
      "        \"min_value\": 612,\n",
      "        \"column\": \"AIRCRAFT_TYPE\",\n",
      "        \"strict_max\": false,\n",
      "        \"max_value\": 838,\n",
      "        \"strict_min\": false\n",
      "      },\n",
      "      \"meta\": {\n",
      "        \"profiler_details\": {\n",
      "          \"column_min_values_range_estimator\": {\n",
      "            \"metric_configuration\": {\n",
      "              \"metric_name\": \"column.min\",\n",
      "              \"domain_kwargs\": {\n",
      "                \"column\": \"AIRCRAFT_TYPE\"\n",
      "              },\n",
      "              \"metric_value_kwargs\": null\n",
      "            },\n",
      "            \"num_batches\": 1\n",
      "          },\n",
      "          \"column_max_values_range_estimator\": {\n",
      "            \"metric_configuration\": {\n",
      "              \"metric_name\": \"column.max\",\n",
      "              \"domain_kwargs\": {\n",
      "                \"column\": \"AIRCRAFT_TYPE\"\n",
      "              },\n",
      "              \"metric_value_kwargs\": null\n",
      "            },\n",
      "            \"num_batches\": 1\n",
      "          }\n",
      "        }\n",
      "      }\n",
      "    },\n",
      "    {\n",
      "      \"expectation_type\": \"expect_column_quantile_values_to_be_between\",\n",
      "      \"kwargs\": {\n",
      "        \"quantile_ranges\": {\n",
      "          \"quantiles\": [\n",
      "            0.25,\n",
      "            0.5,\n",
      "            0.75\n",
      "          ],\n",
      "          \"value_ranges\": [\n",
      "            [\n",
      "              612,\n",
      "              612\n",
      "            ],\n",
      "            [\n",
      "              614,\n",
      "              614\n",
      "            ],\n",
      "            [\n",
      "              838,\n",
      "              838\n",
      "            ]\n",
      "          ]\n",
      "        },\n",
      "        \"column\": \"AIRCRAFT_TYPE\",\n",
      "        \"allow_relative_error\": false\n",
      "      },\n",
      "      \"meta\": {\n",
      "        \"profiler_details\": {\n",
      "          \"metric_configuration\": {\n",
      "            \"metric_name\": \"column.quantile_values\",\n",
      "            \"domain_kwargs\": {\n",
      "              \"column\": \"AIRCRAFT_TYPE\"\n",
      "            },\n",
      "            \"metric_value_kwargs\": {\n",
      "              \"quantiles\": [\n",
      "                0.25,\n",
      "                0.5,\n",
      "                0.75\n",
      "              ],\n",
      "              \"allow_relative_error\": false\n",
      "            }\n",
      "          },\n",
      "          \"num_batches\": 1\n",
      "        }\n",
      "      }\n",
      "    },\n",
      "    {\n",
      "      \"expectation_type\": \"expect_column_median_to_be_between\",\n",
      "      \"kwargs\": {\n",
      "        \"min_value\": 614.0,\n",
      "        \"column\": \"AIRCRAFT_TYPE\",\n",
      "        \"strict_max\": false,\n",
      "        \"max_value\": 614.0,\n",
      "        \"strict_min\": false\n",
      "      },\n",
      "      \"meta\": {\n",
      "        \"profiler_details\": {\n",
      "          \"metric_configuration\": {\n",
      "            \"metric_name\": \"column.median\",\n",
      "            \"domain_kwargs\": {\n",
      "              \"column\": \"AIRCRAFT_TYPE\"\n",
      "            },\n",
      "            \"metric_value_kwargs\": null\n",
      "          },\n",
      "          \"num_batches\": 1\n",
      "        }\n",
      "      }\n",
      "    },\n",
      "    {\n",
      "      \"expectation_type\": \"expect_column_mean_to_be_between\",\n",
      "      \"kwargs\": {\n",
      "        \"min_value\": 681.7155172413793,\n",
      "        \"column\": \"AIRCRAFT_TYPE\",\n",
      "        \"strict_max\": false,\n",
      "        \"max_value\": 681.7155172413793,\n",
      "        \"strict_min\": false\n",
      "      },\n",
      "      \"meta\": {\n",
      "        \"profiler_details\": {\n",
      "          \"metric_configuration\": {\n",
      "            \"metric_name\": \"column.mean\",\n",
      "            \"domain_kwargs\": {\n",
      "              \"column\": \"AIRCRAFT_TYPE\"\n",
      "            },\n",
      "            \"metric_value_kwargs\": null\n",
      "          },\n",
      "          \"num_batches\": 1\n",
      "        }\n",
      "      }\n",
      "    },\n",
      "    {\n",
      "      \"expectation_type\": \"expect_column_stdev_to_be_between\",\n",
      "      \"kwargs\": {\n",
      "        \"min_value\": 104.01201279559938,\n",
      "        \"column\": \"AIRCRAFT_TYPE\",\n",
      "        \"strict_max\": false,\n",
      "        \"max_value\": 104.01201279559938,\n",
      "        \"strict_min\": false\n",
      "      },\n",
      "      \"meta\": {\n",
      "        \"profiler_details\": {\n",
      "          \"metric_configuration\": {\n",
      "            \"metric_name\": \"column.standard_deviation\",\n",
      "            \"domain_kwargs\": {\n",
      "              \"column\": \"AIRCRAFT_TYPE\"\n",
      "            },\n",
      "            \"metric_value_kwargs\": null\n",
      "          },\n",
      "          \"num_batches\": 1\n",
      "        }\n",
      "      }\n",
      "    },\n",
      "    {\n",
      "      \"expectation_type\": \"expect_column_min_to_be_between\",\n",
      "      \"kwargs\": {\n",
      "        \"min_value\": 143.0,\n",
      "        \"column\": \"SEATS_PER_FLIGHT\",\n",
      "        \"strict_max\": false,\n",
      "        \"max_value\": 143.0,\n",
      "        \"strict_min\": false\n",
      "      },\n",
      "      \"meta\": {\n",
      "        \"profiler_details\": {\n",
      "          \"metric_configuration\": {\n",
      "            \"metric_name\": \"column.min\",\n",
      "            \"domain_kwargs\": {\n",
      "              \"column\": \"SEATS_PER_FLIGHT\"\n",
      "            },\n",
      "            \"metric_value_kwargs\": null\n",
      "          },\n",
      "          \"num_batches\": 1\n",
      "        }\n",
      "      }\n",
      "    },\n",
      "    {\n",
      "      \"expectation_type\": \"expect_column_max_to_be_between\",\n",
      "      \"kwargs\": {\n",
      "        \"min_value\": 299.0,\n",
      "        \"column\": \"SEATS_PER_FLIGHT\",\n",
      "        \"strict_max\": false,\n",
      "        \"max_value\": 299.0,\n",
      "        \"strict_min\": false\n",
      "      },\n",
      "      \"meta\": {\n",
      "        \"profiler_details\": {\n",
      "          \"metric_configuration\": {\n",
      "            \"metric_name\": \"column.max\",\n",
      "            \"domain_kwargs\": {\n",
      "              \"column\": \"SEATS_PER_FLIGHT\"\n",
      "            },\n",
      "            \"metric_value_kwargs\": null\n",
      "          },\n",
      "          \"num_batches\": 1\n",
      "        }\n",
      "      }\n",
      "    },\n",
      "    {\n",
      "      \"expectation_type\": \"expect_column_values_to_be_between\",\n",
      "      \"kwargs\": {\n",
      "        \"mostly\": 1.0,\n",
      "        \"min_value\": 143.0,\n",
      "        \"column\": \"SEATS_PER_FLIGHT\",\n",
      "        \"strict_max\": false,\n",
      "        \"max_value\": 299.0,\n",
      "        \"strict_min\": false\n",
      "      },\n",
      "      \"meta\": {\n",
      "        \"profiler_details\": {\n",
      "          \"column_min_values_range_estimator\": {\n",
      "            \"metric_configuration\": {\n",
      "              \"metric_name\": \"column.min\",\n",
      "              \"domain_kwargs\": {\n",
      "                \"column\": \"SEATS_PER_FLIGHT\"\n",
      "              },\n",
      "              \"metric_value_kwargs\": null\n",
      "            },\n",
      "            \"num_batches\": 1\n",
      "          },\n",
      "          \"column_max_values_range_estimator\": {\n",
      "            \"metric_configuration\": {\n",
      "              \"metric_name\": \"column.max\",\n",
      "              \"domain_kwargs\": {\n",
      "                \"column\": \"SEATS_PER_FLIGHT\"\n",
      "              },\n",
      "              \"metric_value_kwargs\": null\n",
      "            },\n",
      "            \"num_batches\": 1\n",
      "          }\n",
      "        }\n",
      "      }\n",
      "    },\n",
      "    {\n",
      "      \"expectation_type\": \"expect_column_quantile_values_to_be_between\",\n",
      "      \"kwargs\": {\n",
      "        \"quantile_ranges\": {\n",
      "          \"quantiles\": [\n",
      "            0.25,\n",
      "            0.5,\n",
      "            0.75\n",
      "          ],\n",
      "          \"value_ranges\": [\n",
      "            [\n",
      "              143.0,\n",
      "              143.0\n",
      "            ],\n",
      "            [\n",
      "              175.0,\n",
      "              175.0\n",
      "            ],\n",
      "            [\n",
      "              175.0,\n",
      "              175.0\n",
      "            ]\n",
      "          ]\n",
      "        },\n",
      "        \"column\": \"SEATS_PER_FLIGHT\",\n",
      "        \"allow_relative_error\": false\n",
      "      },\n",
      "      \"meta\": {\n",
      "        \"profiler_details\": {\n",
      "          \"metric_configuration\": {\n",
      "            \"metric_name\": \"column.quantile_values\",\n",
      "            \"domain_kwargs\": {\n",
      "              \"column\": \"SEATS_PER_FLIGHT\"\n",
      "            },\n",
      "            \"metric_value_kwargs\": {\n",
      "              \"quantiles\": [\n",
      "                0.25,\n",
      "                0.5,\n",
      "                0.75\n",
      "              ],\n",
      "              \"allow_relative_error\": false\n",
      "            }\n",
      "          },\n",
      "          \"num_batches\": 1\n",
      "        }\n",
      "      }\n",
      "    },\n",
      "    {\n",
      "      \"expectation_type\": \"expect_column_median_to_be_between\",\n",
      "      \"kwargs\": {\n",
      "        \"min_value\": 175.0,\n",
      "        \"column\": \"SEATS_PER_FLIGHT\",\n",
      "        \"strict_max\": false,\n",
      "        \"max_value\": 175.0,\n",
      "        \"strict_min\": false\n",
      "      },\n",
      "      \"meta\": {\n",
      "        \"profiler_details\": {\n",
      "          \"metric_configuration\": {\n",
      "            \"metric_name\": \"column.median\",\n",
      "            \"domain_kwargs\": {\n",
      "              \"column\": \"SEATS_PER_FLIGHT\"\n",
      "            },\n",
      "            \"metric_value_kwargs\": null\n",
      "          },\n",
      "          \"num_batches\": 1\n",
      "        }\n",
      "      }\n",
      "    },\n",
      "    {\n",
      "      \"expectation_type\": \"expect_column_mean_to_be_between\",\n",
      "      \"kwargs\": {\n",
      "        \"min_value\": 162.9655172413793,\n",
      "        \"column\": \"SEATS_PER_FLIGHT\",\n",
      "        \"strict_max\": false,\n",
      "        \"max_value\": 162.9655172413793,\n",
      "        \"strict_min\": false\n",
      "      },\n",
      "      \"meta\": {\n",
      "        \"profiler_details\": {\n",
      "          \"metric_configuration\": {\n",
      "            \"metric_name\": \"column.mean\",\n",
      "            \"domain_kwargs\": {\n",
      "              \"column\": \"SEATS_PER_FLIGHT\"\n",
      "            },\n",
      "            \"metric_value_kwargs\": null\n",
      "          },\n",
      "          \"num_batches\": 1\n",
      "        }\n",
      "      }\n",
      "    },\n",
      "    {\n",
      "      \"expectation_type\": \"expect_column_stdev_to_be_between\",\n",
      "      \"kwargs\": {\n",
      "        \"min_value\": 20.21868795417858,\n",
      "        \"column\": \"SEATS_PER_FLIGHT\",\n",
      "        \"strict_max\": false,\n",
      "        \"max_value\": 20.21868795417858,\n",
      "        \"strict_min\": false\n",
      "      },\n",
      "      \"meta\": {\n",
      "        \"profiler_details\": {\n",
      "          \"metric_configuration\": {\n",
      "            \"metric_name\": \"column.standard_deviation\",\n",
      "            \"domain_kwargs\": {\n",
      "              \"column\": \"SEATS_PER_FLIGHT\"\n",
      "            },\n",
      "            \"metric_value_kwargs\": null\n",
      "          },\n",
      "          \"num_batches\": 1\n",
      "        }\n",
      "      }\n",
      "    },\n",
      "    {\n",
      "      \"expectation_type\": \"expect_column_min_to_be_between\",\n",
      "      \"kwargs\": {\n",
      "        \"min_value\": 49.0,\n",
      "        \"column\": \"AV_PASSENGERS_PER_FLIGHT\",\n",
      "        \"strict_max\": false,\n",
      "        \"max_value\": 49.0,\n",
      "        \"strict_min\": false\n",
      "      },\n",
      "      \"meta\": {\n",
      "        \"profiler_details\": {\n",
      "          \"metric_configuration\": {\n",
      "            \"metric_name\": \"column.min\",\n",
      "            \"domain_kwargs\": {\n",
      "              \"column\": \"AV_PASSENGERS_PER_FLIGHT\"\n",
      "            },\n",
      "            \"metric_value_kwargs\": null\n",
      "          },\n",
      "          \"num_batches\": 1\n",
      "        }\n",
      "      }\n",
      "    },\n",
      "    {\n",
      "      \"expectation_type\": \"expect_column_max_to_be_between\",\n",
      "      \"kwargs\": {\n",
      "        \"min_value\": 173.0,\n",
      "        \"column\": \"AV_PASSENGERS_PER_FLIGHT\",\n",
      "        \"strict_max\": false,\n",
      "        \"max_value\": 173.0,\n",
      "        \"strict_min\": false\n",
      "      },\n",
      "      \"meta\": {\n",
      "        \"profiler_details\": {\n",
      "          \"metric_configuration\": {\n",
      "            \"metric_name\": \"column.max\",\n",
      "            \"domain_kwargs\": {\n",
      "              \"column\": \"AV_PASSENGERS_PER_FLIGHT\"\n",
      "            },\n",
      "            \"metric_value_kwargs\": null\n",
      "          },\n",
      "          \"num_batches\": 1\n",
      "        }\n",
      "      }\n",
      "    },\n",
      "    {\n",
      "      \"expectation_type\": \"expect_column_values_to_be_between\",\n",
      "      \"kwargs\": {\n",
      "        \"mostly\": 1.0,\n",
      "        \"min_value\": 49.0,\n",
      "        \"column\": \"AV_PASSENGERS_PER_FLIGHT\",\n",
      "        \"strict_max\": false,\n",
      "        \"max_value\": 173.0,\n",
      "        \"strict_min\": false\n",
      "      },\n",
      "      \"meta\": {\n",
      "        \"profiler_details\": {\n",
      "          \"column_min_values_range_estimator\": {\n",
      "            \"metric_configuration\": {\n",
      "              \"metric_name\": \"column.min\",\n",
      "              \"domain_kwargs\": {\n",
      "                \"column\": \"AV_PASSENGERS_PER_FLIGHT\"\n",
      "              },\n",
      "              \"metric_value_kwargs\": null\n",
      "            },\n",
      "            \"num_batches\": 1\n",
      "          },\n",
      "          \"column_max_values_range_estimator\": {\n",
      "            \"metric_configuration\": {\n",
      "              \"metric_name\": \"column.max\",\n",
      "              \"domain_kwargs\": {\n",
      "                \"column\": \"AV_PASSENGERS_PER_FLIGHT\"\n",
      "              },\n",
      "              \"metric_value_kwargs\": null\n",
      "            },\n",
      "            \"num_batches\": 1\n",
      "          }\n",
      "        }\n",
      "      }\n",
      "    },\n",
      "    {\n",
      "      \"expectation_type\": \"expect_column_quantile_values_to_be_between\",\n",
      "      \"kwargs\": {\n",
      "        \"quantile_ranges\": {\n",
      "          \"quantiles\": [\n",
      "            0.25,\n",
      "            0.5,\n",
      "            0.75\n",
      "          ],\n",
      "          \"value_ranges\": [\n",
      "            [\n",
      "              124.7,\n",
      "              124.7\n",
      "            ],\n",
      "            [\n",
      "              137.9,\n",
      "              137.9\n",
      "            ],\n",
      "            [\n",
      "              153.33,\n",
      "              153.33\n",
      "            ]\n",
      "          ]\n",
      "        },\n",
      "        \"column\": \"AV_PASSENGERS_PER_FLIGHT\",\n",
      "        \"allow_relative_error\": false\n",
      "      },\n",
      "      \"meta\": {\n",
      "        \"profiler_details\": {\n",
      "          \"metric_configuration\": {\n",
      "            \"metric_name\": \"column.quantile_values\",\n",
      "            \"domain_kwargs\": {\n",
      "              \"column\": \"AV_PASSENGERS_PER_FLIGHT\"\n",
      "            },\n",
      "            \"metric_value_kwargs\": {\n",
      "              \"quantiles\": [\n",
      "                0.25,\n",
      "                0.5,\n",
      "                0.75\n",
      "              ],\n",
      "              \"allow_relative_error\": false\n",
      "            }\n",
      "          },\n",
      "          \"num_batches\": 1\n",
      "        }\n",
      "      }\n",
      "    },\n",
      "    {\n",
      "      \"expectation_type\": \"expect_column_median_to_be_between\",\n",
      "      \"kwargs\": {\n",
      "        \"min_value\": 137.825,\n",
      "        \"column\": \"AV_PASSENGERS_PER_FLIGHT\",\n",
      "        \"strict_max\": false,\n",
      "        \"max_value\": 137.825,\n",
      "        \"strict_min\": false\n",
      "      },\n",
      "      \"meta\": {\n",
      "        \"profiler_details\": {\n",
      "          \"metric_configuration\": {\n",
      "            \"metric_name\": \"column.median\",\n",
      "            \"domain_kwargs\": {\n",
      "              \"column\": \"AV_PASSENGERS_PER_FLIGHT\"\n",
      "            },\n",
      "            \"metric_value_kwargs\": null\n",
      "          },\n",
      "          \"num_batches\": 1\n",
      "        }\n",
      "      }\n",
      "    },\n",
      "    {\n",
      "      \"expectation_type\": \"expect_column_mean_to_be_between\",\n",
      "      \"kwargs\": {\n",
      "        \"min_value\": 135.86836206896552,\n",
      "        \"column\": \"AV_PASSENGERS_PER_FLIGHT\",\n",
      "        \"strict_max\": false,\n",
      "        \"max_value\": 135.86836206896552,\n",
      "        \"strict_min\": false\n",
      "      },\n",
      "      \"meta\": {\n",
      "        \"profiler_details\": {\n",
      "          \"metric_configuration\": {\n",
      "            \"metric_name\": \"column.mean\",\n",
      "            \"domain_kwargs\": {\n",
      "              \"column\": \"AV_PASSENGERS_PER_FLIGHT\"\n",
      "            },\n",
      "            \"metric_value_kwargs\": null\n",
      "          },\n",
      "          \"num_batches\": 1\n",
      "        }\n",
      "      }\n",
      "    },\n",
      "    {\n",
      "      \"expectation_type\": \"expect_column_stdev_to_be_between\",\n",
      "      \"kwargs\": {\n",
      "        \"min_value\": 22.994313392398112,\n",
      "        \"column\": \"AV_PASSENGERS_PER_FLIGHT\",\n",
      "        \"strict_max\": false,\n",
      "        \"max_value\": 22.994313392398112,\n",
      "        \"strict_min\": false\n",
      "      },\n",
      "      \"meta\": {\n",
      "        \"profiler_details\": {\n",
      "          \"metric_configuration\": {\n",
      "            \"metric_name\": \"column.standard_deviation\",\n",
      "            \"domain_kwargs\": {\n",
      "              \"column\": \"AV_PASSENGERS_PER_FLIGHT\"\n",
      "            },\n",
      "            \"metric_value_kwargs\": null\n",
      "          },\n",
      "          \"num_batches\": 1\n",
      "        }\n",
      "      }\n",
      "    },\n",
      "    {\n",
      "      \"expectation_type\": \"expect_column_value_lengths_to_be_between\",\n",
      "      \"kwargs\": {\n",
      "        \"mostly\": 1.0,\n",
      "        \"min_value\": 3,\n",
      "        \"column\": \"ORIGIN\",\n",
      "        \"strict_max\": false,\n",
      "        \"max_value\": 3,\n",
      "        \"strict_min\": false\n",
      "      },\n",
      "      \"meta\": {\n",
      "        \"profiler_details\": {\n",
      "          \"column_min_length_range_estimator\": {\n",
      "            \"metric_configuration\": {\n",
      "              \"metric_name\": \"column_values.length.min\",\n",
      "              \"domain_kwargs\": {\n",
      "                \"column\": \"ORIGIN\"\n",
      "              },\n",
      "              \"metric_value_kwargs\": null\n",
      "            },\n",
      "            \"num_batches\": 1\n",
      "          },\n",
      "          \"column_max_length_range_estimator\": {\n",
      "            \"metric_configuration\": {\n",
      "              \"metric_name\": \"column_values.length.max\",\n",
      "              \"domain_kwargs\": {\n",
      "                \"column\": \"ORIGIN\"\n",
      "              },\n",
      "              \"metric_value_kwargs\": null\n",
      "            },\n",
      "            \"num_batches\": 1\n",
      "          }\n",
      "        }\n",
      "      }\n",
      "    },\n",
      "    {\n",
      "      \"expectation_type\": \"expect_column_values_to_match_regex\",\n",
      "      \"kwargs\": {\n",
      "        \"mostly\": 1.0,\n",
      "        \"column\": \"ORIGIN\",\n",
      "        \"regex\": \"[A-Za-z0-9\\\\.,;:!?()\\\\\\\"'%\\\\-]+\"\n",
      "      },\n",
      "      \"meta\": {\n",
      "        \"profiler_details\": {\n",
      "          \"success_ratio\": 1.0,\n",
      "          \"evaluated_regexes\": {\n",
      "            \"[A-Za-z0-9\\\\.,;:!?()\\\\\\\"'%\\\\-]+\": 1.0,\n",
      "            \"\\\\d+\": 0.0,\n",
      "            \"(?:25[0-5]|2[0-4]\\\\d|[01]\\\\d{2}|\\\\d{1,2})(?:.(?:25[0-5]|2[0-4]\\\\d|[01]\\\\d{2}|\\\\d{1,2})){3}\": 0.0,\n",
      "            \"\\\\b[0-9a-fA-F]{8}\\\\b-[0-9a-fA-F]{4}-[0-5][0-9a-fA-F]{3}-[089ab][0-9a-fA-F]{3}-\\\\b[0-9a-fA-F]{12}\\\\b \": 0.0,\n",
      "            \"^\\\\s+\": 0.0,\n",
      "            \"<\\\\/?(?:p|a|b|img)(?: \\\\/)?>\": 0.0,\n",
      "            \"-?\\\\d+\": 0.0,\n",
      "            \"\\\\s+$\": 0.0,\n",
      "            \"-?\\\\d+(?:\\\\.\\\\d*)?\": 0.0,\n",
      "            \"https?:\\\\/\\\\/(?:www\\\\.)?[-a-zA-Z0-9@:%._\\\\+~#=]{2,255}\\\\.[a-z]{2,6}\\\\b(?:[-a-zA-Z0-9@:%_\\\\+.~#()?&//=]*)\": 0.0\n",
      "          }\n",
      "        }\n",
      "      }\n",
      "    },\n",
      "    {\n",
      "      \"expectation_type\": \"expect_column_value_lengths_to_be_between\",\n",
      "      \"kwargs\": {\n",
      "        \"mostly\": 1.0,\n",
      "        \"min_value\": 3,\n",
      "        \"column\": \"DEST\",\n",
      "        \"strict_max\": false,\n",
      "        \"max_value\": 3,\n",
      "        \"strict_min\": false\n",
      "      },\n",
      "      \"meta\": {\n",
      "        \"profiler_details\": {\n",
      "          \"column_min_length_range_estimator\": {\n",
      "            \"metric_configuration\": {\n",
      "              \"metric_name\": \"column_values.length.min\",\n",
      "              \"domain_kwargs\": {\n",
      "                \"column\": \"DEST\"\n",
      "              },\n",
      "              \"metric_value_kwargs\": null\n",
      "            },\n",
      "            \"num_batches\": 1\n",
      "          },\n",
      "          \"column_max_length_range_estimator\": {\n",
      "            \"metric_configuration\": {\n",
      "              \"metric_name\": \"column_values.length.max\",\n",
      "              \"domain_kwargs\": {\n",
      "                \"column\": \"DEST\"\n",
      "              },\n",
      "              \"metric_value_kwargs\": null\n",
      "            },\n",
      "            \"num_batches\": 1\n",
      "          }\n",
      "        }\n",
      "      }\n",
      "    },\n",
      "    {\n",
      "      \"expectation_type\": \"expect_column_values_to_match_regex\",\n",
      "      \"kwargs\": {\n",
      "        \"mostly\": 1.0,\n",
      "        \"column\": \"DEST\",\n",
      "        \"regex\": \"[A-Za-z0-9\\\\.,;:!?()\\\\\\\"'%\\\\-]+\"\n",
      "      },\n",
      "      \"meta\": {\n",
      "        \"profiler_details\": {\n",
      "          \"success_ratio\": 1.0,\n",
      "          \"evaluated_regexes\": {\n",
      "            \"[A-Za-z0-9\\\\.,;:!?()\\\\\\\"'%\\\\-]+\": 1.0,\n",
      "            \"\\\\d+\": 0.0,\n",
      "            \"(?:25[0-5]|2[0-4]\\\\d|[01]\\\\d{2}|\\\\d{1,2})(?:.(?:25[0-5]|2[0-4]\\\\d|[01]\\\\d{2}|\\\\d{1,2})){3}\": 0.0,\n",
      "            \"\\\\b[0-9a-fA-F]{8}\\\\b-[0-9a-fA-F]{4}-[0-5][0-9a-fA-F]{3}-[089ab][0-9a-fA-F]{3}-\\\\b[0-9a-fA-F]{12}\\\\b \": 0.0,\n",
      "            \"^\\\\s+\": 0.0,\n",
      "            \"<\\\\/?(?:p|a|b|img)(?: \\\\/)?>\": 0.0,\n",
      "            \"-?\\\\d+\": 0.0,\n",
      "            \"\\\\s+$\": 0.0,\n",
      "            \"-?\\\\d+(?:\\\\.\\\\d*)?\": 0.0,\n",
      "            \"https?:\\\\/\\\\/(?:www\\\\.)?[-a-zA-Z0-9@:%._\\\\+~#=]{2,255}\\\\.[a-z]{2,6}\\\\b(?:[-a-zA-Z0-9@:%_\\\\+.~#()?&//=]*)\": 0.0\n",
      "          }\n",
      "        }\n",
      "      }\n",
      "    },\n",
      "    {\n",
      "      \"expectation_type\": \"expect_column_values_to_be_in_set\",\n",
      "      \"kwargs\": {\n",
      "        \"value_set\": [\n",
      "          \"HAV\",\n",
      "          \"NAS\",\n",
      "          \"BZE\",\n",
      "          \"AUS\",\n",
      "          \"ORD\",\n",
      "          \"SMF\",\n",
      "          \"AUA\",\n",
      "          \"SAN\",\n",
      "          \"MCI\",\n",
      "          \"IND\",\n",
      "          \"MSY\",\n",
      "          \"CZM\",\n",
      "          \"SNA\",\n",
      "          \"BWI\",\n",
      "          \"OAK\",\n",
      "          \"STL\",\n",
      "          \"MBJ\",\n",
      "          \"MCO\",\n",
      "          \"SJD\",\n",
      "          \"MDW\",\n",
      "          \"GCM\",\n",
      "          \"FLL\",\n",
      "          \"HOU\",\n",
      "          \"LIR\",\n",
      "          \"ATL\",\n",
      "          \"SAT\",\n",
      "          \"PUJ\",\n",
      "          \"BNA\",\n",
      "          \"CUN\",\n",
      "          \"PVR\",\n",
      "          \"SJO\",\n",
      "          \"DEN\",\n",
      "          \"PHX\",\n",
      "          \"PLS\",\n",
      "          \"TPA\"\n",
      "        ],\n",
      "        \"mostly\": 1.0,\n",
      "        \"column\": \"ORIGIN\"\n",
      "      },\n",
      "      \"meta\": {\n",
      "        \"profiler_details\": {\n",
      "          \"metric_configuration\": {\n",
      "            \"metric_name\": \"column.distinct_values\",\n",
      "            \"domain_kwargs\": {\n",
      "              \"column\": \"ORIGIN\"\n",
      "            },\n",
      "            \"metric_value_kwargs\": null\n",
      "          },\n",
      "          \"num_batches\": 1,\n",
      "          \"parse_strings_as_datetimes\": false\n",
      "        }\n",
      "      }\n",
      "    },\n",
      "    {\n",
      "      \"expectation_type\": \"expect_column_unique_value_count_to_be_between\",\n",
      "      \"kwargs\": {\n",
      "        \"min_value\": 35,\n",
      "        \"column\": \"ORIGIN\",\n",
      "        \"strict_max\": false,\n",
      "        \"max_value\": 35,\n",
      "        \"strict_min\": false\n",
      "      },\n",
      "      \"meta\": {\n",
      "        \"profiler_details\": {\n",
      "          \"metric_configuration\": {\n",
      "            \"metric_name\": \"column.distinct_values.count\",\n",
      "            \"domain_kwargs\": {\n",
      "              \"column\": \"ORIGIN\"\n",
      "            },\n",
      "            \"metric_value_kwargs\": null\n",
      "          },\n",
      "          \"num_batches\": 1\n",
      "        }\n",
      "      }\n",
      "    },\n",
      "    {\n",
      "      \"expectation_type\": \"expect_column_proportion_of_unique_values_to_be_between\",\n",
      "      \"kwargs\": {\n",
      "        \"min_value\": 0.15086206896551724,\n",
      "        \"column\": \"ORIGIN\",\n",
      "        \"strict_max\": false,\n",
      "        \"max_value\": 0.15086206896551724,\n",
      "        \"strict_min\": false\n",
      "      },\n",
      "      \"meta\": {\n",
      "        \"profiler_details\": {\n",
      "          \"metric_configuration\": {\n",
      "            \"metric_name\": \"column.unique_proportion\",\n",
      "            \"domain_kwargs\": {\n",
      "              \"column\": \"ORIGIN\"\n",
      "            },\n",
      "            \"metric_value_kwargs\": null\n",
      "          },\n",
      "          \"num_batches\": 1\n",
      "        }\n",
      "      }\n",
      "    },\n",
      "    {\n",
      "      \"expectation_type\": \"expect_column_values_to_be_in_set\",\n",
      "      \"kwargs\": {\n",
      "        \"value_set\": [\n",
      "          \"HAV\",\n",
      "          \"NAS\",\n",
      "          \"BZE\",\n",
      "          \"AUS\",\n",
      "          \"ORD\",\n",
      "          \"SMF\",\n",
      "          \"AUA\",\n",
      "          \"PIT\",\n",
      "          \"SAN\",\n",
      "          \"MCI\",\n",
      "          \"IND\",\n",
      "          \"MSY\",\n",
      "          \"CZM\",\n",
      "          \"SNA\",\n",
      "          \"BWI\",\n",
      "          \"OAK\",\n",
      "          \"STL\",\n",
      "          \"MBJ\",\n",
      "          \"MCO\",\n",
      "          \"SJD\",\n",
      "          \"MDW\",\n",
      "          \"GCM\",\n",
      "          \"FLL\",\n",
      "          \"HOU\",\n",
      "          \"LIR\",\n",
      "          \"ATL\",\n",
      "          \"SAT\",\n",
      "          \"PUJ\",\n",
      "          \"BNA\",\n",
      "          \"CUN\",\n",
      "          \"PVR\",\n",
      "          \"SJO\",\n",
      "          \"DEN\",\n",
      "          \"PHX\",\n",
      "          \"PLS\",\n",
      "          \"TPA\"\n",
      "        ],\n",
      "        \"mostly\": 1.0,\n",
      "        \"column\": \"DEST\"\n",
      "      },\n",
      "      \"meta\": {\n",
      "        \"profiler_details\": {\n",
      "          \"metric_configuration\": {\n",
      "            \"metric_name\": \"column.distinct_values\",\n",
      "            \"domain_kwargs\": {\n",
      "              \"column\": \"DEST\"\n",
      "            },\n",
      "            \"metric_value_kwargs\": null\n",
      "          },\n",
      "          \"num_batches\": 1,\n",
      "          \"parse_strings_as_datetimes\": false\n",
      "        }\n",
      "      }\n",
      "    },\n",
      "    {\n",
      "      \"expectation_type\": \"expect_column_unique_value_count_to_be_between\",\n",
      "      \"kwargs\": {\n",
      "        \"min_value\": 36,\n",
      "        \"column\": \"DEST\",\n",
      "        \"strict_max\": false,\n",
      "        \"max_value\": 36,\n",
      "        \"strict_min\": false\n",
      "      },\n",
      "      \"meta\": {\n",
      "        \"profiler_details\": {\n",
      "          \"metric_configuration\": {\n",
      "            \"metric_name\": \"column.distinct_values.count\",\n",
      "            \"domain_kwargs\": {\n",
      "              \"column\": \"DEST\"\n",
      "            },\n",
      "            \"metric_value_kwargs\": null\n",
      "          },\n",
      "          \"num_batches\": 1\n",
      "        }\n",
      "      }\n",
      "    },\n",
      "    {\n",
      "      \"expectation_type\": \"expect_column_proportion_of_unique_values_to_be_between\",\n",
      "      \"kwargs\": {\n",
      "        \"min_value\": 0.15517241379310345,\n",
      "        \"column\": \"DEST\",\n",
      "        \"strict_max\": false,\n",
      "        \"max_value\": 0.15517241379310345,\n",
      "        \"strict_min\": false\n",
      "      },\n",
      "      \"meta\": {\n",
      "        \"profiler_details\": {\n",
      "          \"metric_configuration\": {\n",
      "            \"metric_name\": \"column.unique_proportion\",\n",
      "            \"domain_kwargs\": {\n",
      "              \"column\": \"DEST\"\n",
      "            },\n",
      "            \"metric_value_kwargs\": null\n",
      "          },\n",
      "          \"num_batches\": 1\n",
      "        }\n",
      "      }\n",
      "    },\n",
      "    {\n",
      "      \"expectation_type\": \"expect_column_values_to_be_in_set\",\n",
      "      \"kwargs\": {\n",
      "        \"value_set\": [\n",
      "          838,\n",
      "          612,\n",
      "          614\n",
      "        ],\n",
      "        \"mostly\": 1.0,\n",
      "        \"column\": \"AIRCRAFT_TYPE\"\n",
      "      },\n",
      "      \"meta\": {\n",
      "        \"profiler_details\": {\n",
      "          \"metric_configuration\": {\n",
      "            \"metric_name\": \"column.distinct_values\",\n",
      "            \"domain_kwargs\": {\n",
      "              \"column\": \"AIRCRAFT_TYPE\"\n",
      "            },\n",
      "            \"metric_value_kwargs\": null\n",
      "          },\n",
      "          \"num_batches\": 1,\n",
      "          \"parse_strings_as_datetimes\": false\n",
      "        }\n",
      "      }\n",
      "    },\n",
      "    {\n",
      "      \"expectation_type\": \"expect_column_unique_value_count_to_be_between\",\n",
      "      \"kwargs\": {\n",
      "        \"min_value\": 3,\n",
      "        \"column\": \"AIRCRAFT_TYPE\",\n",
      "        \"strict_max\": false,\n",
      "        \"max_value\": 3,\n",
      "        \"strict_min\": false\n",
      "      },\n",
      "      \"meta\": {\n",
      "        \"profiler_details\": {\n",
      "          \"metric_configuration\": {\n",
      "            \"metric_name\": \"column.distinct_values.count\",\n",
      "            \"domain_kwargs\": {\n",
      "              \"column\": \"AIRCRAFT_TYPE\"\n",
      "            },\n",
      "            \"metric_value_kwargs\": null\n",
      "          },\n",
      "          \"num_batches\": 1\n",
      "        }\n",
      "      }\n",
      "    },\n",
      "    {\n",
      "      \"expectation_type\": \"expect_column_proportion_of_unique_values_to_be_between\",\n",
      "      \"kwargs\": {\n",
      "        \"min_value\": 0.01293103448275862,\n",
      "        \"column\": \"AIRCRAFT_TYPE\",\n",
      "        \"strict_max\": false,\n",
      "        \"max_value\": 0.01293103448275862,\n",
      "        \"strict_min\": false\n",
      "      },\n",
      "      \"meta\": {\n",
      "        \"profiler_details\": {\n",
      "          \"metric_configuration\": {\n",
      "            \"metric_name\": \"column.unique_proportion\",\n",
      "            \"domain_kwargs\": {\n",
      "              \"column\": \"AIRCRAFT_TYPE\"\n",
      "            },\n",
      "            \"metric_value_kwargs\": null\n",
      "          },\n",
      "          \"num_batches\": 1\n",
      "        }\n",
      "      }\n",
      "    },\n",
      "    {\n",
      "      \"expectation_type\": \"expect_column_values_to_be_in_set\",\n",
      "      \"kwargs\": {\n",
      "        \"value_set\": [\n",
      "          175.0,\n",
      "          299.0,\n",
      "          143.0\n",
      "        ],\n",
      "        \"mostly\": 1.0,\n",
      "        \"column\": \"SEATS_PER_FLIGHT\"\n",
      "      },\n",
      "      \"meta\": {\n",
      "        \"profiler_details\": {\n",
      "          \"metric_configuration\": {\n",
      "            \"metric_name\": \"column.distinct_values\",\n",
      "            \"domain_kwargs\": {\n",
      "              \"column\": \"SEATS_PER_FLIGHT\"\n",
      "            },\n",
      "            \"metric_value_kwargs\": null\n",
      "          },\n",
      "          \"num_batches\": 1,\n",
      "          \"parse_strings_as_datetimes\": false\n",
      "        }\n",
      "      }\n",
      "    },\n",
      "    {\n",
      "      \"expectation_type\": \"expect_column_unique_value_count_to_be_between\",\n",
      "      \"kwargs\": {\n",
      "        \"min_value\": 3,\n",
      "        \"column\": \"SEATS_PER_FLIGHT\",\n",
      "        \"strict_max\": false,\n",
      "        \"max_value\": 3,\n",
      "        \"strict_min\": false\n",
      "      },\n",
      "      \"meta\": {\n",
      "        \"profiler_details\": {\n",
      "          \"metric_configuration\": {\n",
      "            \"metric_name\": \"column.distinct_values.count\",\n",
      "            \"domain_kwargs\": {\n",
      "              \"column\": \"SEATS_PER_FLIGHT\"\n",
      "            },\n",
      "            \"metric_value_kwargs\": null\n",
      "          },\n",
      "          \"num_batches\": 1\n",
      "        }\n",
      "      }\n",
      "    },\n",
      "    {\n",
      "      \"expectation_type\": \"expect_column_proportion_of_unique_values_to_be_between\",\n",
      "      \"kwargs\": {\n",
      "        \"min_value\": 0.01293103448275862,\n",
      "        \"column\": \"SEATS_PER_FLIGHT\",\n",
      "        \"strict_max\": false,\n",
      "        \"max_value\": 0.01293103448275862,\n",
      "        \"strict_min\": false\n",
      "      },\n",
      "      \"meta\": {\n",
      "        \"profiler_details\": {\n",
      "          \"metric_configuration\": {\n",
      "            \"metric_name\": \"column.unique_proportion\",\n",
      "            \"domain_kwargs\": {\n",
      "              \"column\": \"SEATS_PER_FLIGHT\"\n",
      "            },\n",
      "            \"metric_value_kwargs\": null\n",
      "          },\n",
      "          \"num_batches\": 1\n",
      "        }\n",
      "      }\n",
      "    }\n",
      "  ],\n",
      "  \"data_asset_type\": null,\n",
      "  \"ge_cloud_id\": null\n",
      "}\n",
      "2024-09-22T14:27:07+0200 - INFO - \t52 expectation(s) included in expectation_suite.\n",
      "2024-09-22T14:27:07+0200 - INFO - \t52 expectation(s) included in expectation_suite.\n"
     ]
    },
    {
     "data": {
      "application/vnd.jupyter.widget-view+json": {
       "model_id": "6878a7d9048848b989ac7fc96695c363",
       "version_major": 2,
       "version_minor": 0
      },
      "text/plain": [
       "Calculating Metrics:   0%|          | 0/127 [00:00<?, ?it/s]"
      ]
     },
     "metadata": {},
     "output_type": "display_data"
    }
   ],
   "source": [
    "print(validator.get_expectation_suite(discard_failed_expectations=False))\n",
    "validator.save_expectation_suite(discard_failed_expectations=False)\n",
    "\n",
    "checkpoint_config = {\n",
    "    \"class_name\": \"SimpleCheckpoint\",\n",
    "    \"validations\": [\n",
    "        {\n",
    "            \"batch_request\": batch_request,\n",
    "            \"expectation_suite_name\": expectation_suite_name\n",
    "        }\n",
    "    ]\n",
    "}\n",
    "checkpoint = SimpleCheckpoint(\n",
    "    f\"{validator.active_batch_definition.data_asset_name}_{expectation_suite_name}\",\n",
    "    context,\n",
    "    **checkpoint_config\n",
    ")\n",
    "checkpoint_result = checkpoint.run()\n",
    "\n",
    "context.build_data_docs()\n",
    "\n",
    "validation_result_identifier = checkpoint_result.list_validation_result_identifiers()[0]\n",
    "context.open_data_docs(resource_identifier=validation_result_identifier)"
   ]
  }
 ],
 "metadata": {
  "kernelspec": {
   "display_name": "py38_env",
   "language": "python",
   "name": "python3"
  },
  "language_info": {
   "codemirror_mode": {
    "name": "ipython",
    "version": 3
   },
   "file_extension": ".py",
   "mimetype": "text/x-python",
   "name": "python",
   "nbconvert_exporter": "python",
   "pygments_lexer": "ipython3",
   "version": "3.8.19"
  }
 },
 "nbformat": 4,
 "nbformat_minor": 2
}
