{
 "cells": [
  {
   "cell_type": "markdown",
   "metadata": {},
   "source": [
    "# Edit and apply the Expectation Suite"
   ]
  },
  {
   "cell_type": "markdown",
   "metadata": {},
   "source": [
    "\n",
    "### Import all necessary packages and load Expectation Suite"
   ]
  },
  {
   "cell_type": "code",
   "execution_count": 1,
   "metadata": {},
   "outputs": [
    {
     "name": "stdout",
     "output_type": "stream",
     "text": [
      "Loaded ExpectationSuite \"southwest_passengers_suite\" containing 52 expectations.\n"
     ]
    }
   ],
   "source": [
    "\n",
    "import pandas as pd\n",
    "import great_expectations as gx\n",
    "from great_expectations.core.expectation_configuration import ExpectationConfiguration\n",
    "from great_expectations.data_context.types.resource_identifiers import ExpectationSuiteIdentifier\n",
    "from great_expectations.exceptions import DataContextError\n",
    "\n",
    "context = gx.get_context()\n",
    "\n",
    "\n",
    "expectation_suite_name = \"southwest_passengers_suite\"\n",
    "try:\n",
    "    suite = context.get_expectation_suite(expectation_suite_name=expectation_suite_name)\n",
    "    print(f'Loaded ExpectationSuite \"{suite.expectation_suite_name}\" containing {len(suite.expectations)} expectations.')\n",
    "except DataContextError:\n",
    "    suite = context.add_expectation_suite(expectation_suite_name=expectation_suite_name)\n",
    "    print(f'Created ExpectationSuite \"{suite.expectation_suite_name}\".')"
   ]
  },
  {
   "cell_type": "markdown",
   "metadata": {},
   "source": [
    "### Edit the Expectation Suite by adding expectations (suite.add_ecpectation) and remove suggested ones (suite.remove_expectation)"
   ]
  },
  {
   "cell_type": "markdown",
   "metadata": {},
   "source": [
    "#### Table Expectation(s)"
   ]
  },
  {
   "cell_type": "markdown",
   "metadata": {},
   "source": [
    "##### Remove table row count expectation for table"
   ]
  },
  {
   "cell_type": "code",
   "execution_count": 2,
   "metadata": {},
   "outputs": [
    {
     "data": {
      "text/plain": [
       "[{\"meta\": {\"profiler_details\": {\"metric_configuration\": {\"domain_kwargs\": {}, \"metric_name\": \"table.row_count\", \"metric_value_kwargs\": null}, \"num_batches\": 1}}, \"kwargs\": {\"max_value\": 232, \"min_value\": 232}, \"expectation_type\": \"expect_table_row_count_to_be_between\"}]"
      ]
     },
     "execution_count": 2,
     "metadata": {},
     "output_type": "execute_result"
    }
   ],
   "source": [
    "expectation_configuration = ExpectationConfiguration(**{\n",
    "  \"kwargs\": {\n",
    "    \"max_value\": 232,\n",
    "    \"min_value\": 232\n",
    "  },\n",
    "  \"expectation_type\": \"expect_table_row_count_to_be_between\",\n",
    "  \"meta\": {\n",
    "    \"profiler_details\": {\n",
    "      \"metric_configuration\": {\n",
    "        \"domain_kwargs\": {},\n",
    "        \"metric_name\": \"table.row_count\",\n",
    "        \"metric_value_kwargs\": None\n",
    "      },\n",
    "      \"num_batches\": 1\n",
    "    }\n",
    "  }\n",
    "})\n",
    "suite.remove_expectation(expectation_configuration=expectation_configuration)"
   ]
  },
  {
   "cell_type": "markdown",
   "metadata": {},
   "source": [
    "##### Add column names expectation"
   ]
  },
  {
   "cell_type": "code",
   "execution_count": 3,
   "metadata": {},
   "outputs": [
    {
     "data": {
      "text/plain": [
       "{\"meta\": {\"profiler_details\": {\"success_ratio\": 1.0}}, \"kwargs\": {\"column_set\": [\"AV_PASSENGERS_PER_FLIGHT\", \"PASSENGERS\", \"SEATS_PER_FLIGHT\", \"FREIGHT\", \"DEPARTURES_PERFORMED\", \"UNIQUE_CARRIER_NAME\", \"ORIGIN\", \"DEST\", \"SEATS\", \"AIRCRAFT_GROUP\", \"MAIL\", \"MONTH\", \"AIRCRAFT_TYPE\", \"UNIQUE_CARRIER\", \"YEAR\"]}, \"expectation_type\": \"expect_table_columns_to_match_set\"}"
      ]
     },
     "execution_count": 3,
     "metadata": {},
     "output_type": "execute_result"
    }
   ],
   "source": [
    "expectation_configuration = ExpectationConfiguration(**{\n",
    "  \"kwargs\": {\n",
    "    \"column_set\": [\n",
    "      \"AV_PASSENGERS_PER_FLIGHT\",\n",
    "      \"PASSENGERS\",\n",
    "      \"SEATS_PER_FLIGHT\",\n",
    "      \"FREIGHT\",\n",
    "      \"DEPARTURES_PERFORMED\",\n",
    "      \"UNIQUE_CARRIER_NAME\",\n",
    "      \"ORIGIN\",\n",
    "      \"DEST\",\n",
    "      \"SEATS\",\n",
    "      \"AIRCRAFT_GROUP\",\n",
    "      \"MAIL\",\n",
    "      \"MONTH\",\n",
    "      \"AIRCRAFT_TYPE\",\n",
    "      \"UNIQUE_CARRIER\",\n",
    "      \"YEAR\"\n",
    "    ]\n",
    "  },\n",
    "  \"expectation_type\": \"expect_table_columns_to_match_set\",\n",
    "  \"meta\": {\n",
    "    \"profiler_details\": {\n",
    "      \"success_ratio\": 1.0\n",
    "    }\n",
    "  }\n",
    "})\n",
    "suite.add_expectation(expectation_configuration=expectation_configuration)"
   ]
  },
  {
   "cell_type": "markdown",
   "metadata": {},
   "source": [
    "##### Add column pair value expectation"
   ]
  },
  {
   "cell_type": "code",
   "execution_count": 4,
   "metadata": {},
   "outputs": [
    {
     "data": {
      "text/plain": [
       "{\"meta\": {}, \"kwargs\": {\"column_A\": \"AIRCRAFT_TYPE\", \"column_B\": \"SEATS_PER_FLIGHT\", \"value_pairs_set\": [[612, 143], [614, 175], [838, 175]]}, \"expectation_type\": \"expect_column_pair_values_to_be_in_set\"}"
      ]
     },
     "execution_count": 4,
     "metadata": {},
     "output_type": "execute_result"
    }
   ],
   "source": [
    "expectation_configuration = ExpectationConfiguration(**{\n",
    "      \"expectation_type\": \"expect_column_pair_values_to_be_in_set\",\n",
    "      \"kwargs\": {\n",
    "        \"column_A\": \"AIRCRAFT_TYPE\",\n",
    "        \"column_B\": \"SEATS_PER_FLIGHT\",\n",
    "        \"value_pairs_set\": [\n",
    "          [\n",
    "            612,\n",
    "            143\n",
    "          ],\n",
    "          [\n",
    "            614,\n",
    "            175\n",
    "          ],\n",
    "          [\n",
    "            838,\n",
    "            175\n",
    "          ]\n",
    "        ]\n",
    "      },\n",
    "      \"meta\": {}\n",
    "  })\n",
    "suite.add_expectation(expectation_configuration=expectation_configuration)"
   ]
  },
  {
   "cell_type": "markdown",
   "metadata": {},
   "source": [
    "#### Column Expectation(s) - PASSENGERS"
   ]
  },
  {
   "cell_type": "markdown",
   "metadata": {},
   "source": [
    "##### Add values not to be null expectation"
   ]
  },
  {
   "cell_type": "code",
   "execution_count": 5,
   "metadata": {},
   "outputs": [
    {
     "data": {
      "text/plain": [
       "{\"meta\": {\"profiler_details\": {\"metric_configuration\": {\"domain_kwargs\": {\"column\": \"PASSENGERS\"}, \"metric_name\": \"column_values.nonnull.unexpected_count\", \"metric_value_kwargs\": null}, \"num_batches\": 1}}, \"kwargs\": {\"column\": \"PASSENGERS\"}, \"expectation_type\": \"expect_column_values_to_not_be_null\"}"
      ]
     },
     "execution_count": 5,
     "metadata": {},
     "output_type": "execute_result"
    }
   ],
   "source": [
    "expectation_configuration = ExpectationConfiguration(**{\n",
    "  \"expectation_type\": \"expect_column_values_to_not_be_null\",\n",
    "  \"kwargs\": {\n",
    "    \"column\": \"PASSENGERS\"\n",
    "  },\n",
    "  \"meta\": {\n",
    "    \"profiler_details\": {\n",
    "      \"metric_configuration\": {\n",
    "        \"domain_kwargs\": {\n",
    "          \"column\": \"PASSENGERS\"\n",
    "        },\n",
    "        \"metric_name\": \"column_values.nonnull.unexpected_count\",\n",
    "        \"metric_value_kwargs\": None\n",
    "      },\n",
    "      \"num_batches\": 1\n",
    "    }\n",
    "  }\n",
    "})\n",
    "suite.add_expectation(expectation_configuration=expectation_configuration)"
   ]
  },
  {
   "cell_type": "markdown",
   "metadata": {},
   "source": [
    "##### Remove min value expectation for column"
   ]
  },
  {
   "cell_type": "code",
   "execution_count": 6,
   "metadata": {},
   "outputs": [
    {
     "data": {
      "text/plain": [
       "[{\"meta\": {\"profiler_details\": {\"metric_configuration\": {\"domain_kwargs\": {\"column\": \"PASSENGERS\"}, \"metric_name\": \"column.min\", \"metric_value_kwargs\": null}, \"num_batches\": 1}}, \"kwargs\": {\"column\": \"PASSENGERS\", \"max_value\": 49.0, \"min_value\": 49.0, \"strict_max\": false, \"strict_min\": false}, \"expectation_type\": \"expect_column_min_to_be_between\"}]"
      ]
     },
     "execution_count": 6,
     "metadata": {},
     "output_type": "execute_result"
    }
   ],
   "source": [
    "expectation_configuration = ExpectationConfiguration(**{\n",
    "  \"expectation_type\": \"expect_column_min_to_be_between\",\n",
    "  \"kwargs\": {\n",
    "    \"column\": \"PASSENGERS\",\n",
    "    \"max_value\": 49.0,\n",
    "    \"min_value\": 49.0,\n",
    "    \"strict_max\": False,\n",
    "    \"strict_min\": False\n",
    "  },\n",
    "  \"meta\": {\n",
    "    \"profiler_details\": {\n",
    "      \"metric_configuration\": {\n",
    "        \"domain_kwargs\": {\n",
    "          \"column\": \"PASSENGERS\"\n",
    "        },\n",
    "        \"metric_name\": \"column.min\",\n",
    "        \"metric_value_kwargs\": None\n",
    "      },\n",
    "      \"num_batches\": 1\n",
    "    }\n",
    "  }\n",
    "})\n",
    "suite.remove_expectation(expectation_configuration=expectation_configuration)"
   ]
  },
  {
   "cell_type": "markdown",
   "metadata": {},
   "source": [
    "##### Remove max value expectation for column"
   ]
  },
  {
   "cell_type": "code",
   "execution_count": 7,
   "metadata": {},
   "outputs": [
    {
     "data": {
      "text/plain": [
       "[{\"meta\": {\"profiler_details\": {\"metric_configuration\": {\"domain_kwargs\": {\"column\": \"PASSENGERS\"}, \"metric_name\": \"column.max\", \"metric_value_kwargs\": null}, \"num_batches\": 1}}, \"kwargs\": {\"column\": \"PASSENGERS\", \"max_value\": 11384.0, \"min_value\": 11384.0, \"strict_max\": false, \"strict_min\": false}, \"expectation_type\": \"expect_column_max_to_be_between\"}]"
      ]
     },
     "execution_count": 7,
     "metadata": {},
     "output_type": "execute_result"
    }
   ],
   "source": [
    "expectation_configuration = ExpectationConfiguration(**{\n",
    "  \"expectation_type\": \"expect_column_max_to_be_between\",\n",
    "  \"kwargs\": {\n",
    "    \"column\": \"PASSENGERS\",\n",
    "    \"max_value\": 11384.0,\n",
    "    \"min_value\": 11384.0,\n",
    "    \"strict_max\": False,\n",
    "    \"strict_min\": False\n",
    "  },\n",
    "  \"meta\": {\n",
    "    \"profiler_details\": {\n",
    "      \"metric_configuration\": {\n",
    "        \"domain_kwargs\": {\n",
    "          \"column\": \"PASSENGERS\"\n",
    "        },\n",
    "        \"metric_name\": \"column.max\",\n",
    "        \"metric_value_kwargs\": None\n",
    "      },\n",
    "      \"num_batches\": 1\n",
    "    }\n",
    "  }\n",
    "})\n",
    "suite.remove_expectation(expectation_configuration=expectation_configuration)"
   ]
  },
  {
   "cell_type": "markdown",
   "metadata": {},
   "source": [
    "##### Remove value range expectation for column"
   ]
  },
  {
   "cell_type": "code",
   "execution_count": 8,
   "metadata": {},
   "outputs": [
    {
     "data": {
      "text/plain": [
       "[{\"meta\": {\"profiler_details\": {\"column_max_values_range_estimator\": {\"metric_configuration\": {\"domain_kwargs\": {\"column\": \"PASSENGERS\"}, \"metric_name\": \"column.max\", \"metric_value_kwargs\": null}, \"num_batches\": 1}, \"column_min_values_range_estimator\": {\"metric_configuration\": {\"domain_kwargs\": {\"column\": \"PASSENGERS\"}, \"metric_name\": \"column.min\", \"metric_value_kwargs\": null}, \"num_batches\": 1}}}, \"kwargs\": {\"column\": \"PASSENGERS\", \"max_value\": 11384.0, \"min_value\": 49.0, \"mostly\": 1.0, \"strict_max\": false, \"strict_min\": false}, \"expectation_type\": \"expect_column_values_to_be_between\"}]"
      ]
     },
     "execution_count": 8,
     "metadata": {},
     "output_type": "execute_result"
    }
   ],
   "source": [
    "expectation_configuration = ExpectationConfiguration(**{\n",
    "  \"expectation_type\": \"expect_column_values_to_be_between\",\n",
    "  \"kwargs\": {\n",
    "    \"column\": \"PASSENGERS\",\n",
    "    \"max_value\": 11384.0,\n",
    "    \"min_value\": 49.0,\n",
    "    \"mostly\": 1.0,\n",
    "    \"strict_max\": False,\n",
    "    \"strict_min\": False\n",
    "  },\n",
    "  \"meta\": {\n",
    "    \"profiler_details\": {\n",
    "      \"column_max_values_range_estimator\": {\n",
    "        \"metric_configuration\": {\n",
    "          \"domain_kwargs\": {\n",
    "            \"column\": \"PASSENGERS\"\n",
    "          },\n",
    "          \"metric_name\": \"column.max\",\n",
    "          \"metric_value_kwargs\": None\n",
    "        },\n",
    "        \"num_batches\": 1\n",
    "      },\n",
    "      \"column_min_values_range_estimator\": {\n",
    "        \"metric_configuration\": {\n",
    "          \"domain_kwargs\": {\n",
    "            \"column\": \"PASSENGERS\"\n",
    "          },\n",
    "          \"metric_name\": \"column.min\",\n",
    "          \"metric_value_kwargs\": None\n",
    "        },\n",
    "        \"num_batches\": 1\n",
    "      }\n",
    "    }\n",
    "  }\n",
    "})\n",
    "suite.remove_expectation(expectation_configuration=expectation_configuration)"
   ]
  },
  {
   "cell_type": "markdown",
   "metadata": {},
   "source": [
    "##### Remove quantile value expectation for column"
   ]
  },
  {
   "cell_type": "code",
   "execution_count": 9,
   "metadata": {},
   "outputs": [
    {
     "data": {
      "text/plain": [
       "[{\"meta\": {\"profiler_details\": {\"metric_configuration\": {\"domain_kwargs\": {\"column\": \"PASSENGERS\"}, \"metric_name\": \"column.quantile_values\", \"metric_value_kwargs\": {\"allow_relative_error\": false, \"quantiles\": [0.25, 0.5, 0.75]}}, \"num_batches\": 1}}, \"kwargs\": {\"allow_relative_error\": false, \"column\": \"PASSENGERS\", \"quantile_ranges\": {\"quantiles\": [0.25, 0.5, 0.75], \"value_ranges\": [[335.0, 335.0], [708.0, 708.0], [2282.0, 2282.0]]}}, \"expectation_type\": \"expect_column_quantile_values_to_be_between\"}]"
      ]
     },
     "execution_count": 9,
     "metadata": {},
     "output_type": "execute_result"
    }
   ],
   "source": [
    "expectation_configuration = ExpectationConfiguration(**{\n",
    "  \"expectation_type\": \"expect_column_quantile_values_to_be_between\",\n",
    "  \"kwargs\": {\n",
    "    \"allow_relative_error\": False,\n",
    "    \"column\": \"PASSENGERS\",\n",
    "    \"quantile_ranges\": {\n",
    "      \"quantiles\": [\n",
    "        0.25,\n",
    "        0.5,\n",
    "        0.75\n",
    "      ],\n",
    "      \"value_ranges\": [\n",
    "        [\n",
    "          335.0,\n",
    "          335.0\n",
    "        ],\n",
    "        [\n",
    "          708.0,\n",
    "          708.0\n",
    "        ],\n",
    "        [\n",
    "          2282.0,\n",
    "          2282.0\n",
    "        ]\n",
    "      ]\n",
    "    }\n",
    "  },\n",
    "  \"meta\": {\n",
    "    \"profiler_details\": {\n",
    "      \"metric_configuration\": {\n",
    "        \"domain_kwargs\": {\n",
    "          \"column\": \"PASSENGERS\"\n",
    "        },\n",
    "        \"metric_name\": \"column.quantile_values\",\n",
    "        \"metric_value_kwargs\": {\n",
    "          \"allow_relative_error\": False,\n",
    "          \"quantiles\": [\n",
    "            0.25,\n",
    "            0.5,\n",
    "            0.75\n",
    "          ]\n",
    "        }\n",
    "      },\n",
    "      \"num_batches\": 1\n",
    "    }\n",
    "  }\n",
    "})\n",
    "suite.remove_expectation(expectation_configuration=expectation_configuration)"
   ]
  },
  {
   "cell_type": "markdown",
   "metadata": {},
   "source": [
    "##### Remove median value expectation for column"
   ]
  },
  {
   "cell_type": "code",
   "execution_count": 10,
   "metadata": {},
   "outputs": [
    {
     "data": {
      "text/plain": [
       "[{\"meta\": {\"profiler_details\": {\"metric_configuration\": {\"domain_kwargs\": {\"column\": \"PASSENGERS\"}, \"metric_name\": \"column.median\", \"metric_value_kwargs\": null}, \"num_batches\": 1}}, \"kwargs\": {\"column\": \"PASSENGERS\", \"max_value\": 703.5, \"min_value\": 703.5, \"strict_max\": false, \"strict_min\": false}, \"expectation_type\": \"expect_column_median_to_be_between\"}]"
      ]
     },
     "execution_count": 10,
     "metadata": {},
     "output_type": "execute_result"
    }
   ],
   "source": [
    "expectation_configuration = ExpectationConfiguration(**{\n",
    "  \"expectation_type\": \"expect_column_median_to_be_between\",\n",
    "  \"kwargs\": {\n",
    "    \"column\": \"PASSENGERS\",\n",
    "    \"max_value\": 703.5,\n",
    "    \"min_value\": 703.5,\n",
    "    \"strict_max\": False,\n",
    "    \"strict_min\": False\n",
    "  },\n",
    "  \"meta\": {\n",
    "    \"profiler_details\": {\n",
    "      \"metric_configuration\": {\n",
    "        \"domain_kwargs\": {\n",
    "          \"column\": \"PASSENGERS\"\n",
    "        },\n",
    "        \"metric_name\": \"column.median\",\n",
    "        \"metric_value_kwargs\": None\n",
    "      },\n",
    "      \"num_batches\": 1\n",
    "    }\n",
    "  }\n",
    "})\n",
    "suite.remove_expectation(expectation_configuration=expectation_configuration)"
   ]
  },
  {
   "cell_type": "markdown",
   "metadata": {},
   "source": [
    "##### Remove mean value expectation for column"
   ]
  },
  {
   "cell_type": "code",
   "execution_count": 11,
   "metadata": {},
   "outputs": [
    {
     "data": {
      "text/plain": [
       "[{\"meta\": {\"profiler_details\": {\"metric_configuration\": {\"domain_kwargs\": {\"column\": \"PASSENGERS\"}, \"metric_name\": \"column.mean\", \"metric_value_kwargs\": null}, \"num_batches\": 1}}, \"kwargs\": {\"column\": \"PASSENGERS\", \"max_value\": 1515.2931034482758, \"min_value\": 1515.2931034482758, \"strict_max\": false, \"strict_min\": false}, \"expectation_type\": \"expect_column_mean_to_be_between\"}]"
      ]
     },
     "execution_count": 11,
     "metadata": {},
     "output_type": "execute_result"
    }
   ],
   "source": [
    "expectation_configuration = ExpectationConfiguration(**{\n",
    "  \"expectation_type\": \"expect_column_mean_to_be_between\",\n",
    "  \"kwargs\": {\n",
    "    \"column\": \"PASSENGERS\",\n",
    "    \"max_value\": 1515.2931034482758,\n",
    "    \"min_value\": 1515.2931034482758,\n",
    "    \"strict_max\": False,\n",
    "    \"strict_min\": False\n",
    "  },\n",
    "  \"meta\": {\n",
    "    \"profiler_details\": {\n",
    "      \"metric_configuration\": {\n",
    "        \"domain_kwargs\": {\n",
    "          \"column\": \"PASSENGERS\"\n",
    "        },\n",
    "        \"metric_name\": \"column.mean\",\n",
    "        \"metric_value_kwargs\": None\n",
    "      },\n",
    "      \"num_batches\": 1\n",
    "    }\n",
    "  }\n",
    "})\n",
    "suite.remove_expectation(expectation_configuration=expectation_configuration)"
   ]
  },
  {
   "cell_type": "markdown",
   "metadata": {},
   "source": [
    "##### Remove standard deviation value expectation for column"
   ]
  },
  {
   "cell_type": "code",
   "execution_count": 12,
   "metadata": {},
   "outputs": [
    {
     "data": {
      "text/plain": [
       "[{\"meta\": {\"profiler_details\": {\"metric_configuration\": {\"domain_kwargs\": {\"column\": \"PASSENGERS\"}, \"metric_name\": \"column.standard_deviation\", \"metric_value_kwargs\": null}, \"num_batches\": 1}}, \"kwargs\": {\"column\": \"PASSENGERS\", \"max_value\": 1864.8442132501289, \"min_value\": 1864.8442132501289, \"strict_max\": false, \"strict_min\": false}, \"expectation_type\": \"expect_column_stdev_to_be_between\"}]"
      ]
     },
     "execution_count": 12,
     "metadata": {},
     "output_type": "execute_result"
    }
   ],
   "source": [
    "expectation_configuration = ExpectationConfiguration(**{\n",
    "  \"expectation_type\": \"expect_column_stdev_to_be_between\",\n",
    "  \"kwargs\": {\n",
    "    \"column\": \"PASSENGERS\",\n",
    "    \"max_value\": 1864.8442132501289,\n",
    "    \"min_value\": 1864.8442132501289,\n",
    "    \"strict_max\": False,\n",
    "    \"strict_min\": False\n",
    "  },\n",
    "  \"meta\": {\n",
    "    \"profiler_details\": {\n",
    "      \"metric_configuration\": {\n",
    "        \"domain_kwargs\": {\n",
    "          \"column\": \"PASSENGERS\"\n",
    "        },\n",
    "        \"metric_name\": \"column.standard_deviation\",\n",
    "        \"metric_value_kwargs\": None\n",
    "      },\n",
    "      \"num_batches\": 1\n",
    "    }\n",
    "  }\n",
    "})\n",
    "suite.remove_expectation(expectation_configuration=expectation_configuration)"
   ]
  },
  {
   "cell_type": "markdown",
   "metadata": {},
   "source": [
    "#### Column Expectation(s) - ORIGIN"
   ]
  },
  {
   "cell_type": "markdown",
   "metadata": {},
   "source": [
    "##### Add values not to be null expectation"
   ]
  },
  {
   "cell_type": "code",
   "execution_count": 13,
   "metadata": {},
   "outputs": [
    {
     "data": {
      "text/plain": [
       "{\"meta\": {\"profiler_details\": {\"metric_configuration\": {\"domain_kwargs\": {\"column\": \"ORIGIN\"}, \"metric_name\": \"column_values.nonnull.unexpected_count\", \"metric_value_kwargs\": null}, \"num_batches\": 1}}, \"kwargs\": {\"column\": \"ORIGIN\"}, \"expectation_type\": \"expect_column_values_to_not_be_null\"}"
      ]
     },
     "execution_count": 13,
     "metadata": {},
     "output_type": "execute_result"
    }
   ],
   "source": [
    "expectation_configuration = ExpectationConfiguration(**{\n",
    "  \"expectation_type\": \"expect_column_values_to_not_be_null\",\n",
    "  \"kwargs\": {\n",
    "    \"column\": \"ORIGIN\"\n",
    "  },\n",
    "  \"meta\": {\n",
    "    \"profiler_details\": {\n",
    "      \"metric_configuration\": {\n",
    "        \"domain_kwargs\": {\n",
    "          \"column\": \"ORIGIN\"\n",
    "        },\n",
    "        \"metric_name\": \"column_values.nonnull.unexpected_count\",\n",
    "        \"metric_value_kwargs\": None\n",
    "      },\n",
    "      \"num_batches\": 1\n",
    "    }\n",
    "  }\n",
    "})\n",
    "suite.add_expectation(expectation_configuration=expectation_configuration)"
   ]
  },
  {
   "cell_type": "markdown",
   "metadata": {},
   "source": [
    "##### Add value length expectation for column"
   ]
  },
  {
   "cell_type": "code",
   "execution_count": 14,
   "metadata": {},
   "outputs": [
    {
     "data": {
      "text/plain": [
       "{\"meta\": {\"profiler_details\": {\"column_max_length_range_estimator\": {\"metric_configuration\": {\"domain_kwargs\": {\"column\": \"ORIGIN\"}, \"metric_name\": \"column_values.length.max\", \"metric_value_kwargs\": null}, \"num_batches\": 1}, \"column_min_length_range_estimator\": {\"metric_configuration\": {\"domain_kwargs\": {\"column\": \"ORIGIN\"}, \"metric_name\": \"column_values.length.min\", \"metric_value_kwargs\": null}, \"num_batches\": 1}}}, \"kwargs\": {\"column\": \"ORIGIN\", \"max_value\": 3, \"min_value\": 3, \"mostly\": 1.0, \"strict_max\": false, \"strict_min\": false}, \"expectation_type\": \"expect_column_value_lengths_to_be_between\"}"
      ]
     },
     "execution_count": 14,
     "metadata": {},
     "output_type": "execute_result"
    }
   ],
   "source": [
    "expectation_configuration = ExpectationConfiguration(**{\n",
    "  \"expectation_type\": \"expect_column_value_lengths_to_be_between\",\n",
    "  \"kwargs\": {\n",
    "    \"column\": \"ORIGIN\",\n",
    "    \"max_value\": 3,\n",
    "    \"min_value\": 3,\n",
    "    \"mostly\": 1.0,\n",
    "    \"strict_max\": False,\n",
    "    \"strict_min\": False\n",
    "  },\n",
    "  \"meta\": {\n",
    "    \"profiler_details\": {\n",
    "      \"column_max_length_range_estimator\": {\n",
    "        \"metric_configuration\": {\n",
    "          \"domain_kwargs\": {\n",
    "            \"column\": \"ORIGIN\"\n",
    "          },\n",
    "          \"metric_name\": \"column_values.length.max\",\n",
    "          \"metric_value_kwargs\": None\n",
    "        },\n",
    "        \"num_batches\": 1\n",
    "      },\n",
    "      \"column_min_length_range_estimator\": {\n",
    "        \"metric_configuration\": {\n",
    "          \"domain_kwargs\": {\n",
    "            \"column\": \"ORIGIN\"\n",
    "          },\n",
    "          \"metric_name\": \"column_values.length.min\",\n",
    "          \"metric_value_kwargs\": None\n",
    "        },\n",
    "        \"num_batches\": 1\n",
    "      }\n",
    "    }\n",
    "  }\n",
    "})\n",
    "suite.add_expectation(expectation_configuration=expectation_configuration)"
   ]
  },
  {
   "cell_type": "markdown",
   "metadata": {},
   "source": [
    "##### Remove expectation regarding characters contained in regex"
   ]
  },
  {
   "cell_type": "code",
   "execution_count": 15,
   "metadata": {},
   "outputs": [
    {
     "data": {
      "text/plain": [
       "[{\"meta\": {\"profiler_details\": {\"evaluated_regexes\": {\"(?:25[0-5]|2[0-4]\\\\d|[01]\\\\d{2}|\\\\d{1,2})(?:.(?:25[0-5]|2[0-4]\\\\d|[01]\\\\d{2}|\\\\d{1,2})){3}\": 0.0, \"-?\\\\d+\": 0.0, \"-?\\\\d+(?:\\\\.\\\\d*)?\": 0.0, \"<\\\\/?(?:p|a|b|img)(?: \\\\/)?>\": 0.0, \"[A-Za-z0-9\\\\.,;:!?()\\\\\\\"'%\\\\-]+\": 1.0, \"\\\\b[0-9a-fA-F]{8}\\\\b-[0-9a-fA-F]{4}-[0-5][0-9a-fA-F]{3}-[089ab][0-9a-fA-F]{3}-\\\\b[0-9a-fA-F]{12}\\\\b \": 0.0, \"\\\\d+\": 0.0, \"\\\\s+$\": 0.0, \"^\\\\s+\": 0.0, \"https?:\\\\/\\\\/(?:www\\\\.)?[-a-zA-Z0-9@:%._\\\\+~#=]{2,255}\\\\.[a-z]{2,6}\\\\b(?:[-a-zA-Z0-9@:%_\\\\+.~#()?&//=]*)\": 0.0}, \"success_ratio\": 1.0}}, \"kwargs\": {\"column\": \"ORIGIN\", \"mostly\": 1.0, \"regex\": \"[A-Za-z0-9\\\\.,;:!?()\\\\\\\"'%\\\\-]+\"}, \"expectation_type\": \"expect_column_values_to_match_regex\"}]"
      ]
     },
     "execution_count": 15,
     "metadata": {},
     "output_type": "execute_result"
    }
   ],
   "source": [
    "expectation_configuration = ExpectationConfiguration(**{\n",
    "  \"expectation_type\": \"expect_column_values_to_match_regex\",\n",
    "  \"kwargs\": {\n",
    "    \"column\": \"ORIGIN\",\n",
    "    \"mostly\": 1.0,\n",
    "    \"regex\": \"[A-Za-z0-9\\\\.,;:!?()\\\\\\\"'%\\\\-]+\"\n",
    "  },\n",
    "  \"meta\": {\n",
    "    \"profiler_details\": {\n",
    "      \"evaluated_regexes\": {\n",
    "        \"(?:25[0-5]|2[0-4]\\\\d|[01]\\\\d{2}|\\\\d{1,2})(?:.(?:25[0-5]|2[0-4]\\\\d|[01]\\\\d{2}|\\\\d{1,2})){3}\": 0.0,\n",
    "        \"-?\\\\d+\": 0.0,\n",
    "        \"-?\\\\d+(?:\\\\.\\\\d*)?\": 0.0,\n",
    "        \"<\\\\/?(?:p|a|b|img)(?: \\\\/)?>\": 0.0,\n",
    "        \"[A-Za-z0-9\\\\.,;:!?()\\\\\\\"'%\\\\-]+\": 1.0,\n",
    "        \"\\\\b[0-9a-fA-F]{8}\\\\b-[0-9a-fA-F]{4}-[0-5][0-9a-fA-F]{3}-[089ab][0-9a-fA-F]{3}-\\\\b[0-9a-fA-F]{12}\\\\b \": 0.0,\n",
    "        \"\\\\d+\": 0.0,\n",
    "        \"\\\\s+$\": 0.0,\n",
    "        \"^\\\\s+\": 0.0,\n",
    "        \"https?:\\\\/\\\\/(?:www\\\\.)?[-a-zA-Z0-9@:%._\\\\+~#=]{2,255}\\\\.[a-z]{2,6}\\\\b(?:[-a-zA-Z0-9@:%_\\\\+.~#()?&//=]*)\": 0.0\n",
    "      },\n",
    "      \"success_ratio\": 1.0\n",
    "    }\n",
    "  }\n",
    "})\n",
    "suite.remove_expectation(expectation_configuration=expectation_configuration)"
   ]
  },
  {
   "cell_type": "markdown",
   "metadata": {},
   "source": [
    "##### Remove expectation regarding values as in predefined list"
   ]
  },
  {
   "cell_type": "code",
   "execution_count": 16,
   "metadata": {},
   "outputs": [
    {
     "data": {
      "text/plain": [
       "[{\"meta\": {\"profiler_details\": {\"metric_configuration\": {\"domain_kwargs\": {\"column\": \"ORIGIN\"}, \"metric_name\": \"column.distinct_values\", \"metric_value_kwargs\": null}, \"num_batches\": 1, \"parse_strings_as_datetimes\": false}}, \"kwargs\": {\"column\": \"ORIGIN\", \"mostly\": 1.0, \"value_set\": [\"HAV\", \"NAS\", \"BZE\", \"AUS\", \"ORD\", \"SMF\", \"AUA\", \"SAN\", \"MCI\", \"IND\", \"MSY\", \"CZM\", \"SNA\", \"BWI\", \"OAK\", \"STL\", \"MBJ\", \"MCO\", \"SJD\", \"MDW\", \"GCM\", \"FLL\", \"HOU\", \"LIR\", \"ATL\", \"SAT\", \"PUJ\", \"BNA\", \"CUN\", \"PVR\", \"SJO\", \"DEN\", \"PHX\", \"PLS\", \"TPA\"]}, \"expectation_type\": \"expect_column_values_to_be_in_set\"}]"
      ]
     },
     "execution_count": 16,
     "metadata": {},
     "output_type": "execute_result"
    }
   ],
   "source": [
    "expectation_configuration = ExpectationConfiguration(**{\n",
    "  \"expectation_type\": \"expect_column_values_to_be_in_set\",\n",
    "  \"kwargs\": {\n",
    "    \"column\": \"ORIGIN\",\n",
    "    \"mostly\": 1.0,\n",
    "    \"value_set\": [\n",
    "      \"AUA\",\n",
    "      \"BWI\",\n",
    "      \"MSY\",\n",
    "      \"MDW\",\n",
    "      \"DEN\",\n",
    "      \"HAV\",\n",
    "      \"PVR\",\n",
    "      \"PUJ\",\n",
    "      \"STL\",\n",
    "      \"SAN\",\n",
    "      \"SJD\",\n",
    "      \"BNA\",\n",
    "      \"SMF\",\n",
    "      \"PLS\",\n",
    "      \"BZE\",\n",
    "      \"AUS\",\n",
    "      \"TPA\",\n",
    "      \"FLL\",\n",
    "      \"LIR\",\n",
    "      \"ORD\",\n",
    "      \"IND\",\n",
    "      \"NAS\",\n",
    "      \"CZM\",\n",
    "      \"SJO\",\n",
    "      \"CUN\",\n",
    "      \"MCI\",\n",
    "      \"MBJ\",\n",
    "      \"PHX\",\n",
    "      \"OAK\",\n",
    "      \"SNA\",\n",
    "      \"ATL\",\n",
    "      \"GCM\",\n",
    "      \"SAT\",\n",
    "      \"MCO\",\n",
    "      \"HOU\"\n",
    "    ]\n",
    "  },\n",
    "  \"meta\": {\n",
    "    \"profiler_details\": {\n",
    "      \"metric_configuration\": {\n",
    "        \"domain_kwargs\": {\n",
    "          \"column\": \"ORIGIN\"\n",
    "        },\n",
    "        \"metric_name\": \"column.distinct_values\",\n",
    "        \"metric_value_kwargs\": None\n",
    "      },\n",
    "      \"num_batches\": 1,\n",
    "      \"parse_strings_as_datetimes\": False\n",
    "    }\n",
    "  }\n",
    "})\n",
    "suite.remove_expectation(expectation_configuration=expectation_configuration)"
   ]
  },
  {
   "cell_type": "markdown",
   "metadata": {},
   "source": [
    "##### Remove unique value count expectation"
   ]
  },
  {
   "cell_type": "code",
   "execution_count": 17,
   "metadata": {},
   "outputs": [
    {
     "data": {
      "text/plain": [
       "[{\"meta\": {\"profiler_details\": {\"metric_configuration\": {\"domain_kwargs\": {\"column\": \"ORIGIN\"}, \"metric_name\": \"column.distinct_values.count\", \"metric_value_kwargs\": null}, \"num_batches\": 1}}, \"kwargs\": {\"column\": \"ORIGIN\", \"max_value\": 35, \"min_value\": 35, \"strict_max\": false, \"strict_min\": false}, \"expectation_type\": \"expect_column_unique_value_count_to_be_between\"}]"
      ]
     },
     "execution_count": 17,
     "metadata": {},
     "output_type": "execute_result"
    }
   ],
   "source": [
    "expectation_configuration = ExpectationConfiguration(**{\n",
    "  \"expectation_type\": \"expect_column_unique_value_count_to_be_between\",\n",
    "  \"kwargs\": {\n",
    "    \"column\": \"ORIGIN\",\n",
    "    \"max_value\": 35,\n",
    "    \"min_value\": 35,\n",
    "    \"strict_max\": False,\n",
    "    \"strict_min\": False\n",
    "  },\n",
    "  \"meta\": {\n",
    "    \"profiler_details\": {\n",
    "      \"metric_configuration\": {\n",
    "        \"domain_kwargs\": {\n",
    "          \"column\": \"ORIGIN\"\n",
    "        },\n",
    "        \"metric_name\": \"column.distinct_values.count\",\n",
    "        \"metric_value_kwargs\": None\n",
    "      },\n",
    "      \"num_batches\": 1\n",
    "    }\n",
    "  }\n",
    "})\n",
    "suite.remove_expectation(expectation_configuration=expectation_configuration)"
   ]
  },
  {
   "cell_type": "markdown",
   "metadata": {},
   "source": [
    "##### Remove expectation regarding proportion of unique values in column"
   ]
  },
  {
   "cell_type": "code",
   "execution_count": 18,
   "metadata": {},
   "outputs": [
    {
     "data": {
      "text/plain": [
       "[{\"meta\": {\"profiler_details\": {\"metric_configuration\": {\"domain_kwargs\": {\"column\": \"ORIGIN\"}, \"metric_name\": \"column.unique_proportion\", \"metric_value_kwargs\": null}, \"num_batches\": 1}}, \"kwargs\": {\"column\": \"ORIGIN\", \"max_value\": 0.15086206896551724, \"min_value\": 0.15086206896551724, \"strict_max\": false, \"strict_min\": false}, \"expectation_type\": \"expect_column_proportion_of_unique_values_to_be_between\"}]"
      ]
     },
     "execution_count": 18,
     "metadata": {},
     "output_type": "execute_result"
    }
   ],
   "source": [
    "expectation_configuration = ExpectationConfiguration(**{\n",
    "  \"expectation_type\": \"expect_column_proportion_of_unique_values_to_be_between\",\n",
    "  \"kwargs\": {\n",
    "    \"column\": \"ORIGIN\",\n",
    "    \"max_value\": 0.15086206896551724,\n",
    "    \"min_value\": 0.15086206896551724,\n",
    "    \"strict_max\": False,\n",
    "    \"strict_min\": False\n",
    "  },\n",
    "  \"meta\": {\n",
    "    \"profiler_details\": {\n",
    "      \"metric_configuration\": {\n",
    "        \"domain_kwargs\": {\n",
    "          \"column\": \"ORIGIN\"\n",
    "        },\n",
    "        \"metric_name\": \"column.unique_proportion\",\n",
    "        \"metric_value_kwargs\": None\n",
    "      },\n",
    "      \"num_batches\": 1\n",
    "    }\n",
    "  }\n",
    "})\n",
    "suite.remove_expectation(expectation_configuration=expectation_configuration)"
   ]
  },
  {
   "cell_type": "markdown",
   "metadata": {},
   "source": [
    "##### Add value type expectation"
   ]
  },
  {
   "cell_type": "code",
   "execution_count": 19,
   "metadata": {},
   "outputs": [
    {
     "data": {
      "text/plain": [
       "{\"meta\": {}, \"kwargs\": {\"column\": \"ORIGIN\", \"type_\": \"str\"}, \"expectation_type\": \"expect_column_values_to_be_of_type\"}"
      ]
     },
     "execution_count": 19,
     "metadata": {},
     "output_type": "execute_result"
    }
   ],
   "source": [
    "expectation_configuration = ExpectationConfiguration(**{\n",
    " 'expectation_type': 'expect_column_values_to_be_of_type',\n",
    "   'kwargs': {\n",
    "       'column': 'ORIGIN',\n",
    "       'type_': 'str'\n",
    "    }\n",
    "})\n",
    "suite.add_expectation(expectation_configuration=expectation_configuration)"
   ]
  },
  {
   "cell_type": "markdown",
   "metadata": {},
   "source": [
    "#### Column Expectation(s) - DEST"
   ]
  },
  {
   "cell_type": "markdown",
   "metadata": {},
   "source": [
    "##### Add values not to be null expectation"
   ]
  },
  {
   "cell_type": "code",
   "execution_count": 20,
   "metadata": {},
   "outputs": [
    {
     "data": {
      "text/plain": [
       "{\"meta\": {\"profiler_details\": {\"metric_configuration\": {\"domain_kwargs\": {\"column\": \"DEST\"}, \"metric_name\": \"column_values.nonnull.unexpected_count\", \"metric_value_kwargs\": null}, \"num_batches\": 1}}, \"kwargs\": {\"column\": \"DEST\"}, \"expectation_type\": \"expect_column_values_to_not_be_null\"}"
      ]
     },
     "execution_count": 20,
     "metadata": {},
     "output_type": "execute_result"
    }
   ],
   "source": [
    "expectation_configuration = ExpectationConfiguration(**{\n",
    "  \"expectation_type\": \"expect_column_values_to_not_be_null\",\n",
    "  \"kwargs\": {\n",
    "    \"column\": \"DEST\"\n",
    "  },\n",
    "  \"meta\": {\n",
    "    \"profiler_details\": {\n",
    "      \"metric_configuration\": {\n",
    "        \"domain_kwargs\": {\n",
    "          \"column\": \"DEST\"\n",
    "        },\n",
    "        \"metric_name\": \"column_values.nonnull.unexpected_count\",\n",
    "        \"metric_value_kwargs\": None\n",
    "      },\n",
    "      \"num_batches\": 1\n",
    "    }\n",
    "  }\n",
    "})\n",
    "suite.add_expectation(expectation_configuration=expectation_configuration)"
   ]
  },
  {
   "cell_type": "markdown",
   "metadata": {},
   "source": [
    "##### Add value length expectation for column"
   ]
  },
  {
   "cell_type": "code",
   "execution_count": 21,
   "metadata": {},
   "outputs": [
    {
     "data": {
      "text/plain": [
       "{\"meta\": {\"profiler_details\": {\"column_max_length_range_estimator\": {\"metric_configuration\": {\"domain_kwargs\": {\"column\": \"DEST\"}, \"metric_name\": \"column_values.length.max\", \"metric_value_kwargs\": null}, \"num_batches\": 1}, \"column_min_length_range_estimator\": {\"metric_configuration\": {\"domain_kwargs\": {\"column\": \"DEST\"}, \"metric_name\": \"column_values.length.min\", \"metric_value_kwargs\": null}, \"num_batches\": 1}}}, \"kwargs\": {\"column\": \"DEST\", \"max_value\": 3, \"min_value\": 3, \"mostly\": 1.0, \"strict_max\": false, \"strict_min\": false}, \"expectation_type\": \"expect_column_value_lengths_to_be_between\"}"
      ]
     },
     "execution_count": 21,
     "metadata": {},
     "output_type": "execute_result"
    }
   ],
   "source": [
    "expectation_configuration = ExpectationConfiguration(**{\n",
    "  \"expectation_type\": \"expect_column_value_lengths_to_be_between\",\n",
    "  \"kwargs\": {\n",
    "    \"column\": \"DEST\",\n",
    "    \"max_value\": 3,\n",
    "    \"min_value\": 3,\n",
    "    \"mostly\": 1.0,\n",
    "    \"strict_max\": False,\n",
    "    \"strict_min\": False\n",
    "  },\n",
    "  \"meta\": {\n",
    "    \"profiler_details\": {\n",
    "      \"column_max_length_range_estimator\": {\n",
    "        \"metric_configuration\": {\n",
    "          \"domain_kwargs\": {\n",
    "            \"column\": \"DEST\"\n",
    "          },\n",
    "          \"metric_name\": \"column_values.length.max\",\n",
    "          \"metric_value_kwargs\": None\n",
    "        },\n",
    "        \"num_batches\": 1\n",
    "      },\n",
    "      \"column_min_length_range_estimator\": {\n",
    "        \"metric_configuration\": {\n",
    "          \"domain_kwargs\": {\n",
    "            \"column\": \"DEST\"\n",
    "          },\n",
    "          \"metric_name\": \"column_values.length.min\",\n",
    "          \"metric_value_kwargs\": None\n",
    "        },\n",
    "        \"num_batches\": 1\n",
    "      }\n",
    "    }\n",
    "  }\n",
    "})\n",
    "suite.add_expectation(expectation_configuration=expectation_configuration)"
   ]
  },
  {
   "cell_type": "markdown",
   "metadata": {},
   "source": [
    "##### Remove expectation regarding characters contained in regex"
   ]
  },
  {
   "cell_type": "code",
   "execution_count": 22,
   "metadata": {},
   "outputs": [
    {
     "data": {
      "text/plain": [
       "[{\"meta\": {\"profiler_details\": {\"evaluated_regexes\": {\"(?:25[0-5]|2[0-4]\\\\d|[01]\\\\d{2}|\\\\d{1,2})(?:.(?:25[0-5]|2[0-4]\\\\d|[01]\\\\d{2}|\\\\d{1,2})){3}\": 0.0, \"-?\\\\d+\": 0.0, \"-?\\\\d+(?:\\\\.\\\\d*)?\": 0.0, \"<\\\\/?(?:p|a|b|img)(?: \\\\/)?>\": 0.0, \"[A-Za-z0-9\\\\.,;:!?()\\\\\\\"'%\\\\-]+\": 1.0, \"\\\\b[0-9a-fA-F]{8}\\\\b-[0-9a-fA-F]{4}-[0-5][0-9a-fA-F]{3}-[089ab][0-9a-fA-F]{3}-\\\\b[0-9a-fA-F]{12}\\\\b \": 0.0, \"\\\\d+\": 0.0, \"\\\\s+$\": 0.0, \"^\\\\s+\": 0.0, \"https?:\\\\/\\\\/(?:www\\\\.)?[-a-zA-Z0-9@:%._\\\\+~#=]{2,255}\\\\.[a-z]{2,6}\\\\b(?:[-a-zA-Z0-9@:%_\\\\+.~#()?&//=]*)\": 0.0}, \"success_ratio\": 1.0}}, \"kwargs\": {\"column\": \"DEST\", \"mostly\": 1.0, \"regex\": \"[A-Za-z0-9\\\\.,;:!?()\\\\\\\"'%\\\\-]+\"}, \"expectation_type\": \"expect_column_values_to_match_regex\"}]"
      ]
     },
     "execution_count": 22,
     "metadata": {},
     "output_type": "execute_result"
    }
   ],
   "source": [
    "expectation_configuration = ExpectationConfiguration(**{\n",
    "  \"expectation_type\": \"expect_column_values_to_match_regex\",\n",
    "  \"kwargs\": {\n",
    "    \"column\": \"DEST\",\n",
    "    \"mostly\": 1.0,\n",
    "    \"regex\": \"[A-Za-z0-9\\\\.,;:!?()\\\\\\\"'%\\\\-]+\"\n",
    "  },\n",
    "  \"meta\": {\n",
    "    \"profiler_details\": {\n",
    "      \"evaluated_regexes\": {\n",
    "        \"(?:25[0-5]|2[0-4]\\\\d|[01]\\\\d{2}|\\\\d{1,2})(?:.(?:25[0-5]|2[0-4]\\\\d|[01]\\\\d{2}|\\\\d{1,2})){3}\": 0.0,\n",
    "        \"-?\\\\d+\": 0.0,\n",
    "        \"-?\\\\d+(?:\\\\.\\\\d*)?\": 0.0,\n",
    "        \"<\\\\/?(?:p|a|b|img)(?: \\\\/)?>\": 0.0,\n",
    "        \"[A-Za-z0-9\\\\.,;:!?()\\\\\\\"'%\\\\-]+\": 1.0,\n",
    "        \"\\\\b[0-9a-fA-F]{8}\\\\b-[0-9a-fA-F]{4}-[0-5][0-9a-fA-F]{3}-[089ab][0-9a-fA-F]{3}-\\\\b[0-9a-fA-F]{12}\\\\b \": 0.0,\n",
    "        \"\\\\d+\": 0.0,\n",
    "        \"\\\\s+$\": 0.0,\n",
    "        \"^\\\\s+\": 0.0,\n",
    "        \"https?:\\\\/\\\\/(?:www\\\\.)?[-a-zA-Z0-9@:%._\\\\+~#=]{2,255}\\\\.[a-z]{2,6}\\\\b(?:[-a-zA-Z0-9@:%_\\\\+.~#()?&//=]*)\": 0.0\n",
    "      },\n",
    "      \"success_ratio\": 1.0\n",
    "    }\n",
    "  }\n",
    "})\n",
    "suite.remove_expectation(expectation_configuration=expectation_configuration)"
   ]
  },
  {
   "cell_type": "markdown",
   "metadata": {},
   "source": [
    "##### Remove expectation regarding values as in predefined list"
   ]
  },
  {
   "cell_type": "code",
   "execution_count": 23,
   "metadata": {},
   "outputs": [
    {
     "data": {
      "text/plain": [
       "[{\"meta\": {\"profiler_details\": {\"metric_configuration\": {\"domain_kwargs\": {\"column\": \"DEST\"}, \"metric_name\": \"column.distinct_values\", \"metric_value_kwargs\": null}, \"num_batches\": 1, \"parse_strings_as_datetimes\": false}}, \"kwargs\": {\"column\": \"DEST\", \"mostly\": 1.0, \"value_set\": [\"HAV\", \"NAS\", \"BZE\", \"AUS\", \"ORD\", \"SMF\", \"AUA\", \"PIT\", \"SAN\", \"MCI\", \"IND\", \"MSY\", \"CZM\", \"SNA\", \"BWI\", \"OAK\", \"STL\", \"MBJ\", \"MCO\", \"SJD\", \"MDW\", \"GCM\", \"FLL\", \"HOU\", \"LIR\", \"ATL\", \"SAT\", \"PUJ\", \"BNA\", \"CUN\", \"PVR\", \"SJO\", \"DEN\", \"PHX\", \"PLS\", \"TPA\"]}, \"expectation_type\": \"expect_column_values_to_be_in_set\"}]"
      ]
     },
     "execution_count": 23,
     "metadata": {},
     "output_type": "execute_result"
    }
   ],
   "source": [
    "expectation_configuration = ExpectationConfiguration(**{\n",
    "  \"expectation_type\": \"expect_column_values_to_be_in_set\",\n",
    "  \"kwargs\": {\n",
    "    \"column\": \"DEST\",\n",
    "    \"mostly\": 1.0,\n",
    "    \"value_set\": [\n",
    "      \"AUA\",\n",
    "      \"BWI\",\n",
    "      \"MSY\",\n",
    "      \"MDW\",\n",
    "      \"DEN\",\n",
    "      \"HAV\",\n",
    "      \"PVR\",\n",
    "      \"PUJ\",\n",
    "      \"STL\",\n",
    "      \"SAN\",\n",
    "      \"SJD\",\n",
    "      \"BNA\",\n",
    "      \"SMF\",\n",
    "      \"PLS\",\n",
    "      \"BZE\",\n",
    "      \"AUS\",\n",
    "      \"TPA\",\n",
    "      \"FLL\",\n",
    "      \"LIR\",\n",
    "      \"ORD\",\n",
    "      \"IND\",\n",
    "      \"NAS\",\n",
    "      \"CZM\",\n",
    "      \"SJO\",\n",
    "      \"CUN\",\n",
    "      \"MCI\",\n",
    "      \"MBJ\",\n",
    "      \"PHX\",\n",
    "      \"OAK\",\n",
    "      \"SNA\",\n",
    "      \"ATL\",\n",
    "      \"GCM\",\n",
    "      \"SAT\",\n",
    "      \"PIT\",\n",
    "      \"MCO\",\n",
    "      \"HOU\"\n",
    "    ]\n",
    "  },\n",
    "  \"meta\": {\n",
    "    \"profiler_details\": {\n",
    "      \"metric_configuration\": {\n",
    "        \"domain_kwargs\": {\n",
    "          \"column\": \"DEST\"\n",
    "        },\n",
    "        \"metric_name\": \"column.distinct_values\",\n",
    "        \"metric_value_kwargs\": None\n",
    "      },\n",
    "      \"num_batches\": 1,\n",
    "      \"parse_strings_as_datetimes\": False\n",
    "    }\n",
    "  }\n",
    "})\n",
    "suite.remove_expectation(expectation_configuration=expectation_configuration)"
   ]
  },
  {
   "cell_type": "markdown",
   "metadata": {},
   "source": [
    "##### Remove unique value count expectation"
   ]
  },
  {
   "cell_type": "code",
   "execution_count": 24,
   "metadata": {},
   "outputs": [
    {
     "data": {
      "text/plain": [
       "[{\"meta\": {\"profiler_details\": {\"metric_configuration\": {\"domain_kwargs\": {\"column\": \"DEST\"}, \"metric_name\": \"column.distinct_values.count\", \"metric_value_kwargs\": null}, \"num_batches\": 1}}, \"kwargs\": {\"column\": \"DEST\", \"max_value\": 36, \"min_value\": 36, \"strict_max\": false, \"strict_min\": false}, \"expectation_type\": \"expect_column_unique_value_count_to_be_between\"}]"
      ]
     },
     "execution_count": 24,
     "metadata": {},
     "output_type": "execute_result"
    }
   ],
   "source": [
    "expectation_configuration = ExpectationConfiguration(**{\n",
    "  \"expectation_type\": \"expect_column_unique_value_count_to_be_between\",\n",
    "  \"kwargs\": {\n",
    "    \"column\": \"DEST\",\n",
    "    \"max_value\": 36,\n",
    "    \"min_value\": 36,\n",
    "    \"strict_max\": False,\n",
    "    \"strict_min\": False\n",
    "  },\n",
    "  \"meta\": {\n",
    "    \"profiler_details\": {\n",
    "      \"metric_configuration\": {\n",
    "        \"domain_kwargs\": {\n",
    "          \"column\": \"DEST\"\n",
    "        },\n",
    "        \"metric_name\": \"column.distinct_values.count\",\n",
    "        \"metric_value_kwargs\": None\n",
    "      },\n",
    "      \"num_batches\": 1\n",
    "    }\n",
    "  }\n",
    "})\n",
    "suite.remove_expectation(expectation_configuration=expectation_configuration)"
   ]
  },
  {
   "cell_type": "markdown",
   "metadata": {},
   "source": [
    "##### Remove expectation regarding proportion of unique values in column"
   ]
  },
  {
   "cell_type": "code",
   "execution_count": 25,
   "metadata": {},
   "outputs": [
    {
     "data": {
      "text/plain": [
       "[{\"meta\": {\"profiler_details\": {\"metric_configuration\": {\"domain_kwargs\": {\"column\": \"DEST\"}, \"metric_name\": \"column.unique_proportion\", \"metric_value_kwargs\": null}, \"num_batches\": 1}}, \"kwargs\": {\"column\": \"DEST\", \"max_value\": 0.15517241379310345, \"min_value\": 0.15517241379310345, \"strict_max\": false, \"strict_min\": false}, \"expectation_type\": \"expect_column_proportion_of_unique_values_to_be_between\"}]"
      ]
     },
     "execution_count": 25,
     "metadata": {},
     "output_type": "execute_result"
    }
   ],
   "source": [
    "expectation_configuration = ExpectationConfiguration(**{\n",
    "  \"expectation_type\": \"expect_column_proportion_of_unique_values_to_be_between\",\n",
    "  \"kwargs\": {\n",
    "    \"column\": \"DEST\",\n",
    "    \"max_value\": 0.15517241379310345,\n",
    "    \"min_value\": 0.15517241379310345,\n",
    "    \"strict_max\": False,\n",
    "    \"strict_min\": False\n",
    "  },\n",
    "  \"meta\": {\n",
    "    \"profiler_details\": {\n",
    "      \"metric_configuration\": {\n",
    "        \"domain_kwargs\": {\n",
    "          \"column\": \"DEST\"\n",
    "        },\n",
    "        \"metric_name\": \"column.unique_proportion\",\n",
    "        \"metric_value_kwargs\": None\n",
    "      },\n",
    "      \"num_batches\": 1\n",
    "    }\n",
    "  }\n",
    "})\n",
    "suite.remove_expectation(expectation_configuration=expectation_configuration)"
   ]
  },
  {
   "cell_type": "markdown",
   "metadata": {},
   "source": [
    "##### Add value type expectation"
   ]
  },
  {
   "cell_type": "code",
   "execution_count": 26,
   "metadata": {},
   "outputs": [
    {
     "data": {
      "text/plain": [
       "{\"meta\": {}, \"kwargs\": {\"column\": \"DEST\", \"type_\": \"str\"}, \"expectation_type\": \"expect_column_values_to_be_of_type\"}"
      ]
     },
     "execution_count": 26,
     "metadata": {},
     "output_type": "execute_result"
    }
   ],
   "source": [
    "expectation_configuration = ExpectationConfiguration(**{\n",
    " 'expectation_type': 'expect_column_values_to_be_of_type',\n",
    "   'kwargs': {\n",
    "       'column': 'DEST',\n",
    "       'type_': 'str'\n",
    "    }\n",
    "})\n",
    "suite.add_expectation(expectation_configuration=expectation_configuration)"
   ]
  },
  {
   "cell_type": "markdown",
   "metadata": {},
   "source": [
    "#### Column Expectation(s) - AIRCRAFT_TYPE"
   ]
  },
  {
   "cell_type": "markdown",
   "metadata": {},
   "source": [
    "##### Add values not to be null expectation"
   ]
  },
  {
   "cell_type": "code",
   "execution_count": 27,
   "metadata": {},
   "outputs": [
    {
     "data": {
      "text/plain": [
       "{\"meta\": {\"profiler_details\": {\"metric_configuration\": {\"domain_kwargs\": {\"column\": \"AIRCRAFT_TYPE\"}, \"metric_name\": \"column_values.nonnull.unexpected_count\", \"metric_value_kwargs\": null}, \"num_batches\": 1}}, \"kwargs\": {\"column\": \"AIRCRAFT_TYPE\"}, \"expectation_type\": \"expect_column_values_to_not_be_null\"}"
      ]
     },
     "execution_count": 27,
     "metadata": {},
     "output_type": "execute_result"
    }
   ],
   "source": [
    "expectation_configuration = ExpectationConfiguration(**{\n",
    "  \"expectation_type\": \"expect_column_values_to_not_be_null\",\n",
    "  \"kwargs\": {\n",
    "    \"column\": \"AIRCRAFT_TYPE\"\n",
    "  },\n",
    "  \"meta\": {\n",
    "    \"profiler_details\": {\n",
    "      \"metric_configuration\": {\n",
    "        \"domain_kwargs\": {\n",
    "          \"column\": \"AIRCRAFT_TYPE\"\n",
    "        },\n",
    "        \"metric_name\": \"column_values.nonnull.unexpected_count\",\n",
    "        \"metric_value_kwargs\": None\n",
    "      },\n",
    "      \"num_batches\": 1\n",
    "    }\n",
    "  }\n",
    "})\n",
    "suite.add_expectation(expectation_configuration=expectation_configuration)"
   ]
  },
  {
   "cell_type": "markdown",
   "metadata": {},
   "source": [
    "##### Remove min value expectation for column"
   ]
  },
  {
   "cell_type": "code",
   "execution_count": 28,
   "metadata": {},
   "outputs": [
    {
     "data": {
      "text/plain": [
       "[{\"meta\": {\"profiler_details\": {\"metric_configuration\": {\"domain_kwargs\": {\"column\": \"AIRCRAFT_TYPE\"}, \"metric_name\": \"column.min\", \"metric_value_kwargs\": null}, \"num_batches\": 1}}, \"kwargs\": {\"column\": \"AIRCRAFT_TYPE\", \"max_value\": 612, \"min_value\": 612, \"strict_max\": false, \"strict_min\": false}, \"expectation_type\": \"expect_column_min_to_be_between\"}]"
      ]
     },
     "execution_count": 28,
     "metadata": {},
     "output_type": "execute_result"
    }
   ],
   "source": [
    "expectation_configuration = ExpectationConfiguration(**{\n",
    "  \"expectation_type\": \"expect_column_min_to_be_between\",\n",
    "  \"kwargs\": {\n",
    "    \"column\": \"AIRCRAFT_TYPE\",\n",
    "    \"max_value\": 612,\n",
    "    \"min_value\": 612,\n",
    "    \"strict_max\": False,\n",
    "    \"strict_min\": False\n",
    "  },\n",
    "  \"meta\": {\n",
    "    \"profiler_details\": {\n",
    "      \"metric_configuration\": {\n",
    "        \"domain_kwargs\": {\n",
    "          \"column\": \"AIRCRAFT_TYPE\"\n",
    "        },\n",
    "        \"metric_name\": \"column.min\",\n",
    "        \"metric_value_kwargs\": None\n",
    "      },\n",
    "      \"num_batches\": 1\n",
    "    }\n",
    "  }\n",
    "})\n",
    "suite.remove_expectation(expectation_configuration=expectation_configuration)"
   ]
  },
  {
   "cell_type": "markdown",
   "metadata": {},
   "source": [
    "##### Remove max value expectation for column"
   ]
  },
  {
   "cell_type": "code",
   "execution_count": 29,
   "metadata": {},
   "outputs": [
    {
     "data": {
      "text/plain": [
       "[{\"meta\": {\"profiler_details\": {\"metric_configuration\": {\"domain_kwargs\": {\"column\": \"AIRCRAFT_TYPE\"}, \"metric_name\": \"column.max\", \"metric_value_kwargs\": null}, \"num_batches\": 1}}, \"kwargs\": {\"column\": \"AIRCRAFT_TYPE\", \"max_value\": 838, \"min_value\": 838, \"strict_max\": false, \"strict_min\": false}, \"expectation_type\": \"expect_column_max_to_be_between\"}]"
      ]
     },
     "execution_count": 29,
     "metadata": {},
     "output_type": "execute_result"
    }
   ],
   "source": [
    "expectation_configuration = ExpectationConfiguration(**{\n",
    "  \"expectation_type\": \"expect_column_max_to_be_between\",\n",
    "  \"kwargs\": {\n",
    "    \"column\": \"AIRCRAFT_TYPE\",\n",
    "    \"max_value\": 838,\n",
    "    \"min_value\": 838,\n",
    "    \"strict_max\": False,\n",
    "    \"strict_min\": False\n",
    "  },\n",
    "  \"meta\": {\n",
    "    \"profiler_details\": {\n",
    "      \"metric_configuration\": {\n",
    "        \"domain_kwargs\": {\n",
    "          \"column\": \"AIRCRAFT_TYPE\"\n",
    "        },\n",
    "        \"metric_name\": \"column.max\",\n",
    "        \"metric_value_kwargs\": None\n",
    "      },\n",
    "      \"num_batches\": 1\n",
    "    }\n",
    "  }\n",
    "})\n",
    "suite.remove_expectation(expectation_configuration=expectation_configuration)"
   ]
  },
  {
   "cell_type": "markdown",
   "metadata": {},
   "source": [
    "##### Add value range expectation for column"
   ]
  },
  {
   "cell_type": "code",
   "execution_count": 30,
   "metadata": {},
   "outputs": [
    {
     "data": {
      "text/plain": [
       "{\"meta\": {\"profiler_details\": {\"column_max_values_range_estimator\": {\"metric_configuration\": {\"domain_kwargs\": {\"column\": \"AIRCRAFT_TYPE\"}, \"metric_name\": \"column.max\", \"metric_value_kwargs\": null}, \"num_batches\": 1}, \"column_min_values_range_estimator\": {\"metric_configuration\": {\"domain_kwargs\": {\"column\": \"AIRCRAFT_TYPE\"}, \"metric_name\": \"column.min\", \"metric_value_kwargs\": null}, \"num_batches\": 1}}}, \"kwargs\": {\"column\": \"AIRCRAFT_TYPE\", \"max_value\": 838, \"min_value\": 612, \"mostly\": 1.0, \"strict_max\": false, \"strict_min\": false}, \"expectation_type\": \"expect_column_values_to_be_between\"}"
      ]
     },
     "execution_count": 30,
     "metadata": {},
     "output_type": "execute_result"
    }
   ],
   "source": [
    "expectation_configuration = ExpectationConfiguration(**{\n",
    "  \"expectation_type\": \"expect_column_values_to_be_between\",\n",
    "  \"kwargs\": {\n",
    "    \"column\": \"AIRCRAFT_TYPE\",\n",
    "    \"max_value\": 838,\n",
    "    \"min_value\": 612,\n",
    "    \"mostly\": 1.0,\n",
    "    \"strict_max\": False,\n",
    "    \"strict_min\": False\n",
    "  },\n",
    "  \"meta\": {\n",
    "    \"profiler_details\": {\n",
    "      \"column_max_values_range_estimator\": {\n",
    "        \"metric_configuration\": {\n",
    "          \"domain_kwargs\": {\n",
    "            \"column\": \"AIRCRAFT_TYPE\"\n",
    "          },\n",
    "          \"metric_name\": \"column.max\",\n",
    "          \"metric_value_kwargs\": None\n",
    "        },\n",
    "        \"num_batches\": 1\n",
    "      },\n",
    "      \"column_min_values_range_estimator\": {\n",
    "        \"metric_configuration\": {\n",
    "          \"domain_kwargs\": {\n",
    "            \"column\": \"AIRCRAFT_TYPE\"\n",
    "          },\n",
    "          \"metric_name\": \"column.min\",\n",
    "          \"metric_value_kwargs\": None\n",
    "        },\n",
    "        \"num_batches\": 1\n",
    "      }\n",
    "    }\n",
    "  }\n",
    "})\n",
    "suite.add_expectation(expectation_configuration=expectation_configuration)"
   ]
  },
  {
   "cell_type": "markdown",
   "metadata": {},
   "source": [
    "##### Remove quantile value expectation for column"
   ]
  },
  {
   "cell_type": "code",
   "execution_count": 31,
   "metadata": {},
   "outputs": [
    {
     "data": {
      "text/plain": [
       "[{\"meta\": {\"profiler_details\": {\"metric_configuration\": {\"domain_kwargs\": {\"column\": \"AIRCRAFT_TYPE\"}, \"metric_name\": \"column.quantile_values\", \"metric_value_kwargs\": {\"allow_relative_error\": false, \"quantiles\": [0.25, 0.5, 0.75]}}, \"num_batches\": 1}}, \"kwargs\": {\"allow_relative_error\": false, \"column\": \"AIRCRAFT_TYPE\", \"quantile_ranges\": {\"quantiles\": [0.25, 0.5, 0.75], \"value_ranges\": [[612, 612], [614, 614], [838, 838]]}}, \"expectation_type\": \"expect_column_quantile_values_to_be_between\"}]"
      ]
     },
     "execution_count": 31,
     "metadata": {},
     "output_type": "execute_result"
    }
   ],
   "source": [
    "expectation_configuration = ExpectationConfiguration(**{\n",
    "  \"expectation_type\": \"expect_column_quantile_values_to_be_between\",\n",
    "  \"kwargs\": {\n",
    "    \"allow_relative_error\": False,\n",
    "    \"column\": \"AIRCRAFT_TYPE\",\n",
    "    \"quantile_ranges\": {\n",
    "      \"quantiles\": [\n",
    "        0.25,\n",
    "        0.5,\n",
    "        0.75\n",
    "      ],\n",
    "      \"value_ranges\": [\n",
    "        [\n",
    "          612,\n",
    "          612\n",
    "        ],\n",
    "        [\n",
    "          614,\n",
    "          614\n",
    "        ],\n",
    "        [\n",
    "          838,\n",
    "          838\n",
    "        ]\n",
    "      ]\n",
    "    }\n",
    "  },\n",
    "  \"meta\": {\n",
    "    \"profiler_details\": {\n",
    "      \"metric_configuration\": {\n",
    "        \"domain_kwargs\": {\n",
    "          \"column\": \"AIRCRAFT_TYPE\"\n",
    "        },\n",
    "        \"metric_name\": \"column.quantile_values\",\n",
    "        \"metric_value_kwargs\": {\n",
    "          \"allow_relative_error\": False,\n",
    "          \"quantiles\": [\n",
    "            0.25,\n",
    "            0.5,\n",
    "            0.75\n",
    "          ]\n",
    "        }\n",
    "      },\n",
    "      \"num_batches\": 1\n",
    "    }\n",
    "  }\n",
    "})\n",
    "suite.remove_expectation(expectation_configuration=expectation_configuration)"
   ]
  },
  {
   "cell_type": "markdown",
   "metadata": {},
   "source": [
    "##### Remove median value expectation for column"
   ]
  },
  {
   "cell_type": "code",
   "execution_count": 32,
   "metadata": {},
   "outputs": [
    {
     "data": {
      "text/plain": [
       "[{\"meta\": {\"profiler_details\": {\"metric_configuration\": {\"domain_kwargs\": {\"column\": \"AIRCRAFT_TYPE\"}, \"metric_name\": \"column.median\", \"metric_value_kwargs\": null}, \"num_batches\": 1}}, \"kwargs\": {\"column\": \"AIRCRAFT_TYPE\", \"max_value\": 614.0, \"min_value\": 614.0, \"strict_max\": false, \"strict_min\": false}, \"expectation_type\": \"expect_column_median_to_be_between\"}]"
      ]
     },
     "execution_count": 32,
     "metadata": {},
     "output_type": "execute_result"
    }
   ],
   "source": [
    "expectation_configuration = ExpectationConfiguration(**{\n",
    "  \"expectation_type\": \"expect_column_median_to_be_between\",\n",
    "  \"kwargs\": {\n",
    "    \"column\": \"AIRCRAFT_TYPE\",\n",
    "    \"max_value\": 614.0,\n",
    "    \"min_value\": 614.0,\n",
    "    \"strict_max\": False,\n",
    "    \"strict_min\": False\n",
    "  },\n",
    "  \"meta\": {\n",
    "    \"profiler_details\": {\n",
    "      \"metric_configuration\": {\n",
    "        \"domain_kwargs\": {\n",
    "          \"column\": \"AIRCRAFT_TYPE\"\n",
    "        },\n",
    "        \"metric_name\": \"column.median\",\n",
    "        \"metric_value_kwargs\": None\n",
    "      },\n",
    "      \"num_batches\": 1\n",
    "    }\n",
    "  }\n",
    "})\n",
    "suite.remove_expectation(expectation_configuration=expectation_configuration)"
   ]
  },
  {
   "cell_type": "markdown",
   "metadata": {},
   "source": [
    "##### Remove mean value expectation for column"
   ]
  },
  {
   "cell_type": "code",
   "execution_count": 33,
   "metadata": {},
   "outputs": [
    {
     "data": {
      "text/plain": [
       "[{\"meta\": {\"profiler_details\": {\"metric_configuration\": {\"domain_kwargs\": {\"column\": \"AIRCRAFT_TYPE\"}, \"metric_name\": \"column.mean\", \"metric_value_kwargs\": null}, \"num_batches\": 1}}, \"kwargs\": {\"column\": \"AIRCRAFT_TYPE\", \"max_value\": 681.7155172413793, \"min_value\": 681.7155172413793, \"strict_max\": false, \"strict_min\": false}, \"expectation_type\": \"expect_column_mean_to_be_between\"}]"
      ]
     },
     "execution_count": 33,
     "metadata": {},
     "output_type": "execute_result"
    }
   ],
   "source": [
    "expectation_configuration = ExpectationConfiguration(**{\n",
    "  \"expectation_type\": \"expect_column_mean_to_be_between\",\n",
    "  \"kwargs\": {\n",
    "    \"column\": \"AIRCRAFT_TYPE\",\n",
    "    \"max_value\": 681.7155172413793,\n",
    "    \"min_value\": 681.7155172413793,\n",
    "    \"strict_max\": False,\n",
    "    \"strict_min\": False\n",
    "  },\n",
    "  \"meta\": {\n",
    "    \"profiler_details\": {\n",
    "      \"metric_configuration\": {\n",
    "        \"domain_kwargs\": {\n",
    "          \"column\": \"AIRCRAFT_TYPE\"\n",
    "        },\n",
    "        \"metric_name\": \"column.mean\",\n",
    "        \"metric_value_kwargs\": None\n",
    "      },\n",
    "      \"num_batches\": 1\n",
    "    }\n",
    "  }\n",
    "})\n",
    "suite.remove_expectation(expectation_configuration=expectation_configuration)"
   ]
  },
  {
   "cell_type": "markdown",
   "metadata": {},
   "source": [
    "##### Remove standard deviation value expectation for column"
   ]
  },
  {
   "cell_type": "code",
   "execution_count": 34,
   "metadata": {},
   "outputs": [
    {
     "data": {
      "text/plain": [
       "[{\"meta\": {\"profiler_details\": {\"metric_configuration\": {\"domain_kwargs\": {\"column\": \"AIRCRAFT_TYPE\"}, \"metric_name\": \"column.standard_deviation\", \"metric_value_kwargs\": null}, \"num_batches\": 1}}, \"kwargs\": {\"column\": \"AIRCRAFT_TYPE\", \"max_value\": 104.01201279559938, \"min_value\": 104.01201279559938, \"strict_max\": false, \"strict_min\": false}, \"expectation_type\": \"expect_column_stdev_to_be_between\"}]"
      ]
     },
     "execution_count": 34,
     "metadata": {},
     "output_type": "execute_result"
    }
   ],
   "source": [
    "expectation_configuration = ExpectationConfiguration(**{\n",
    "  \"expectation_type\": \"expect_column_stdev_to_be_between\",\n",
    "  \"kwargs\": {\n",
    "    \"column\": \"AIRCRAFT_TYPE\",\n",
    "    \"max_value\": 104.01201279559938,\n",
    "    \"min_value\": 104.01201279559938,\n",
    "    \"strict_max\": False,\n",
    "    \"strict_min\": False\n",
    "  },\n",
    "  \"meta\": {\n",
    "    \"profiler_details\": {\n",
    "      \"metric_configuration\": {\n",
    "        \"domain_kwargs\": {\n",
    "          \"column\": \"AIRCRAFT_TYPE\"\n",
    "        },\n",
    "        \"metric_name\": \"column.standard_deviation\",\n",
    "        \"metric_value_kwargs\": None\n",
    "      },\n",
    "      \"num_batches\": 1\n",
    "    }\n",
    "  }\n",
    "})\n",
    "suite.remove_expectation(expectation_configuration=expectation_configuration)"
   ]
  },
  {
   "cell_type": "markdown",
   "metadata": {},
   "source": [
    "##### Add expectation regarding values as in predefined list"
   ]
  },
  {
   "cell_type": "code",
   "execution_count": 35,
   "metadata": {},
   "outputs": [
    {
     "data": {
      "text/plain": [
       "{\"meta\": {\"profiler_details\": {\"metric_configuration\": {\"domain_kwargs\": {\"column\": \"AIRCRAFT_TYPE\"}, \"metric_name\": \"column.distinct_values\", \"metric_value_kwargs\": null}, \"num_batches\": 1, \"parse_strings_as_datetimes\": false}}, \"kwargs\": {\"column\": \"AIRCRAFT_TYPE\", \"mostly\": 1.0, \"value_set\": [838, 612, 614]}, \"expectation_type\": \"expect_column_values_to_be_in_set\"}"
      ]
     },
     "execution_count": 35,
     "metadata": {},
     "output_type": "execute_result"
    }
   ],
   "source": [
    "expectation_configuration = ExpectationConfiguration(**{\n",
    "  \"expectation_type\": \"expect_column_values_to_be_in_set\",\n",
    "  \"kwargs\": {\n",
    "    \"column\": \"AIRCRAFT_TYPE\",\n",
    "    \"mostly\": 1.0,\n",
    "    \"value_set\": [\n",
    "      838,\n",
    "      612,\n",
    "      614\n",
    "    ]\n",
    "  },\n",
    "  \"meta\": {\n",
    "    \"profiler_details\": {\n",
    "      \"metric_configuration\": {\n",
    "        \"domain_kwargs\": {\n",
    "          \"column\": \"AIRCRAFT_TYPE\"\n",
    "        },\n",
    "        \"metric_name\": \"column.distinct_values\",\n",
    "        \"metric_value_kwargs\": None\n",
    "      },\n",
    "      \"num_batches\": 1,\n",
    "      \"parse_strings_as_datetimes\": False\n",
    "    }\n",
    "  }\n",
    "})\n",
    "suite.add_expectation(expectation_configuration=expectation_configuration)"
   ]
  },
  {
   "cell_type": "markdown",
   "metadata": {},
   "source": [
    "##### Add unique value count expectation for column"
   ]
  },
  {
   "cell_type": "code",
   "execution_count": 36,
   "metadata": {},
   "outputs": [
    {
     "data": {
      "text/plain": [
       "{\"meta\": {\"profiler_details\": {\"metric_configuration\": {\"domain_kwargs\": {\"column\": \"AIRCRAFT_TYPE\"}, \"metric_name\": \"column.distinct_values.count\", \"metric_value_kwargs\": null}, \"num_batches\": 1}}, \"kwargs\": {\"column\": \"AIRCRAFT_TYPE\", \"max_value\": 3, \"min_value\": 3, \"strict_max\": false, \"strict_min\": false}, \"expectation_type\": \"expect_column_unique_value_count_to_be_between\"}"
      ]
     },
     "execution_count": 36,
     "metadata": {},
     "output_type": "execute_result"
    }
   ],
   "source": [
    "expectation_configuration = ExpectationConfiguration(**{\n",
    "  \"expectation_type\": \"expect_column_unique_value_count_to_be_between\",\n",
    "  \"kwargs\": {\n",
    "    \"column\": \"AIRCRAFT_TYPE\",\n",
    "    \"max_value\": 3,\n",
    "    \"min_value\": 3,\n",
    "    \"strict_max\": False,\n",
    "    \"strict_min\": False\n",
    "  },\n",
    "  \"meta\": {\n",
    "    \"profiler_details\": {\n",
    "      \"metric_configuration\": {\n",
    "        \"domain_kwargs\": {\n",
    "          \"column\": \"AIRCRAFT_TYPE\"\n",
    "        },\n",
    "        \"metric_name\": \"column.distinct_values.count\",\n",
    "        \"metric_value_kwargs\": None\n",
    "      },\n",
    "      \"num_batches\": 1\n",
    "    }\n",
    "  }\n",
    "})\n",
    "suite.add_expectation(expectation_configuration=expectation_configuration)"
   ]
  },
  {
   "cell_type": "markdown",
   "metadata": {},
   "source": [
    "##### Remove expectation regarding proportion of unique values in column"
   ]
  },
  {
   "cell_type": "code",
   "execution_count": 37,
   "metadata": {},
   "outputs": [
    {
     "data": {
      "text/plain": [
       "[{\"meta\": {\"profiler_details\": {\"metric_configuration\": {\"domain_kwargs\": {\"column\": \"AIRCRAFT_TYPE\"}, \"metric_name\": \"column.unique_proportion\", \"metric_value_kwargs\": null}, \"num_batches\": 1}}, \"kwargs\": {\"column\": \"AIRCRAFT_TYPE\", \"max_value\": 0.01293103448275862, \"min_value\": 0.01293103448275862, \"strict_max\": false, \"strict_min\": false}, \"expectation_type\": \"expect_column_proportion_of_unique_values_to_be_between\"}]"
      ]
     },
     "execution_count": 37,
     "metadata": {},
     "output_type": "execute_result"
    }
   ],
   "source": [
    "expectation_configuration = ExpectationConfiguration(**{\n",
    "  \"expectation_type\": \"expect_column_proportion_of_unique_values_to_be_between\",\n",
    "  \"kwargs\": {\n",
    "    \"column\": \"AIRCRAFT_TYPE\",\n",
    "    \"max_value\": 0.01293103448275862,\n",
    "    \"min_value\": 0.01293103448275862,\n",
    "    \"strict_max\": False,\n",
    "    \"strict_min\": False\n",
    "  },\n",
    "  \"meta\": {\n",
    "    \"profiler_details\": {\n",
    "      \"metric_configuration\": {\n",
    "        \"domain_kwargs\": {\n",
    "          \"column\": \"AIRCRAFT_TYPE\"\n",
    "        },\n",
    "        \"metric_name\": \"column.unique_proportion\",\n",
    "        \"metric_value_kwargs\": None\n",
    "      },\n",
    "      \"num_batches\": 1\n",
    "    }\n",
    "  }\n",
    "})\n",
    "suite.remove_expectation(expectation_configuration=expectation_configuration)"
   ]
  },
  {
   "cell_type": "markdown",
   "metadata": {},
   "source": [
    "#### Column Expectation(s) - SEATS_PER_FLIGHT"
   ]
  },
  {
   "cell_type": "markdown",
   "metadata": {},
   "source": [
    "##### Add values not to be null expectation"
   ]
  },
  {
   "cell_type": "code",
   "execution_count": 38,
   "metadata": {},
   "outputs": [
    {
     "data": {
      "text/plain": [
       "{\"meta\": {\"profiler_details\": {\"metric_configuration\": {\"domain_kwargs\": {\"column\": \"SEATS_PER_FLIGHT\"}, \"metric_name\": \"column_values.nonnull.unexpected_count\", \"metric_value_kwargs\": null}, \"num_batches\": 1}}, \"kwargs\": {\"column\": \"SEATS_PER_FLIGHT\"}, \"expectation_type\": \"expect_column_values_to_not_be_null\"}"
      ]
     },
     "execution_count": 38,
     "metadata": {},
     "output_type": "execute_result"
    }
   ],
   "source": [
    "expectation_configuration = ExpectationConfiguration(**{\n",
    "  \"expectation_type\": \"expect_column_values_to_not_be_null\",\n",
    "  \"kwargs\": {\n",
    "    \"column\": \"SEATS_PER_FLIGHT\"\n",
    "  },\n",
    "  \"meta\": {\n",
    "    \"profiler_details\": {\n",
    "      \"metric_configuration\": {\n",
    "        \"domain_kwargs\": {\n",
    "          \"column\": \"SEATS_PER_FLIGHT\"\n",
    "        },\n",
    "        \"metric_name\": \"column_values.nonnull.unexpected_count\",\n",
    "        \"metric_value_kwargs\": None\n",
    "      },\n",
    "      \"num_batches\": 1\n",
    "    }\n",
    "  }\n",
    "})\n",
    "suite.add_expectation(expectation_configuration=expectation_configuration)"
   ]
  },
  {
   "cell_type": "markdown",
   "metadata": {},
   "source": [
    "##### Remove min value expectation for column"
   ]
  },
  {
   "cell_type": "code",
   "execution_count": 39,
   "metadata": {},
   "outputs": [
    {
     "data": {
      "text/plain": [
       "[{\"meta\": {\"profiler_details\": {\"metric_configuration\": {\"domain_kwargs\": {\"column\": \"SEATS_PER_FLIGHT\"}, \"metric_name\": \"column.min\", \"metric_value_kwargs\": null}, \"num_batches\": 1}}, \"kwargs\": {\"column\": \"SEATS_PER_FLIGHT\", \"max_value\": 143.0, \"min_value\": 143.0, \"strict_max\": false, \"strict_min\": false}, \"expectation_type\": \"expect_column_min_to_be_between\"}]"
      ]
     },
     "execution_count": 39,
     "metadata": {},
     "output_type": "execute_result"
    }
   ],
   "source": [
    "expectation_configuration = ExpectationConfiguration(**{\n",
    "  \"expectation_type\": \"expect_column_min_to_be_between\",\n",
    "  \"kwargs\": {\n",
    "    \"column\": \"SEATS_PER_FLIGHT\",\n",
    "    \"max_value\": 175.0,\n",
    "    \"min_value\": 143.0,\n",
    "    \"strict_max\": False,\n",
    "    \"strict_min\": False\n",
    "  },\n",
    "  \"meta\": {\n",
    "    \"profiler_details\": {\n",
    "      \"metric_configuration\": {\n",
    "        \"domain_kwargs\": {\n",
    "          \"column\": \"SEATS_PER_FLIGHT\"\n",
    "        },\n",
    "        \"metric_name\": \"column.min\",\n",
    "        \"metric_value_kwargs\": None\n",
    "      },\n",
    "      \"num_batches\": 1\n",
    "    }\n",
    "  }\n",
    "})\n",
    "suite.remove_expectation(expectation_configuration=expectation_configuration)"
   ]
  },
  {
   "cell_type": "markdown",
   "metadata": {},
   "source": [
    "##### Remove max value expectation for column"
   ]
  },
  {
   "cell_type": "code",
   "execution_count": 40,
   "metadata": {},
   "outputs": [
    {
     "data": {
      "text/plain": [
       "[{\"meta\": {\"profiler_details\": {\"metric_configuration\": {\"domain_kwargs\": {\"column\": \"SEATS_PER_FLIGHT\"}, \"metric_name\": \"column.max\", \"metric_value_kwargs\": null}, \"num_batches\": 1}}, \"kwargs\": {\"column\": \"SEATS_PER_FLIGHT\", \"max_value\": 299.0, \"min_value\": 299.0, \"strict_max\": false, \"strict_min\": false}, \"expectation_type\": \"expect_column_max_to_be_between\"}]"
      ]
     },
     "execution_count": 40,
     "metadata": {},
     "output_type": "execute_result"
    }
   ],
   "source": [
    "expectation_configuration = ExpectationConfiguration(**{\n",
    "  \"expectation_type\": \"expect_column_max_to_be_between\",\n",
    "  \"kwargs\": {\n",
    "    \"column\": \"SEATS_PER_FLIGHT\",\n",
    "    \"max_value\": 175.0,\n",
    "    \"min_value\": 175.0,\n",
    "    \"strict_max\": False,\n",
    "    \"strict_min\": False\n",
    "  },\n",
    "  \"meta\": {\n",
    "    \"profiler_details\": {\n",
    "      \"metric_configuration\": {\n",
    "        \"domain_kwargs\": {\n",
    "          \"column\": \"SEATS_PER_FLIGHT\"\n",
    "        },\n",
    "        \"metric_name\": \"column.max\",\n",
    "        \"metric_value_kwargs\": None\n",
    "      },\n",
    "      \"num_batches\": 1\n",
    "    }\n",
    "  }\n",
    "})\n",
    "suite.remove_expectation(expectation_configuration=expectation_configuration)"
   ]
  },
  {
   "cell_type": "markdown",
   "metadata": {},
   "source": [
    "##### Add value range expectation for column"
   ]
  },
  {
   "cell_type": "code",
   "execution_count": 41,
   "metadata": {},
   "outputs": [
    {
     "data": {
      "text/plain": [
       "{\"meta\": {\"profiler_details\": {\"column_max_values_range_estimator\": {\"metric_configuration\": {\"domain_kwargs\": {\"column\": \"SEATS_PER_FLIGHT\"}, \"metric_name\": \"column.max\", \"metric_value_kwargs\": null}, \"num_batches\": 1}, \"column_min_values_range_estimator\": {\"metric_configuration\": {\"domain_kwargs\": {\"column\": \"SEATS_PER_FLIGHT\"}, \"metric_name\": \"column.min\", \"metric_value_kwargs\": null}, \"num_batches\": 1}}}, \"kwargs\": {\"column\": \"SEATS_PER_FLIGHT\", \"max_value\": 175.0, \"min_value\": 143.0, \"mostly\": 1.0, \"strict_max\": false, \"strict_min\": false}, \"expectation_type\": \"expect_column_values_to_be_between\"}"
      ]
     },
     "execution_count": 41,
     "metadata": {},
     "output_type": "execute_result"
    }
   ],
   "source": [
    "expectation_configuration = ExpectationConfiguration(**{\n",
    "  \"expectation_type\": \"expect_column_values_to_be_between\",\n",
    "  \"kwargs\": {\n",
    "    \"column\": \"SEATS_PER_FLIGHT\",\n",
    "    \"max_value\": 175.0,\n",
    "    \"min_value\": 143.0,\n",
    "    \"mostly\": 1.0,\n",
    "    \"strict_max\": False,\n",
    "    \"strict_min\": False\n",
    "  },\n",
    "  \"meta\": {\n",
    "    \"profiler_details\": {\n",
    "      \"column_max_values_range_estimator\": {\n",
    "        \"metric_configuration\": {\n",
    "          \"domain_kwargs\": {\n",
    "            \"column\": \"SEATS_PER_FLIGHT\"\n",
    "          },\n",
    "          \"metric_name\": \"column.max\",\n",
    "          \"metric_value_kwargs\": None\n",
    "        },\n",
    "        \"num_batches\": 1\n",
    "      },\n",
    "      \"column_min_values_range_estimator\": {\n",
    "        \"metric_configuration\": {\n",
    "          \"domain_kwargs\": {\n",
    "            \"column\": \"SEATS_PER_FLIGHT\"\n",
    "          },\n",
    "          \"metric_name\": \"column.min\",\n",
    "          \"metric_value_kwargs\": None\n",
    "        },\n",
    "        \"num_batches\": 1\n",
    "      }\n",
    "    }\n",
    "  }\n",
    "})\n",
    "suite.add_expectation(expectation_configuration=expectation_configuration)"
   ]
  },
  {
   "cell_type": "markdown",
   "metadata": {},
   "source": [
    "##### Remove quantile value expectation for column"
   ]
  },
  {
   "cell_type": "code",
   "execution_count": 42,
   "metadata": {},
   "outputs": [
    {
     "data": {
      "text/plain": [
       "[{\"meta\": {\"profiler_details\": {\"metric_configuration\": {\"domain_kwargs\": {\"column\": \"SEATS_PER_FLIGHT\"}, \"metric_name\": \"column.quantile_values\", \"metric_value_kwargs\": {\"allow_relative_error\": false, \"quantiles\": [0.25, 0.5, 0.75]}}, \"num_batches\": 1}}, \"kwargs\": {\"allow_relative_error\": false, \"column\": \"SEATS_PER_FLIGHT\", \"quantile_ranges\": {\"quantiles\": [0.25, 0.5, 0.75], \"value_ranges\": [[143.0, 143.0], [175.0, 175.0], [175.0, 175.0]]}}, \"expectation_type\": \"expect_column_quantile_values_to_be_between\"}]"
      ]
     },
     "execution_count": 42,
     "metadata": {},
     "output_type": "execute_result"
    }
   ],
   "source": [
    "expectation_configuration = ExpectationConfiguration(**{\n",
    "  \"expectation_type\": \"expect_column_quantile_values_to_be_between\",\n",
    "  \"kwargs\": {\n",
    "    \"allow_relative_error\": False,\n",
    "    \"column\": \"SEATS_PER_FLIGHT\",\n",
    "    \"quantile_ranges\": {\n",
    "      \"quantiles\": [\n",
    "        0.25,\n",
    "        0.5,\n",
    "        0.75\n",
    "      ],\n",
    "      \"value_ranges\": [\n",
    "        [\n",
    "          143.0,\n",
    "          143.0\n",
    "        ],\n",
    "        [\n",
    "          175.0,\n",
    "          175.0\n",
    "        ],\n",
    "        [\n",
    "          175.0,\n",
    "          175.0\n",
    "        ]\n",
    "      ]\n",
    "    }\n",
    "  },\n",
    "  \"meta\": {\n",
    "    \"profiler_details\": {\n",
    "      \"metric_configuration\": {\n",
    "        \"domain_kwargs\": {\n",
    "          \"column\": \"SEATS_PER_FLIGHT\"\n",
    "        },\n",
    "        \"metric_name\": \"column.quantile_values\",\n",
    "        \"metric_value_kwargs\": {\n",
    "          \"allow_relative_error\": False,\n",
    "          \"quantiles\": [\n",
    "            0.25,\n",
    "            0.5,\n",
    "            0.75\n",
    "          ]\n",
    "        }\n",
    "      },\n",
    "      \"num_batches\": 1\n",
    "    }\n",
    "  }\n",
    "})\n",
    "suite.remove_expectation(expectation_configuration=expectation_configuration)"
   ]
  },
  {
   "cell_type": "markdown",
   "metadata": {},
   "source": [
    "##### Remove median value expectation for column"
   ]
  },
  {
   "cell_type": "code",
   "execution_count": 43,
   "metadata": {},
   "outputs": [
    {
     "data": {
      "text/plain": [
       "[{\"meta\": {\"profiler_details\": {\"metric_configuration\": {\"domain_kwargs\": {\"column\": \"SEATS_PER_FLIGHT\"}, \"metric_name\": \"column.median\", \"metric_value_kwargs\": null}, \"num_batches\": 1}}, \"kwargs\": {\"column\": \"SEATS_PER_FLIGHT\", \"max_value\": 175.0, \"min_value\": 175.0, \"strict_max\": false, \"strict_min\": false}, \"expectation_type\": \"expect_column_median_to_be_between\"}]"
      ]
     },
     "execution_count": 43,
     "metadata": {},
     "output_type": "execute_result"
    }
   ],
   "source": [
    "expectation_configuration = ExpectationConfiguration(**{\n",
    "  \"expectation_type\": \"expect_column_median_to_be_between\",\n",
    "  \"kwargs\": {\n",
    "    \"column\": \"SEATS_PER_FLIGHT\",\n",
    "    \"max_value\": 175.0,\n",
    "    \"min_value\": 175.0,\n",
    "    \"strict_max\": False,\n",
    "    \"strict_min\": False\n",
    "  },\n",
    "  \"meta\": {\n",
    "    \"profiler_details\": {\n",
    "      \"metric_configuration\": {\n",
    "        \"domain_kwargs\": {\n",
    "          \"column\": \"SEATS_PER_FLIGHT\"\n",
    "        },\n",
    "        \"metric_name\": \"column.median\",\n",
    "        \"metric_value_kwargs\": None\n",
    "      },\n",
    "      \"num_batches\": 1\n",
    "    }\n",
    "  }\n",
    "})\n",
    "suite.remove_expectation(expectation_configuration=expectation_configuration)"
   ]
  },
  {
   "cell_type": "markdown",
   "metadata": {},
   "source": [
    "##### Remove mean value expectation for column"
   ]
  },
  {
   "cell_type": "code",
   "execution_count": 44,
   "metadata": {},
   "outputs": [
    {
     "data": {
      "text/plain": [
       "[{\"meta\": {\"profiler_details\": {\"metric_configuration\": {\"domain_kwargs\": {\"column\": \"SEATS_PER_FLIGHT\"}, \"metric_name\": \"column.mean\", \"metric_value_kwargs\": null}, \"num_batches\": 1}}, \"kwargs\": {\"column\": \"SEATS_PER_FLIGHT\", \"max_value\": 162.9655172413793, \"min_value\": 162.9655172413793, \"strict_max\": false, \"strict_min\": false}, \"expectation_type\": \"expect_column_mean_to_be_between\"}]"
      ]
     },
     "execution_count": 44,
     "metadata": {},
     "output_type": "execute_result"
    }
   ],
   "source": [
    "expectation_configuration = ExpectationConfiguration(**{\n",
    "  \"expectation_type\": \"expect_column_mean_to_be_between\",\n",
    "  \"kwargs\": {\n",
    "    \"column\": \"SEATS_PER_FLIGHT\",\n",
    "    \"max_value\": 161.6206896551724,\n",
    "    \"min_value\": 161.6206896551724,\n",
    "    \"strict_max\": False,\n",
    "    \"strict_min\": False\n",
    "  },\n",
    "  \"meta\": {\n",
    "    \"profiler_details\": {\n",
    "      \"metric_configuration\": {\n",
    "        \"domain_kwargs\": {\n",
    "          \"column\": \"SEATS_PER_FLIGHT\"\n",
    "        },\n",
    "        \"metric_name\": \"column.mean\",\n",
    "        \"metric_value_kwargs\": None\n",
    "      },\n",
    "      \"num_batches\": 1\n",
    "    }\n",
    "  }\n",
    "})\n",
    "suite.remove_expectation(expectation_configuration=expectation_configuration)"
   ]
  },
  {
   "cell_type": "markdown",
   "metadata": {},
   "source": [
    "##### Remove standard deviation value expectation for column"
   ]
  },
  {
   "cell_type": "code",
   "execution_count": 45,
   "metadata": {},
   "outputs": [
    {
     "data": {
      "text/plain": [
       "[{\"meta\": {\"profiler_details\": {\"metric_configuration\": {\"domain_kwargs\": {\"column\": \"SEATS_PER_FLIGHT\"}, \"metric_name\": \"column.standard_deviation\", \"metric_value_kwargs\": null}, \"num_batches\": 1}}, \"kwargs\": {\"column\": \"SEATS_PER_FLIGHT\", \"max_value\": 20.21868795417858, \"min_value\": 20.21868795417858, \"strict_max\": false, \"strict_min\": false}, \"expectation_type\": \"expect_column_stdev_to_be_between\"}]"
      ]
     },
     "execution_count": 45,
     "metadata": {},
     "output_type": "execute_result"
    }
   ],
   "source": [
    "expectation_configuration = ExpectationConfiguration(**{\n",
    "  \"expectation_type\": \"expect_column_stdev_to_be_between\",\n",
    "  \"kwargs\": {\n",
    "    \"column\": \"SEATS_PER_FLIGHT\",\n",
    "    \"max_value\": 15.818042836457227,\n",
    "    \"min_value\": 15.818042836457227,\n",
    "    \"strict_max\": False,\n",
    "    \"strict_min\": False\n",
    "  },\n",
    "  \"meta\": {\n",
    "    \"profiler_details\": {\n",
    "      \"metric_configuration\": {\n",
    "        \"domain_kwargs\": {\n",
    "          \"column\": \"SEATS_PER_FLIGHT\"\n",
    "        },\n",
    "        \"metric_name\": \"column.standard_deviation\",\n",
    "        \"metric_value_kwargs\": None\n",
    "      },\n",
    "      \"num_batches\": 1\n",
    "    }\n",
    "  }\n",
    "})\n",
    "suite.remove_expectation(expectation_configuration=expectation_configuration)"
   ]
  },
  {
   "cell_type": "markdown",
   "metadata": {},
   "source": [
    "##### Remove expectation regarding values as in predefined list"
   ]
  },
  {
   "cell_type": "code",
   "execution_count": 46,
   "metadata": {},
   "outputs": [
    {
     "data": {
      "text/plain": [
       "[{\"meta\": {\"profiler_details\": {\"metric_configuration\": {\"domain_kwargs\": {\"column\": \"SEATS_PER_FLIGHT\"}, \"metric_name\": \"column.distinct_values\", \"metric_value_kwargs\": null}, \"num_batches\": 1, \"parse_strings_as_datetimes\": false}}, \"kwargs\": {\"column\": \"SEATS_PER_FLIGHT\", \"mostly\": 1.0, \"value_set\": [175.0, 299.0, 143.0]}, \"expectation_type\": \"expect_column_values_to_be_in_set\"}]"
      ]
     },
     "execution_count": 46,
     "metadata": {},
     "output_type": "execute_result"
    }
   ],
   "source": [
    "expectation_configuration = ExpectationConfiguration(**{\n",
    "  \"expectation_type\": \"expect_column_values_to_be_in_set\",\n",
    "  \"kwargs\": {\n",
    "    \"column\": \"SEATS_PER_FLIGHT\",\n",
    "    \"mostly\": 1.0,\n",
    "    \"value_set\": [\n",
    "      175.0,\n",
    "      143.0\n",
    "    ]\n",
    "  },\n",
    "  \"meta\": {\n",
    "    \"profiler_details\": {\n",
    "      \"metric_configuration\": {\n",
    "        \"domain_kwargs\": {\n",
    "          \"column\": \"SEATS_PER_FLIGHT\"\n",
    "        },\n",
    "        \"metric_name\": \"column.distinct_values\",\n",
    "        \"metric_value_kwargs\": None\n",
    "      },\n",
    "      \"num_batches\": 1,\n",
    "      \"parse_strings_as_datetimes\": False\n",
    "    }\n",
    "  }\n",
    "})\n",
    "suite.remove_expectation(expectation_configuration=expectation_configuration)"
   ]
  },
  {
   "cell_type": "markdown",
   "metadata": {},
   "source": [
    "##### Add unique value count expectation"
   ]
  },
  {
   "cell_type": "code",
   "execution_count": 47,
   "metadata": {},
   "outputs": [
    {
     "data": {
      "text/plain": [
       "{\"meta\": {\"profiler_details\": {\"metric_configuration\": {\"domain_kwargs\": {\"column\": \"SEATS_PER_FLIGHT\"}, \"metric_name\": \"column.distinct_values.count\", \"metric_value_kwargs\": null}, \"num_batches\": 1}}, \"kwargs\": {\"column\": \"SEATS_PER_FLIGHT\", \"max_value\": 2, \"min_value\": 2, \"strict_max\": false, \"strict_min\": false}, \"expectation_type\": \"expect_column_unique_value_count_to_be_between\"}"
      ]
     },
     "execution_count": 47,
     "metadata": {},
     "output_type": "execute_result"
    }
   ],
   "source": [
    "expectation_configuration = ExpectationConfiguration(**{\n",
    "  \"expectation_type\": \"expect_column_unique_value_count_to_be_between\",\n",
    "  \"kwargs\": {\n",
    "    \"column\": \"SEATS_PER_FLIGHT\",\n",
    "    \"max_value\": 2,\n",
    "    \"min_value\": 2,\n",
    "    \"strict_max\": False,\n",
    "    \"strict_min\": False\n",
    "  },\n",
    "  \"meta\": {\n",
    "    \"profiler_details\": {\n",
    "      \"metric_configuration\": {\n",
    "        \"domain_kwargs\": {\n",
    "          \"column\": \"SEATS_PER_FLIGHT\"\n",
    "        },\n",
    "        \"metric_name\": \"column.distinct_values.count\",\n",
    "        \"metric_value_kwargs\": None\n",
    "      },\n",
    "      \"num_batches\": 1\n",
    "    }\n",
    "  }\n",
    "})\n",
    "suite.add_expectation(expectation_configuration=expectation_configuration)"
   ]
  },
  {
   "cell_type": "markdown",
   "metadata": {},
   "source": [
    "##### Remove expectation regarding proportion of unique values in column"
   ]
  },
  {
   "cell_type": "code",
   "execution_count": 48,
   "metadata": {},
   "outputs": [
    {
     "data": {
      "text/plain": [
       "[{\"meta\": {\"profiler_details\": {\"metric_configuration\": {\"domain_kwargs\": {\"column\": \"SEATS_PER_FLIGHT\"}, \"metric_name\": \"column.unique_proportion\", \"metric_value_kwargs\": null}, \"num_batches\": 1}}, \"kwargs\": {\"column\": \"SEATS_PER_FLIGHT\", \"max_value\": 0.01293103448275862, \"min_value\": 0.01293103448275862, \"strict_max\": false, \"strict_min\": false}, \"expectation_type\": \"expect_column_proportion_of_unique_values_to_be_between\"}]"
      ]
     },
     "execution_count": 48,
     "metadata": {},
     "output_type": "execute_result"
    }
   ],
   "source": [
    "expectation_configuration = ExpectationConfiguration(**{\n",
    "  \"expectation_type\": \"expect_column_proportion_of_unique_values_to_be_between\",\n",
    "  \"kwargs\": {\n",
    "    \"column\": \"SEATS_PER_FLIGHT\",\n",
    "    \"max_value\": 0.008620689655172414,\n",
    "    \"min_value\": 0.008620689655172414,\n",
    "    \"strict_max\": False,\n",
    "    \"strict_min\": False\n",
    "  },\n",
    "  \"meta\": {\n",
    "    \"profiler_details\": {\n",
    "      \"metric_configuration\": {\n",
    "        \"domain_kwargs\": {\n",
    "          \"column\": \"SEATS_PER_FLIGHT\"\n",
    "        },\n",
    "        \"metric_name\": \"column.unique_proportion\",\n",
    "        \"metric_value_kwargs\": None\n",
    "      },\n",
    "      \"num_batches\": 1\n",
    "    }\n",
    "  }\n",
    "})\n",
    "suite.remove_expectation(expectation_configuration=expectation_configuration)"
   ]
  },
  {
   "cell_type": "markdown",
   "metadata": {},
   "source": [
    "#### Column Expectation(s) - AV_PASSENGERS_PER_FLIGHT"
   ]
  },
  {
   "cell_type": "markdown",
   "metadata": {},
   "source": [
    "##### Add values not to be null expectation"
   ]
  },
  {
   "cell_type": "code",
   "execution_count": 49,
   "metadata": {},
   "outputs": [
    {
     "data": {
      "text/plain": [
       "{\"meta\": {\"profiler_details\": {\"metric_configuration\": {\"domain_kwargs\": {\"column\": \"AV_PASSENGERS_PER_FLIGHT\"}, \"metric_name\": \"column_values.nonnull.unexpected_count\", \"metric_value_kwargs\": null}, \"num_batches\": 1}}, \"kwargs\": {\"column\": \"AV_PASSENGERS_PER_FLIGHT\"}, \"expectation_type\": \"expect_column_values_to_not_be_null\"}"
      ]
     },
     "execution_count": 49,
     "metadata": {},
     "output_type": "execute_result"
    }
   ],
   "source": [
    "expectation_configuration = ExpectationConfiguration(**{\n",
    "  \"expectation_type\": \"expect_column_values_to_not_be_null\",\n",
    "  \"kwargs\": {\n",
    "    \"column\": \"AV_PASSENGERS_PER_FLIGHT\"\n",
    "  },\n",
    "  \"meta\": {\n",
    "    \"profiler_details\": {\n",
    "      \"metric_configuration\": {\n",
    "        \"domain_kwargs\": {\n",
    "          \"column\": \"AV_PASSENGERS_PER_FLIGHT\"\n",
    "        },\n",
    "        \"metric_name\": \"column_values.nonnull.unexpected_count\",\n",
    "        \"metric_value_kwargs\": None\n",
    "      },\n",
    "      \"num_batches\": 1\n",
    "    }\n",
    "  }\n",
    "})\n",
    "suite.add_expectation(expectation_configuration=expectation_configuration)"
   ]
  },
  {
   "cell_type": "markdown",
   "metadata": {},
   "source": [
    "##### Add value range expectation for column"
   ]
  },
  {
   "cell_type": "code",
   "execution_count": 50,
   "metadata": {},
   "outputs": [
    {
     "data": {
      "text/plain": [
       "{\"meta\": {\"profiler_details\": {\"column_max_values_range_estimator\": {\"metric_configuration\": {\"domain_kwargs\": {\"column\": \"AV_PASSENGERS_PER_FLIGHT\"}, \"metric_name\": \"column.max\", \"metric_value_kwargs\": null}, \"num_batches\": 1}, \"column_min_values_range_estimator\": {\"metric_configuration\": {\"domain_kwargs\": {\"column\": \"AV_PASSENGERS_PER_FLIGHT\"}, \"metric_name\": \"column.min\", \"metric_value_kwargs\": null}, \"num_batches\": 1}}}, \"kwargs\": {\"column\": \"AV_PASSENGERS_PER_FLIGHT\", \"min_value\": 1, \"max_value\": 175}, \"expectation_type\": \"expect_column_values_to_be_between\"}"
      ]
     },
     "execution_count": 50,
     "metadata": {},
     "output_type": "execute_result"
    }
   ],
   "source": [
    "expectation_configuration = ExpectationConfiguration(**{\n",
    " 'expectation_type': 'expect_column_values_to_be_between',\n",
    "  'kwargs': {\n",
    "    'column': 'AV_PASSENGERS_PER_FLIGHT',\n",
    "    'min_value': 1,\n",
    "    'max_value': 175\n",
    "  },\n",
    "  \"meta\": {\n",
    "    \"profiler_details\": {\n",
    "      \"column_max_values_range_estimator\": {\n",
    "        \"metric_configuration\": {\n",
    "          \"domain_kwargs\": {\n",
    "            \"column\": \"AV_PASSENGERS_PER_FLIGHT\"\n",
    "          },\n",
    "          \"metric_name\": \"column.max\",\n",
    "          \"metric_value_kwargs\": None\n",
    "        },\n",
    "        \"num_batches\": 1\n",
    "      },\n",
    "      \"column_min_values_range_estimator\": {\n",
    "        \"metric_configuration\": {\n",
    "          \"domain_kwargs\": {\n",
    "            \"column\": \"AV_PASSENGERS_PER_FLIGHT\"\n",
    "          },\n",
    "          \"metric_name\": \"column.min\",\n",
    "          \"metric_value_kwargs\": None\n",
    "        },\n",
    "        \"num_batches\": 1\n",
    "      }\n",
    "    }\n",
    "  }\n",
    "})\n",
    "suite.add_expectation(expectation_configuration=expectation_configuration)\n"
   ]
  },
  {
   "cell_type": "markdown",
   "metadata": {},
   "source": [
    "##### Remove min value expectation for column"
   ]
  },
  {
   "cell_type": "code",
   "execution_count": 51,
   "metadata": {},
   "outputs": [
    {
     "data": {
      "text/plain": [
       "[{\"meta\": {\"profiler_details\": {\"metric_configuration\": {\"domain_kwargs\": {\"column\": \"AV_PASSENGERS_PER_FLIGHT\"}, \"metric_name\": \"column.min\", \"metric_value_kwargs\": null}, \"num_batches\": 1}}, \"kwargs\": {\"column\": \"AV_PASSENGERS_PER_FLIGHT\", \"max_value\": 49.0, \"min_value\": 49.0, \"strict_max\": false, \"strict_min\": false}, \"expectation_type\": \"expect_column_min_to_be_between\"}]"
      ]
     },
     "execution_count": 51,
     "metadata": {},
     "output_type": "execute_result"
    }
   ],
   "source": [
    "expectation_configuration = ExpectationConfiguration(**{\n",
    "  \"expectation_type\": \"expect_column_min_to_be_between\",\n",
    "  \"kwargs\": {\n",
    "    \"column\": \"AV_PASSENGERS_PER_FLIGHT\",\n",
    "    \"max_value\": 49.0,\n",
    "    \"min_value\": 49.0,\n",
    "    \"strict_max\": False,\n",
    "    \"strict_min\": False\n",
    "  },\n",
    "  \"meta\": {\n",
    "    \"profiler_details\": {\n",
    "      \"metric_configuration\": {\n",
    "        \"domain_kwargs\": {\n",
    "          \"column\": \"AV_PASSENGERS_PER_FLIGHT\"\n",
    "        },\n",
    "        \"metric_name\": \"column.min\",\n",
    "        \"metric_value_kwargs\": None\n",
    "      },\n",
    "      \"num_batches\": 1\n",
    "    }\n",
    "  }\n",
    "})\n",
    "suite.remove_expectation(expectation_configuration=expectation_configuration)"
   ]
  },
  {
   "cell_type": "markdown",
   "metadata": {},
   "source": [
    "##### Remove max value expectation for column"
   ]
  },
  {
   "cell_type": "code",
   "execution_count": 52,
   "metadata": {},
   "outputs": [
    {
     "data": {
      "text/plain": [
       "[{\"meta\": {\"profiler_details\": {\"metric_configuration\": {\"domain_kwargs\": {\"column\": \"AV_PASSENGERS_PER_FLIGHT\"}, \"metric_name\": \"column.max\", \"metric_value_kwargs\": null}, \"num_batches\": 1}}, \"kwargs\": {\"column\": \"AV_PASSENGERS_PER_FLIGHT\", \"max_value\": 173.0, \"min_value\": 173.0, \"strict_max\": false, \"strict_min\": false}, \"expectation_type\": \"expect_column_max_to_be_between\"}]"
      ]
     },
     "execution_count": 52,
     "metadata": {},
     "output_type": "execute_result"
    }
   ],
   "source": [
    "expectation_configuration = ExpectationConfiguration(**{\n",
    "  \"expectation_type\": \"expect_column_max_to_be_between\",\n",
    "  \"kwargs\": {\n",
    "    \"column\": \"AV_PASSENGERS_PER_FLIGHT\",\n",
    "    \"max_value\": 173.0,\n",
    "    \"min_value\": 173.0,\n",
    "    \"strict_max\": False,\n",
    "    \"strict_min\": False\n",
    "  },\n",
    "  \"meta\": {\n",
    "    \"profiler_details\": {\n",
    "      \"metric_configuration\": {\n",
    "        \"domain_kwargs\": {\n",
    "          \"column\": \"AV_PASSENGERS_PER_FLIGHT\"\n",
    "        },\n",
    "        \"metric_name\": \"column.max\",\n",
    "        \"metric_value_kwargs\": None\n",
    "      },\n",
    "      \"num_batches\": 1\n",
    "    }\n",
    "  }\n",
    "})\n",
    "suite.remove_expectation(expectation_configuration=expectation_configuration)"
   ]
  },
  {
   "cell_type": "markdown",
   "metadata": {},
   "source": [
    "##### Remove value range expectation for column"
   ]
  },
  {
   "cell_type": "code",
   "execution_count": 53,
   "metadata": {},
   "outputs": [
    {
     "data": {
      "text/plain": [
       "[{\"meta\": {\"profiler_details\": {\"column_max_values_range_estimator\": {\"metric_configuration\": {\"domain_kwargs\": {\"column\": \"AV_PASSENGERS_PER_FLIGHT\"}, \"metric_name\": \"column.max\", \"metric_value_kwargs\": null}, \"num_batches\": 1}, \"column_min_values_range_estimator\": {\"metric_configuration\": {\"domain_kwargs\": {\"column\": \"AV_PASSENGERS_PER_FLIGHT\"}, \"metric_name\": \"column.min\", \"metric_value_kwargs\": null}, \"num_batches\": 1}}}, \"kwargs\": {\"column\": \"AV_PASSENGERS_PER_FLIGHT\", \"min_value\": 1, \"max_value\": 175}, \"expectation_type\": \"expect_column_values_to_be_between\"}]"
      ]
     },
     "execution_count": 53,
     "metadata": {},
     "output_type": "execute_result"
    }
   ],
   "source": [
    "expectation_configuration = ExpectationConfiguration(**{\n",
    "  \"expectation_type\": \"expect_column_values_to_be_between\",\n",
    "  \"kwargs\": {\n",
    "    \"column\": \"AV_PASSENGERS_PER_FLIGHT\",\n",
    "    \"max_value\": 173.0,\n",
    "    \"min_value\": 49.0,\n",
    "    \"mostly\": 1.0,\n",
    "    \"strict_max\": False,\n",
    "    \"strict_min\": False\n",
    "  },\n",
    "  \"meta\": {\n",
    "    \"profiler_details\": {\n",
    "      \"column_max_values_range_estimator\": {\n",
    "        \"metric_configuration\": {\n",
    "          \"domain_kwargs\": {\n",
    "            \"column\": \"AV_PASSENGERS_PER_FLIGHT\"\n",
    "          },\n",
    "          \"metric_name\": \"column.max\",\n",
    "          \"metric_value_kwargs\": None\n",
    "        },\n",
    "        \"num_batches\": 1\n",
    "      },\n",
    "      \"column_min_values_range_estimator\": {\n",
    "        \"metric_configuration\": {\n",
    "          \"domain_kwargs\": {\n",
    "            \"column\": \"AV_PASSENGERS_PER_FLIGHT\"\n",
    "          },\n",
    "          \"metric_name\": \"column.min\",\n",
    "          \"metric_value_kwargs\": None\n",
    "        },\n",
    "        \"num_batches\": 1\n",
    "      }\n",
    "    }\n",
    "  }\n",
    "})\n",
    "suite.remove_expectation(expectation_configuration=expectation_configuration)"
   ]
  },
  {
   "cell_type": "markdown",
   "metadata": {},
   "source": [
    "##### Remove quantile value expectation for column"
   ]
  },
  {
   "cell_type": "code",
   "execution_count": 54,
   "metadata": {},
   "outputs": [
    {
     "data": {
      "text/plain": [
       "[{\"meta\": {\"profiler_details\": {\"metric_configuration\": {\"domain_kwargs\": {\"column\": \"AV_PASSENGERS_PER_FLIGHT\"}, \"metric_name\": \"column.quantile_values\", \"metric_value_kwargs\": {\"allow_relative_error\": false, \"quantiles\": [0.25, 0.5, 0.75]}}, \"num_batches\": 1}}, \"kwargs\": {\"allow_relative_error\": false, \"column\": \"AV_PASSENGERS_PER_FLIGHT\", \"quantile_ranges\": {\"quantiles\": [0.25, 0.5, 0.75], \"value_ranges\": [[124.7, 124.7], [137.9, 137.9], [153.33, 153.33]]}}, \"expectation_type\": \"expect_column_quantile_values_to_be_between\"}]"
      ]
     },
     "execution_count": 54,
     "metadata": {},
     "output_type": "execute_result"
    }
   ],
   "source": [
    "expectation_configuration = ExpectationConfiguration(**{\n",
    "  \"expectation_type\": \"expect_column_quantile_values_to_be_between\",\n",
    "  \"kwargs\": {\n",
    "    \"allow_relative_error\": False,\n",
    "    \"column\": \"AV_PASSENGERS_PER_FLIGHT\",\n",
    "    \"quantile_ranges\": {\n",
    "      \"quantiles\": [\n",
    "        0.25,\n",
    "        0.5,\n",
    "        0.75\n",
    "      ],\n",
    "      \"value_ranges\": [\n",
    "        [\n",
    "          124.7,\n",
    "          124.7\n",
    "        ],\n",
    "        [\n",
    "          137.9,\n",
    "          137.9\n",
    "        ],\n",
    "        [\n",
    "          153.33,\n",
    "          153.33\n",
    "        ]\n",
    "      ]\n",
    "    }\n",
    "  },\n",
    "  \"meta\": {\n",
    "    \"profiler_details\": {\n",
    "      \"metric_configuration\": {\n",
    "        \"domain_kwargs\": {\n",
    "          \"column\": \"AV_PASSENGERS_PER_FLIGHT\"\n",
    "        },\n",
    "        \"metric_name\": \"column.quantile_values\",\n",
    "        \"metric_value_kwargs\": {\n",
    "          \"allow_relative_error\": False,\n",
    "          \"quantiles\": [\n",
    "            0.25,\n",
    "            0.5,\n",
    "            0.75\n",
    "          ]\n",
    "        }\n",
    "      },\n",
    "      \"num_batches\": 1\n",
    "    }\n",
    "  }\n",
    "})\n",
    "suite.remove_expectation(expectation_configuration=expectation_configuration)"
   ]
  },
  {
   "cell_type": "markdown",
   "metadata": {},
   "source": [
    "##### Remove median value expectation for column"
   ]
  },
  {
   "cell_type": "code",
   "execution_count": 55,
   "metadata": {},
   "outputs": [
    {
     "data": {
      "text/plain": [
       "[{\"meta\": {\"profiler_details\": {\"metric_configuration\": {\"domain_kwargs\": {\"column\": \"AV_PASSENGERS_PER_FLIGHT\"}, \"metric_name\": \"column.median\", \"metric_value_kwargs\": null}, \"num_batches\": 1}}, \"kwargs\": {\"column\": \"AV_PASSENGERS_PER_FLIGHT\", \"max_value\": 137.825, \"min_value\": 137.825, \"strict_max\": false, \"strict_min\": false}, \"expectation_type\": \"expect_column_median_to_be_between\"}]"
      ]
     },
     "execution_count": 55,
     "metadata": {},
     "output_type": "execute_result"
    }
   ],
   "source": [
    "expectation_configuration = ExpectationConfiguration(**{\n",
    "  \"expectation_type\": \"expect_column_median_to_be_between\",\n",
    "  \"kwargs\": {\n",
    "    \"column\": \"AV_PASSENGERS_PER_FLIGHT\",\n",
    "    \"max_value\": 137.825,\n",
    "    \"min_value\": 137.825,\n",
    "    \"strict_max\": False,\n",
    "    \"strict_min\": False\n",
    "  },\n",
    "  \"meta\": {\n",
    "    \"profiler_details\": {\n",
    "      \"metric_configuration\": {\n",
    "        \"domain_kwargs\": {\n",
    "          \"column\": \"AV_PASSENGERS_PER_FLIGHT\"\n",
    "        },\n",
    "        \"metric_name\": \"column.median\",\n",
    "        \"metric_value_kwargs\": None\n",
    "      },\n",
    "      \"num_batches\": 1\n",
    "    }\n",
    "  }\n",
    "})\n",
    "suite.remove_expectation(expectation_configuration=expectation_configuration)"
   ]
  },
  {
   "cell_type": "markdown",
   "metadata": {},
   "source": [
    "##### Remove mean value expectation for column"
   ]
  },
  {
   "cell_type": "code",
   "execution_count": 56,
   "metadata": {},
   "outputs": [
    {
     "data": {
      "text/plain": [
       "[{\"meta\": {\"profiler_details\": {\"metric_configuration\": {\"domain_kwargs\": {\"column\": \"AV_PASSENGERS_PER_FLIGHT\"}, \"metric_name\": \"column.mean\", \"metric_value_kwargs\": null}, \"num_batches\": 1}}, \"kwargs\": {\"column\": \"AV_PASSENGERS_PER_FLIGHT\", \"max_value\": 135.86836206896552, \"min_value\": 135.86836206896552, \"strict_max\": false, \"strict_min\": false}, \"expectation_type\": \"expect_column_mean_to_be_between\"}]"
      ]
     },
     "execution_count": 56,
     "metadata": {},
     "output_type": "execute_result"
    }
   ],
   "source": [
    "expectation_configuration = ExpectationConfiguration(**{\n",
    "  \"expectation_type\": \"expect_column_mean_to_be_between\",\n",
    "  \"kwargs\": {\n",
    "    \"column\": \"AV_PASSENGERS_PER_FLIGHT\",\n",
    "    \"max_value\": 135.86836206896552,\n",
    "    \"min_value\": 135.86836206896552,\n",
    "    \"strict_max\": False,\n",
    "    \"strict_min\": False\n",
    "  },\n",
    "  \"meta\": {\n",
    "    \"profiler_details\": {\n",
    "      \"metric_configuration\": {\n",
    "        \"domain_kwargs\": {\n",
    "          \"column\": \"AV_PASSENGERS_PER_FLIGHT\"\n",
    "        },\n",
    "        \"metric_name\": \"column.mean\",\n",
    "        \"metric_value_kwargs\": None\n",
    "      },\n",
    "      \"num_batches\": 1\n",
    "    }\n",
    "  }\n",
    "})\n",
    "suite.remove_expectation(expectation_configuration=expectation_configuration)"
   ]
  },
  {
   "cell_type": "markdown",
   "metadata": {},
   "source": [
    "##### Remove standrad deviation value expectation for column"
   ]
  },
  {
   "cell_type": "code",
   "execution_count": 57,
   "metadata": {},
   "outputs": [
    {
     "data": {
      "text/plain": [
       "[{\"meta\": {\"profiler_details\": {\"metric_configuration\": {\"domain_kwargs\": {\"column\": \"AV_PASSENGERS_PER_FLIGHT\"}, \"metric_name\": \"column.standard_deviation\", \"metric_value_kwargs\": null}, \"num_batches\": 1}}, \"kwargs\": {\"column\": \"AV_PASSENGERS_PER_FLIGHT\", \"max_value\": 22.994313392398112, \"min_value\": 22.994313392398112, \"strict_max\": false, \"strict_min\": false}, \"expectation_type\": \"expect_column_stdev_to_be_between\"}]"
      ]
     },
     "execution_count": 57,
     "metadata": {},
     "output_type": "execute_result"
    }
   ],
   "source": [
    "expectation_configuration = ExpectationConfiguration(**{\n",
    "  \"expectation_type\": \"expect_column_stdev_to_be_between\",\n",
    "  \"kwargs\": {\n",
    "    \"column\": \"AV_PASSENGERS_PER_FLIGHT\",\n",
    "    \"max_value\": 22.994313392398112,\n",
    "    \"min_value\": 22.994313392398112,\n",
    "    \"strict_max\": False,\n",
    "    \"strict_min\": False\n",
    "  },\n",
    "  \"meta\": {\n",
    "    \"profiler_details\": {\n",
    "      \"metric_configuration\": {\n",
    "        \"domain_kwargs\": {\n",
    "          \"column\": \"AV_PASSENGERS_PER_FLIGHT\"\n",
    "        },\n",
    "        \"metric_name\": \"column.standard_deviation\",\n",
    "        \"metric_value_kwargs\": None\n",
    "      },\n",
    "      \"num_batches\": 1\n",
    "    }\n",
    "  }\n",
    "})\n",
    "suite.remove_expectation(expectation_configuration=expectation_configuration)"
   ]
  },
  {
   "cell_type": "markdown",
   "metadata": {},
   "source": [
    "### Update Expectation Suite with edited expectations and build and open data docs with expectation suite"
   ]
  },
  {
   "cell_type": "code",
   "execution_count": 58,
   "metadata": {},
   "outputs": [
    {
     "name": "stdout",
     "output_type": "stream",
     "text": [
      "{\n",
      "  \"data_asset_type\": null,\n",
      "  \"meta\": {\n",
      "    \"citations\": [\n",
      "      {\n",
      "        \"citation_date\": \"2024-09-22T12:26:52.219104Z\",\n",
      "        \"comment\": \"Created by effective Rule-Based Profiler of OnboardingDataAssistant with the configuration included.\\n\"\n",
      "      }\n",
      "    ],\n",
      "    \"great_expectations_version\": \"0.18.13\"\n",
      "  },\n",
      "  \"expectation_suite_name\": \"southwest_passengers_suite\",\n",
      "  \"ge_cloud_id\": null,\n",
      "  \"expectations\": [\n",
      "    {\n",
      "      \"meta\": {\n",
      "        \"profiler_details\": {\n",
      "          \"metric_configuration\": {\n",
      "            \"domain_kwargs\": {},\n",
      "            \"metric_name\": \"table.row_count\",\n",
      "            \"metric_value_kwargs\": null\n",
      "          },\n",
      "          \"num_batches\": 1\n",
      "        }\n",
      "      },\n",
      "      \"kwargs\": {\n",
      "        \"max_value\": 232,\n",
      "        \"min_value\": 232\n",
      "      },\n",
      "      \"expectation_type\": \"expect_table_row_count_to_be_between\"\n",
      "    },\n",
      "    {\n",
      "      \"meta\": {\n",
      "        \"profiler_details\": {\n",
      "          \"success_ratio\": 1.0\n",
      "        }\n",
      "      },\n",
      "      \"kwargs\": {\n",
      "        \"column_set\": [\n",
      "          \"AIRCRAFT_TYPE\",\n",
      "          \"DEPARTURES_PERFORMED\",\n",
      "          \"AIRCRAFT_GROUP\",\n",
      "          \"UNIQUE_CARRIER_NAME\",\n",
      "          \"SEATS\",\n",
      "          \"PASSENGERS\",\n",
      "          \"YEAR\",\n",
      "          \"MONTH\",\n",
      "          \"MAIL\",\n",
      "          \"SEATS_PER_FLIGHT\",\n",
      "          \"UNIQUE_CARRIER\",\n",
      "          \"AV_PASSENGERS_PER_FLIGHT\",\n",
      "          \"ORIGIN\",\n",
      "          \"FREIGHT\",\n",
      "          \"DEST\"\n",
      "        ],\n",
      "        \"exact_match\": null\n",
      "      },\n",
      "      \"expectation_type\": \"expect_table_columns_to_match_set\"\n",
      "    },\n",
      "    {\n",
      "      \"meta\": {\n",
      "        \"profiler_details\": {\n",
      "          \"metric_configuration\": {\n",
      "            \"domain_kwargs\": {\n",
      "              \"column\": \"PASSENGERS\"\n",
      "            },\n",
      "            \"metric_name\": \"column_values.nonnull.unexpected_count\",\n",
      "            \"metric_value_kwargs\": null\n",
      "          },\n",
      "          \"num_batches\": 1\n",
      "        }\n",
      "      },\n",
      "      \"kwargs\": {\n",
      "        \"column\": \"PASSENGERS\"\n",
      "      },\n",
      "      \"expectation_type\": \"expect_column_values_to_not_be_null\"\n",
      "    },\n",
      "    {\n",
      "      \"meta\": {\n",
      "        \"profiler_details\": {\n",
      "          \"metric_configuration\": {\n",
      "            \"domain_kwargs\": {\n",
      "              \"column\": \"ORIGIN\"\n",
      "            },\n",
      "            \"metric_name\": \"column_values.nonnull.unexpected_count\",\n",
      "            \"metric_value_kwargs\": null\n",
      "          },\n",
      "          \"num_batches\": 1\n",
      "        }\n",
      "      },\n",
      "      \"kwargs\": {\n",
      "        \"column\": \"ORIGIN\"\n",
      "      },\n",
      "      \"expectation_type\": \"expect_column_values_to_not_be_null\"\n",
      "    },\n",
      "    {\n",
      "      \"meta\": {\n",
      "        \"profiler_details\": {\n",
      "          \"metric_configuration\": {\n",
      "            \"domain_kwargs\": {\n",
      "              \"column\": \"DEST\"\n",
      "            },\n",
      "            \"metric_name\": \"column_values.nonnull.unexpected_count\",\n",
      "            \"metric_value_kwargs\": null\n",
      "          },\n",
      "          \"num_batches\": 1\n",
      "        }\n",
      "      },\n",
      "      \"kwargs\": {\n",
      "        \"column\": \"DEST\"\n",
      "      },\n",
      "      \"expectation_type\": \"expect_column_values_to_not_be_null\"\n",
      "    },\n",
      "    {\n",
      "      \"meta\": {\n",
      "        \"profiler_details\": {\n",
      "          \"metric_configuration\": {\n",
      "            \"domain_kwargs\": {\n",
      "              \"column\": \"AIRCRAFT_TYPE\"\n",
      "            },\n",
      "            \"metric_name\": \"column_values.nonnull.unexpected_count\",\n",
      "            \"metric_value_kwargs\": null\n",
      "          },\n",
      "          \"num_batches\": 1\n",
      "        }\n",
      "      },\n",
      "      \"kwargs\": {\n",
      "        \"column\": \"AIRCRAFT_TYPE\"\n",
      "      },\n",
      "      \"expectation_type\": \"expect_column_values_to_not_be_null\"\n",
      "    },\n",
      "    {\n",
      "      \"meta\": {\n",
      "        \"profiler_details\": {\n",
      "          \"metric_configuration\": {\n",
      "            \"domain_kwargs\": {\n",
      "              \"column\": \"SEATS_PER_FLIGHT\"\n",
      "            },\n",
      "            \"metric_name\": \"column_values.nonnull.unexpected_count\",\n",
      "            \"metric_value_kwargs\": null\n",
      "          },\n",
      "          \"num_batches\": 1\n",
      "        }\n",
      "      },\n",
      "      \"kwargs\": {\n",
      "        \"column\": \"SEATS_PER_FLIGHT\"\n",
      "      },\n",
      "      \"expectation_type\": \"expect_column_values_to_not_be_null\"\n",
      "    },\n",
      "    {\n",
      "      \"meta\": {\n",
      "        \"profiler_details\": {\n",
      "          \"metric_configuration\": {\n",
      "            \"domain_kwargs\": {\n",
      "              \"column\": \"AV_PASSENGERS_PER_FLIGHT\"\n",
      "            },\n",
      "            \"metric_name\": \"column_values.nonnull.unexpected_count\",\n",
      "            \"metric_value_kwargs\": null\n",
      "          },\n",
      "          \"num_batches\": 1\n",
      "        }\n",
      "      },\n",
      "      \"kwargs\": {\n",
      "        \"column\": \"AV_PASSENGERS_PER_FLIGHT\"\n",
      "      },\n",
      "      \"expectation_type\": \"expect_column_values_to_not_be_null\"\n",
      "    },\n",
      "    {\n",
      "      \"meta\": {\n",
      "        \"profiler_details\": {\n",
      "          \"metric_configuration\": {\n",
      "            \"domain_kwargs\": {\n",
      "              \"column\": \"PASSENGERS\"\n",
      "            },\n",
      "            \"metric_name\": \"column.min\",\n",
      "            \"metric_value_kwargs\": null\n",
      "          },\n",
      "          \"num_batches\": 1\n",
      "        }\n",
      "      },\n",
      "      \"kwargs\": {\n",
      "        \"column\": \"PASSENGERS\",\n",
      "        \"max_value\": 49.0,\n",
      "        \"min_value\": 49.0,\n",
      "        \"strict_max\": false,\n",
      "        \"strict_min\": false\n",
      "      },\n",
      "      \"expectation_type\": \"expect_column_min_to_be_between\"\n",
      "    },\n",
      "    {\n",
      "      \"meta\": {\n",
      "        \"profiler_details\": {\n",
      "          \"metric_configuration\": {\n",
      "            \"domain_kwargs\": {\n",
      "              \"column\": \"PASSENGERS\"\n",
      "            },\n",
      "            \"metric_name\": \"column.max\",\n",
      "            \"metric_value_kwargs\": null\n",
      "          },\n",
      "          \"num_batches\": 1\n",
      "        }\n",
      "      },\n",
      "      \"kwargs\": {\n",
      "        \"column\": \"PASSENGERS\",\n",
      "        \"max_value\": 11384.0,\n",
      "        \"min_value\": 11384.0,\n",
      "        \"strict_max\": false,\n",
      "        \"strict_min\": false\n",
      "      },\n",
      "      \"expectation_type\": \"expect_column_max_to_be_between\"\n",
      "    },\n",
      "    {\n",
      "      \"meta\": {\n",
      "        \"profiler_details\": {\n",
      "          \"column_max_values_range_estimator\": {\n",
      "            \"metric_configuration\": {\n",
      "              \"domain_kwargs\": {\n",
      "                \"column\": \"PASSENGERS\"\n",
      "              },\n",
      "              \"metric_name\": \"column.max\",\n",
      "              \"metric_value_kwargs\": null\n",
      "            },\n",
      "            \"num_batches\": 1\n",
      "          },\n",
      "          \"column_min_values_range_estimator\": {\n",
      "            \"metric_configuration\": {\n",
      "              \"domain_kwargs\": {\n",
      "                \"column\": \"PASSENGERS\"\n",
      "              },\n",
      "              \"metric_name\": \"column.min\",\n",
      "              \"metric_value_kwargs\": null\n",
      "            },\n",
      "            \"num_batches\": 1\n",
      "          }\n",
      "        }\n",
      "      },\n",
      "      \"kwargs\": {\n",
      "        \"column\": \"PASSENGERS\",\n",
      "        \"max_value\": 11384.0,\n",
      "        \"min_value\": 49.0,\n",
      "        \"mostly\": 1.0,\n",
      "        \"strict_max\": false,\n",
      "        \"strict_min\": false\n",
      "      },\n",
      "      \"expectation_type\": \"expect_column_values_to_be_between\"\n",
      "    },\n",
      "    {\n",
      "      \"meta\": {\n",
      "        \"profiler_details\": {\n",
      "          \"metric_configuration\": {\n",
      "            \"domain_kwargs\": {\n",
      "              \"column\": \"PASSENGERS\"\n",
      "            },\n",
      "            \"metric_name\": \"column.quantile_values\",\n",
      "            \"metric_value_kwargs\": {\n",
      "              \"allow_relative_error\": false,\n",
      "              \"quantiles\": [\n",
      "                0.25,\n",
      "                0.5,\n",
      "                0.75\n",
      "              ]\n",
      "            }\n",
      "          },\n",
      "          \"num_batches\": 1\n",
      "        }\n",
      "      },\n",
      "      \"kwargs\": {\n",
      "        \"allow_relative_error\": false,\n",
      "        \"column\": \"PASSENGERS\",\n",
      "        \"quantile_ranges\": {\n",
      "          \"quantiles\": [\n",
      "            0.25,\n",
      "            0.5,\n",
      "            0.75\n",
      "          ],\n",
      "          \"value_ranges\": [\n",
      "            [\n",
      "              335.0,\n",
      "              335.0\n",
      "            ],\n",
      "            [\n",
      "              708.0,\n",
      "              708.0\n",
      "            ],\n",
      "            [\n",
      "              2282.0,\n",
      "              2282.0\n",
      "            ]\n",
      "          ]\n",
      "        }\n",
      "      },\n",
      "      \"expectation_type\": \"expect_column_quantile_values_to_be_between\"\n",
      "    },\n",
      "    {\n",
      "      \"meta\": {\n",
      "        \"profiler_details\": {\n",
      "          \"metric_configuration\": {\n",
      "            \"domain_kwargs\": {\n",
      "              \"column\": \"PASSENGERS\"\n",
      "            },\n",
      "            \"metric_name\": \"column.median\",\n",
      "            \"metric_value_kwargs\": null\n",
      "          },\n",
      "          \"num_batches\": 1\n",
      "        }\n",
      "      },\n",
      "      \"kwargs\": {\n",
      "        \"column\": \"PASSENGERS\",\n",
      "        \"max_value\": 703.5,\n",
      "        \"min_value\": 703.5,\n",
      "        \"strict_max\": false,\n",
      "        \"strict_min\": false\n",
      "      },\n",
      "      \"expectation_type\": \"expect_column_median_to_be_between\"\n",
      "    },\n",
      "    {\n",
      "      \"meta\": {\n",
      "        \"profiler_details\": {\n",
      "          \"metric_configuration\": {\n",
      "            \"domain_kwargs\": {\n",
      "              \"column\": \"PASSENGERS\"\n",
      "            },\n",
      "            \"metric_name\": \"column.mean\",\n",
      "            \"metric_value_kwargs\": null\n",
      "          },\n",
      "          \"num_batches\": 1\n",
      "        }\n",
      "      },\n",
      "      \"kwargs\": {\n",
      "        \"column\": \"PASSENGERS\",\n",
      "        \"max_value\": 1515.2931034482758,\n",
      "        \"min_value\": 1515.2931034482758,\n",
      "        \"strict_max\": false,\n",
      "        \"strict_min\": false\n",
      "      },\n",
      "      \"expectation_type\": \"expect_column_mean_to_be_between\"\n",
      "    },\n",
      "    {\n",
      "      \"meta\": {\n",
      "        \"profiler_details\": {\n",
      "          \"metric_configuration\": {\n",
      "            \"domain_kwargs\": {\n",
      "              \"column\": \"PASSENGERS\"\n",
      "            },\n",
      "            \"metric_name\": \"column.standard_deviation\",\n",
      "            \"metric_value_kwargs\": null\n",
      "          },\n",
      "          \"num_batches\": 1\n",
      "        }\n",
      "      },\n",
      "      \"kwargs\": {\n",
      "        \"column\": \"PASSENGERS\",\n",
      "        \"max_value\": 1864.8442132501289,\n",
      "        \"min_value\": 1864.8442132501289,\n",
      "        \"strict_max\": false,\n",
      "        \"strict_min\": false\n",
      "      },\n",
      "      \"expectation_type\": \"expect_column_stdev_to_be_between\"\n",
      "    },\n",
      "    {\n",
      "      \"meta\": {\n",
      "        \"profiler_details\": {\n",
      "          \"metric_configuration\": {\n",
      "            \"domain_kwargs\": {\n",
      "              \"column\": \"AIRCRAFT_TYPE\"\n",
      "            },\n",
      "            \"metric_name\": \"column.min\",\n",
      "            \"metric_value_kwargs\": null\n",
      "          },\n",
      "          \"num_batches\": 1\n",
      "        }\n",
      "      },\n",
      "      \"kwargs\": {\n",
      "        \"column\": \"AIRCRAFT_TYPE\",\n",
      "        \"max_value\": 612,\n",
      "        \"min_value\": 612,\n",
      "        \"strict_max\": false,\n",
      "        \"strict_min\": false\n",
      "      },\n",
      "      \"expectation_type\": \"expect_column_min_to_be_between\"\n",
      "    },\n",
      "    {\n",
      "      \"meta\": {\n",
      "        \"profiler_details\": {\n",
      "          \"metric_configuration\": {\n",
      "            \"domain_kwargs\": {\n",
      "              \"column\": \"AIRCRAFT_TYPE\"\n",
      "            },\n",
      "            \"metric_name\": \"column.max\",\n",
      "            \"metric_value_kwargs\": null\n",
      "          },\n",
      "          \"num_batches\": 1\n",
      "        }\n",
      "      },\n",
      "      \"kwargs\": {\n",
      "        \"column\": \"AIRCRAFT_TYPE\",\n",
      "        \"max_value\": 838,\n",
      "        \"min_value\": 838,\n",
      "        \"strict_max\": false,\n",
      "        \"strict_min\": false\n",
      "      },\n",
      "      \"expectation_type\": \"expect_column_max_to_be_between\"\n",
      "    },\n",
      "    {\n",
      "      \"meta\": {\n",
      "        \"profiler_details\": {\n",
      "          \"column_max_values_range_estimator\": {\n",
      "            \"metric_configuration\": {\n",
      "              \"domain_kwargs\": {\n",
      "                \"column\": \"AIRCRAFT_TYPE\"\n",
      "              },\n",
      "              \"metric_name\": \"column.max\",\n",
      "              \"metric_value_kwargs\": null\n",
      "            },\n",
      "            \"num_batches\": 1\n",
      "          },\n",
      "          \"column_min_values_range_estimator\": {\n",
      "            \"metric_configuration\": {\n",
      "              \"domain_kwargs\": {\n",
      "                \"column\": \"AIRCRAFT_TYPE\"\n",
      "              },\n",
      "              \"metric_name\": \"column.min\",\n",
      "              \"metric_value_kwargs\": null\n",
      "            },\n",
      "            \"num_batches\": 1\n",
      "          }\n",
      "        }\n",
      "      },\n",
      "      \"kwargs\": {\n",
      "        \"column\": \"AIRCRAFT_TYPE\",\n",
      "        \"max_value\": 838,\n",
      "        \"min_value\": 612,\n",
      "        \"mostly\": 1.0,\n",
      "        \"strict_max\": false,\n",
      "        \"strict_min\": false\n",
      "      },\n",
      "      \"expectation_type\": \"expect_column_values_to_be_between\"\n",
      "    },\n",
      "    {\n",
      "      \"meta\": {\n",
      "        \"profiler_details\": {\n",
      "          \"metric_configuration\": {\n",
      "            \"domain_kwargs\": {\n",
      "              \"column\": \"AIRCRAFT_TYPE\"\n",
      "            },\n",
      "            \"metric_name\": \"column.quantile_values\",\n",
      "            \"metric_value_kwargs\": {\n",
      "              \"allow_relative_error\": false,\n",
      "              \"quantiles\": [\n",
      "                0.25,\n",
      "                0.5,\n",
      "                0.75\n",
      "              ]\n",
      "            }\n",
      "          },\n",
      "          \"num_batches\": 1\n",
      "        }\n",
      "      },\n",
      "      \"kwargs\": {\n",
      "        \"allow_relative_error\": false,\n",
      "        \"column\": \"AIRCRAFT_TYPE\",\n",
      "        \"quantile_ranges\": {\n",
      "          \"quantiles\": [\n",
      "            0.25,\n",
      "            0.5,\n",
      "            0.75\n",
      "          ],\n",
      "          \"value_ranges\": [\n",
      "            [\n",
      "              612,\n",
      "              612\n",
      "            ],\n",
      "            [\n",
      "              614,\n",
      "              614\n",
      "            ],\n",
      "            [\n",
      "              838,\n",
      "              838\n",
      "            ]\n",
      "          ]\n",
      "        }\n",
      "      },\n",
      "      \"expectation_type\": \"expect_column_quantile_values_to_be_between\"\n",
      "    },\n",
      "    {\n",
      "      \"meta\": {\n",
      "        \"profiler_details\": {\n",
      "          \"metric_configuration\": {\n",
      "            \"domain_kwargs\": {\n",
      "              \"column\": \"AIRCRAFT_TYPE\"\n",
      "            },\n",
      "            \"metric_name\": \"column.median\",\n",
      "            \"metric_value_kwargs\": null\n",
      "          },\n",
      "          \"num_batches\": 1\n",
      "        }\n",
      "      },\n",
      "      \"kwargs\": {\n",
      "        \"column\": \"AIRCRAFT_TYPE\",\n",
      "        \"max_value\": 614.0,\n",
      "        \"min_value\": 614.0,\n",
      "        \"strict_max\": false,\n",
      "        \"strict_min\": false\n",
      "      },\n",
      "      \"expectation_type\": \"expect_column_median_to_be_between\"\n",
      "    },\n",
      "    {\n",
      "      \"meta\": {\n",
      "        \"profiler_details\": {\n",
      "          \"metric_configuration\": {\n",
      "            \"domain_kwargs\": {\n",
      "              \"column\": \"AIRCRAFT_TYPE\"\n",
      "            },\n",
      "            \"metric_name\": \"column.mean\",\n",
      "            \"metric_value_kwargs\": null\n",
      "          },\n",
      "          \"num_batches\": 1\n",
      "        }\n",
      "      },\n",
      "      \"kwargs\": {\n",
      "        \"column\": \"AIRCRAFT_TYPE\",\n",
      "        \"max_value\": 681.7155172413793,\n",
      "        \"min_value\": 681.7155172413793,\n",
      "        \"strict_max\": false,\n",
      "        \"strict_min\": false\n",
      "      },\n",
      "      \"expectation_type\": \"expect_column_mean_to_be_between\"\n",
      "    },\n",
      "    {\n",
      "      \"meta\": {\n",
      "        \"profiler_details\": {\n",
      "          \"metric_configuration\": {\n",
      "            \"domain_kwargs\": {\n",
      "              \"column\": \"AIRCRAFT_TYPE\"\n",
      "            },\n",
      "            \"metric_name\": \"column.standard_deviation\",\n",
      "            \"metric_value_kwargs\": null\n",
      "          },\n",
      "          \"num_batches\": 1\n",
      "        }\n",
      "      },\n",
      "      \"kwargs\": {\n",
      "        \"column\": \"AIRCRAFT_TYPE\",\n",
      "        \"max_value\": 104.01201279559938,\n",
      "        \"min_value\": 104.01201279559938,\n",
      "        \"strict_max\": false,\n",
      "        \"strict_min\": false\n",
      "      },\n",
      "      \"expectation_type\": \"expect_column_stdev_to_be_between\"\n",
      "    },\n",
      "    {\n",
      "      \"meta\": {\n",
      "        \"profiler_details\": {\n",
      "          \"metric_configuration\": {\n",
      "            \"domain_kwargs\": {\n",
      "              \"column\": \"SEATS_PER_FLIGHT\"\n",
      "            },\n",
      "            \"metric_name\": \"column.min\",\n",
      "            \"metric_value_kwargs\": null\n",
      "          },\n",
      "          \"num_batches\": 1\n",
      "        }\n",
      "      },\n",
      "      \"kwargs\": {\n",
      "        \"column\": \"SEATS_PER_FLIGHT\",\n",
      "        \"max_value\": 143.0,\n",
      "        \"min_value\": 143.0,\n",
      "        \"strict_max\": false,\n",
      "        \"strict_min\": false\n",
      "      },\n",
      "      \"expectation_type\": \"expect_column_min_to_be_between\"\n",
      "    },\n",
      "    {\n",
      "      \"meta\": {\n",
      "        \"profiler_details\": {\n",
      "          \"metric_configuration\": {\n",
      "            \"domain_kwargs\": {\n",
      "              \"column\": \"SEATS_PER_FLIGHT\"\n",
      "            },\n",
      "            \"metric_name\": \"column.max\",\n",
      "            \"metric_value_kwargs\": null\n",
      "          },\n",
      "          \"num_batches\": 1\n",
      "        }\n",
      "      },\n",
      "      \"kwargs\": {\n",
      "        \"column\": \"SEATS_PER_FLIGHT\",\n",
      "        \"max_value\": 299.0,\n",
      "        \"min_value\": 299.0,\n",
      "        \"strict_max\": false,\n",
      "        \"strict_min\": false\n",
      "      },\n",
      "      \"expectation_type\": \"expect_column_max_to_be_between\"\n",
      "    },\n",
      "    {\n",
      "      \"meta\": {\n",
      "        \"profiler_details\": {\n",
      "          \"column_max_values_range_estimator\": {\n",
      "            \"metric_configuration\": {\n",
      "              \"domain_kwargs\": {\n",
      "                \"column\": \"SEATS_PER_FLIGHT\"\n",
      "              },\n",
      "              \"metric_name\": \"column.max\",\n",
      "              \"metric_value_kwargs\": null\n",
      "            },\n",
      "            \"num_batches\": 1\n",
      "          },\n",
      "          \"column_min_values_range_estimator\": {\n",
      "            \"metric_configuration\": {\n",
      "              \"domain_kwargs\": {\n",
      "                \"column\": \"SEATS_PER_FLIGHT\"\n",
      "              },\n",
      "              \"metric_name\": \"column.min\",\n",
      "              \"metric_value_kwargs\": null\n",
      "            },\n",
      "            \"num_batches\": 1\n",
      "          }\n",
      "        }\n",
      "      },\n",
      "      \"kwargs\": {\n",
      "        \"column\": \"SEATS_PER_FLIGHT\",\n",
      "        \"max_value\": 299.0,\n",
      "        \"min_value\": 143.0,\n",
      "        \"mostly\": 1.0,\n",
      "        \"strict_max\": false,\n",
      "        \"strict_min\": false\n",
      "      },\n",
      "      \"expectation_type\": \"expect_column_values_to_be_between\"\n",
      "    },\n",
      "    {\n",
      "      \"meta\": {\n",
      "        \"profiler_details\": {\n",
      "          \"metric_configuration\": {\n",
      "            \"domain_kwargs\": {\n",
      "              \"column\": \"SEATS_PER_FLIGHT\"\n",
      "            },\n",
      "            \"metric_name\": \"column.quantile_values\",\n",
      "            \"metric_value_kwargs\": {\n",
      "              \"allow_relative_error\": false,\n",
      "              \"quantiles\": [\n",
      "                0.25,\n",
      "                0.5,\n",
      "                0.75\n",
      "              ]\n",
      "            }\n",
      "          },\n",
      "          \"num_batches\": 1\n",
      "        }\n",
      "      },\n",
      "      \"kwargs\": {\n",
      "        \"allow_relative_error\": false,\n",
      "        \"column\": \"SEATS_PER_FLIGHT\",\n",
      "        \"quantile_ranges\": {\n",
      "          \"quantiles\": [\n",
      "            0.25,\n",
      "            0.5,\n",
      "            0.75\n",
      "          ],\n",
      "          \"value_ranges\": [\n",
      "            [\n",
      "              143.0,\n",
      "              143.0\n",
      "            ],\n",
      "            [\n",
      "              175.0,\n",
      "              175.0\n",
      "            ],\n",
      "            [\n",
      "              175.0,\n",
      "              175.0\n",
      "            ]\n",
      "          ]\n",
      "        }\n",
      "      },\n",
      "      \"expectation_type\": \"expect_column_quantile_values_to_be_between\"\n",
      "    },\n",
      "    {\n",
      "      \"meta\": {\n",
      "        \"profiler_details\": {\n",
      "          \"metric_configuration\": {\n",
      "            \"domain_kwargs\": {\n",
      "              \"column\": \"SEATS_PER_FLIGHT\"\n",
      "            },\n",
      "            \"metric_name\": \"column.median\",\n",
      "            \"metric_value_kwargs\": null\n",
      "          },\n",
      "          \"num_batches\": 1\n",
      "        }\n",
      "      },\n",
      "      \"kwargs\": {\n",
      "        \"column\": \"SEATS_PER_FLIGHT\",\n",
      "        \"max_value\": 175.0,\n",
      "        \"min_value\": 175.0,\n",
      "        \"strict_max\": false,\n",
      "        \"strict_min\": false\n",
      "      },\n",
      "      \"expectation_type\": \"expect_column_median_to_be_between\"\n",
      "    },\n",
      "    {\n",
      "      \"meta\": {\n",
      "        \"profiler_details\": {\n",
      "          \"metric_configuration\": {\n",
      "            \"domain_kwargs\": {\n",
      "              \"column\": \"SEATS_PER_FLIGHT\"\n",
      "            },\n",
      "            \"metric_name\": \"column.mean\",\n",
      "            \"metric_value_kwargs\": null\n",
      "          },\n",
      "          \"num_batches\": 1\n",
      "        }\n",
      "      },\n",
      "      \"kwargs\": {\n",
      "        \"column\": \"SEATS_PER_FLIGHT\",\n",
      "        \"max_value\": 162.9655172413793,\n",
      "        \"min_value\": 162.9655172413793,\n",
      "        \"strict_max\": false,\n",
      "        \"strict_min\": false\n",
      "      },\n",
      "      \"expectation_type\": \"expect_column_mean_to_be_between\"\n",
      "    },\n",
      "    {\n",
      "      \"meta\": {\n",
      "        \"profiler_details\": {\n",
      "          \"metric_configuration\": {\n",
      "            \"domain_kwargs\": {\n",
      "              \"column\": \"SEATS_PER_FLIGHT\"\n",
      "            },\n",
      "            \"metric_name\": \"column.standard_deviation\",\n",
      "            \"metric_value_kwargs\": null\n",
      "          },\n",
      "          \"num_batches\": 1\n",
      "        }\n",
      "      },\n",
      "      \"kwargs\": {\n",
      "        \"column\": \"SEATS_PER_FLIGHT\",\n",
      "        \"max_value\": 20.21868795417858,\n",
      "        \"min_value\": 20.21868795417858,\n",
      "        \"strict_max\": false,\n",
      "        \"strict_min\": false\n",
      "      },\n",
      "      \"expectation_type\": \"expect_column_stdev_to_be_between\"\n",
      "    },\n",
      "    {\n",
      "      \"meta\": {\n",
      "        \"profiler_details\": {\n",
      "          \"metric_configuration\": {\n",
      "            \"domain_kwargs\": {\n",
      "              \"column\": \"AV_PASSENGERS_PER_FLIGHT\"\n",
      "            },\n",
      "            \"metric_name\": \"column.min\",\n",
      "            \"metric_value_kwargs\": null\n",
      "          },\n",
      "          \"num_batches\": 1\n",
      "        }\n",
      "      },\n",
      "      \"kwargs\": {\n",
      "        \"column\": \"AV_PASSENGERS_PER_FLIGHT\",\n",
      "        \"max_value\": 49.0,\n",
      "        \"min_value\": 49.0,\n",
      "        \"strict_max\": false,\n",
      "        \"strict_min\": false\n",
      "      },\n",
      "      \"expectation_type\": \"expect_column_min_to_be_between\"\n",
      "    },\n",
      "    {\n",
      "      \"meta\": {\n",
      "        \"profiler_details\": {\n",
      "          \"metric_configuration\": {\n",
      "            \"domain_kwargs\": {\n",
      "              \"column\": \"AV_PASSENGERS_PER_FLIGHT\"\n",
      "            },\n",
      "            \"metric_name\": \"column.max\",\n",
      "            \"metric_value_kwargs\": null\n",
      "          },\n",
      "          \"num_batches\": 1\n",
      "        }\n",
      "      },\n",
      "      \"kwargs\": {\n",
      "        \"column\": \"AV_PASSENGERS_PER_FLIGHT\",\n",
      "        \"max_value\": 173.0,\n",
      "        \"min_value\": 173.0,\n",
      "        \"strict_max\": false,\n",
      "        \"strict_min\": false\n",
      "      },\n",
      "      \"expectation_type\": \"expect_column_max_to_be_between\"\n",
      "    },\n",
      "    {\n",
      "      \"meta\": {\n",
      "        \"profiler_details\": {\n",
      "          \"column_max_values_range_estimator\": {\n",
      "            \"metric_configuration\": {\n",
      "              \"domain_kwargs\": {\n",
      "                \"column\": \"AV_PASSENGERS_PER_FLIGHT\"\n",
      "              },\n",
      "              \"metric_name\": \"column.max\",\n",
      "              \"metric_value_kwargs\": null\n",
      "            },\n",
      "            \"num_batches\": 1\n",
      "          },\n",
      "          \"column_min_values_range_estimator\": {\n",
      "            \"metric_configuration\": {\n",
      "              \"domain_kwargs\": {\n",
      "                \"column\": \"AV_PASSENGERS_PER_FLIGHT\"\n",
      "              },\n",
      "              \"metric_name\": \"column.min\",\n",
      "              \"metric_value_kwargs\": null\n",
      "            },\n",
      "            \"num_batches\": 1\n",
      "          }\n",
      "        }\n",
      "      },\n",
      "      \"kwargs\": {\n",
      "        \"column\": \"AV_PASSENGERS_PER_FLIGHT\",\n",
      "        \"max_value\": 173.0,\n",
      "        \"min_value\": 49.0,\n",
      "        \"mostly\": 1.0,\n",
      "        \"strict_max\": false,\n",
      "        \"strict_min\": false\n",
      "      },\n",
      "      \"expectation_type\": \"expect_column_values_to_be_between\"\n",
      "    },\n",
      "    {\n",
      "      \"meta\": {\n",
      "        \"profiler_details\": {\n",
      "          \"metric_configuration\": {\n",
      "            \"domain_kwargs\": {\n",
      "              \"column\": \"AV_PASSENGERS_PER_FLIGHT\"\n",
      "            },\n",
      "            \"metric_name\": \"column.quantile_values\",\n",
      "            \"metric_value_kwargs\": {\n",
      "              \"allow_relative_error\": false,\n",
      "              \"quantiles\": [\n",
      "                0.25,\n",
      "                0.5,\n",
      "                0.75\n",
      "              ]\n",
      "            }\n",
      "          },\n",
      "          \"num_batches\": 1\n",
      "        }\n",
      "      },\n",
      "      \"kwargs\": {\n",
      "        \"allow_relative_error\": false,\n",
      "        \"column\": \"AV_PASSENGERS_PER_FLIGHT\",\n",
      "        \"quantile_ranges\": {\n",
      "          \"quantiles\": [\n",
      "            0.25,\n",
      "            0.5,\n",
      "            0.75\n",
      "          ],\n",
      "          \"value_ranges\": [\n",
      "            [\n",
      "              124.7,\n",
      "              124.7\n",
      "            ],\n",
      "            [\n",
      "              137.9,\n",
      "              137.9\n",
      "            ],\n",
      "            [\n",
      "              153.33,\n",
      "              153.33\n",
      "            ]\n",
      "          ]\n",
      "        }\n",
      "      },\n",
      "      \"expectation_type\": \"expect_column_quantile_values_to_be_between\"\n",
      "    },\n",
      "    {\n",
      "      \"meta\": {\n",
      "        \"profiler_details\": {\n",
      "          \"metric_configuration\": {\n",
      "            \"domain_kwargs\": {\n",
      "              \"column\": \"AV_PASSENGERS_PER_FLIGHT\"\n",
      "            },\n",
      "            \"metric_name\": \"column.median\",\n",
      "            \"metric_value_kwargs\": null\n",
      "          },\n",
      "          \"num_batches\": 1\n",
      "        }\n",
      "      },\n",
      "      \"kwargs\": {\n",
      "        \"column\": \"AV_PASSENGERS_PER_FLIGHT\",\n",
      "        \"max_value\": 137.825,\n",
      "        \"min_value\": 137.825,\n",
      "        \"strict_max\": false,\n",
      "        \"strict_min\": false\n",
      "      },\n",
      "      \"expectation_type\": \"expect_column_median_to_be_between\"\n",
      "    },\n",
      "    {\n",
      "      \"meta\": {\n",
      "        \"profiler_details\": {\n",
      "          \"metric_configuration\": {\n",
      "            \"domain_kwargs\": {\n",
      "              \"column\": \"AV_PASSENGERS_PER_FLIGHT\"\n",
      "            },\n",
      "            \"metric_name\": \"column.mean\",\n",
      "            \"metric_value_kwargs\": null\n",
      "          },\n",
      "          \"num_batches\": 1\n",
      "        }\n",
      "      },\n",
      "      \"kwargs\": {\n",
      "        \"column\": \"AV_PASSENGERS_PER_FLIGHT\",\n",
      "        \"max_value\": 135.86836206896552,\n",
      "        \"min_value\": 135.86836206896552,\n",
      "        \"strict_max\": false,\n",
      "        \"strict_min\": false\n",
      "      },\n",
      "      \"expectation_type\": \"expect_column_mean_to_be_between\"\n",
      "    },\n",
      "    {\n",
      "      \"meta\": {\n",
      "        \"profiler_details\": {\n",
      "          \"metric_configuration\": {\n",
      "            \"domain_kwargs\": {\n",
      "              \"column\": \"AV_PASSENGERS_PER_FLIGHT\"\n",
      "            },\n",
      "            \"metric_name\": \"column.standard_deviation\",\n",
      "            \"metric_value_kwargs\": null\n",
      "          },\n",
      "          \"num_batches\": 1\n",
      "        }\n",
      "      },\n",
      "      \"kwargs\": {\n",
      "        \"column\": \"AV_PASSENGERS_PER_FLIGHT\",\n",
      "        \"max_value\": 22.994313392398112,\n",
      "        \"min_value\": 22.994313392398112,\n",
      "        \"strict_max\": false,\n",
      "        \"strict_min\": false\n",
      "      },\n",
      "      \"expectation_type\": \"expect_column_stdev_to_be_between\"\n",
      "    },\n",
      "    {\n",
      "      \"meta\": {\n",
      "        \"profiler_details\": {\n",
      "          \"column_max_length_range_estimator\": {\n",
      "            \"metric_configuration\": {\n",
      "              \"domain_kwargs\": {\n",
      "                \"column\": \"ORIGIN\"\n",
      "              },\n",
      "              \"metric_name\": \"column_values.length.max\",\n",
      "              \"metric_value_kwargs\": null\n",
      "            },\n",
      "            \"num_batches\": 1\n",
      "          },\n",
      "          \"column_min_length_range_estimator\": {\n",
      "            \"metric_configuration\": {\n",
      "              \"domain_kwargs\": {\n",
      "                \"column\": \"ORIGIN\"\n",
      "              },\n",
      "              \"metric_name\": \"column_values.length.min\",\n",
      "              \"metric_value_kwargs\": null\n",
      "            },\n",
      "            \"num_batches\": 1\n",
      "          }\n",
      "        }\n",
      "      },\n",
      "      \"kwargs\": {\n",
      "        \"column\": \"ORIGIN\",\n",
      "        \"max_value\": 3,\n",
      "        \"min_value\": 3,\n",
      "        \"mostly\": 1.0,\n",
      "        \"strict_max\": false,\n",
      "        \"strict_min\": false\n",
      "      },\n",
      "      \"expectation_type\": \"expect_column_value_lengths_to_be_between\"\n",
      "    },\n",
      "    {\n",
      "      \"meta\": {\n",
      "        \"profiler_details\": {\n",
      "          \"evaluated_regexes\": {\n",
      "            \"(?:25[0-5]|2[0-4]\\\\d|[01]\\\\d{2}|\\\\d{1,2})(?:.(?:25[0-5]|2[0-4]\\\\d|[01]\\\\d{2}|\\\\d{1,2})){3}\": 0.0,\n",
      "            \"-?\\\\d+\": 0.0,\n",
      "            \"-?\\\\d+(?:\\\\.\\\\d*)?\": 0.0,\n",
      "            \"<\\\\/?(?:p|a|b|img)(?: \\\\/)?>\": 0.0,\n",
      "            \"[A-Za-z0-9\\\\.,;:!?()\\\\\\\"'%\\\\-]+\": 1.0,\n",
      "            \"\\\\b[0-9a-fA-F]{8}\\\\b-[0-9a-fA-F]{4}-[0-5][0-9a-fA-F]{3}-[089ab][0-9a-fA-F]{3}-\\\\b[0-9a-fA-F]{12}\\\\b \": 0.0,\n",
      "            \"\\\\d+\": 0.0,\n",
      "            \"\\\\s+$\": 0.0,\n",
      "            \"^\\\\s+\": 0.0,\n",
      "            \"https?:\\\\/\\\\/(?:www\\\\.)?[-a-zA-Z0-9@:%._\\\\+~#=]{2,255}\\\\.[a-z]{2,6}\\\\b(?:[-a-zA-Z0-9@:%_\\\\+.~#()?&//=]*)\": 0.0\n",
      "          },\n",
      "          \"success_ratio\": 1.0\n",
      "        }\n",
      "      },\n",
      "      \"kwargs\": {\n",
      "        \"column\": \"ORIGIN\",\n",
      "        \"mostly\": 1.0,\n",
      "        \"regex\": \"[A-Za-z0-9\\\\.,;:!?()\\\\\\\"'%\\\\-]+\"\n",
      "      },\n",
      "      \"expectation_type\": \"expect_column_values_to_match_regex\"\n",
      "    },\n",
      "    {\n",
      "      \"meta\": {\n",
      "        \"profiler_details\": {\n",
      "          \"column_max_length_range_estimator\": {\n",
      "            \"metric_configuration\": {\n",
      "              \"domain_kwargs\": {\n",
      "                \"column\": \"DEST\"\n",
      "              },\n",
      "              \"metric_name\": \"column_values.length.max\",\n",
      "              \"metric_value_kwargs\": null\n",
      "            },\n",
      "            \"num_batches\": 1\n",
      "          },\n",
      "          \"column_min_length_range_estimator\": {\n",
      "            \"metric_configuration\": {\n",
      "              \"domain_kwargs\": {\n",
      "                \"column\": \"DEST\"\n",
      "              },\n",
      "              \"metric_name\": \"column_values.length.min\",\n",
      "              \"metric_value_kwargs\": null\n",
      "            },\n",
      "            \"num_batches\": 1\n",
      "          }\n",
      "        }\n",
      "      },\n",
      "      \"kwargs\": {\n",
      "        \"column\": \"DEST\",\n",
      "        \"max_value\": 3,\n",
      "        \"min_value\": 3,\n",
      "        \"mostly\": 1.0,\n",
      "        \"strict_max\": false,\n",
      "        \"strict_min\": false\n",
      "      },\n",
      "      \"expectation_type\": \"expect_column_value_lengths_to_be_between\"\n",
      "    },\n",
      "    {\n",
      "      \"meta\": {\n",
      "        \"profiler_details\": {\n",
      "          \"evaluated_regexes\": {\n",
      "            \"(?:25[0-5]|2[0-4]\\\\d|[01]\\\\d{2}|\\\\d{1,2})(?:.(?:25[0-5]|2[0-4]\\\\d|[01]\\\\d{2}|\\\\d{1,2})){3}\": 0.0,\n",
      "            \"-?\\\\d+\": 0.0,\n",
      "            \"-?\\\\d+(?:\\\\.\\\\d*)?\": 0.0,\n",
      "            \"<\\\\/?(?:p|a|b|img)(?: \\\\/)?>\": 0.0,\n",
      "            \"[A-Za-z0-9\\\\.,;:!?()\\\\\\\"'%\\\\-]+\": 1.0,\n",
      "            \"\\\\b[0-9a-fA-F]{8}\\\\b-[0-9a-fA-F]{4}-[0-5][0-9a-fA-F]{3}-[089ab][0-9a-fA-F]{3}-\\\\b[0-9a-fA-F]{12}\\\\b \": 0.0,\n",
      "            \"\\\\d+\": 0.0,\n",
      "            \"\\\\s+$\": 0.0,\n",
      "            \"^\\\\s+\": 0.0,\n",
      "            \"https?:\\\\/\\\\/(?:www\\\\.)?[-a-zA-Z0-9@:%._\\\\+~#=]{2,255}\\\\.[a-z]{2,6}\\\\b(?:[-a-zA-Z0-9@:%_\\\\+.~#()?&//=]*)\": 0.0\n",
      "          },\n",
      "          \"success_ratio\": 1.0\n",
      "        }\n",
      "      },\n",
      "      \"kwargs\": {\n",
      "        \"column\": \"DEST\",\n",
      "        \"mostly\": 1.0,\n",
      "        \"regex\": \"[A-Za-z0-9\\\\.,;:!?()\\\\\\\"'%\\\\-]+\"\n",
      "      },\n",
      "      \"expectation_type\": \"expect_column_values_to_match_regex\"\n",
      "    },\n",
      "    {\n",
      "      \"meta\": {\n",
      "        \"profiler_details\": {\n",
      "          \"metric_configuration\": {\n",
      "            \"domain_kwargs\": {\n",
      "              \"column\": \"ORIGIN\"\n",
      "            },\n",
      "            \"metric_name\": \"column.distinct_values\",\n",
      "            \"metric_value_kwargs\": null\n",
      "          },\n",
      "          \"num_batches\": 1,\n",
      "          \"parse_strings_as_datetimes\": false\n",
      "        }\n",
      "      },\n",
      "      \"kwargs\": {\n",
      "        \"column\": \"ORIGIN\",\n",
      "        \"mostly\": 1.0,\n",
      "        \"value_set\": [\n",
      "          \"HAV\",\n",
      "          \"NAS\",\n",
      "          \"BZE\",\n",
      "          \"AUS\",\n",
      "          \"ORD\",\n",
      "          \"SMF\",\n",
      "          \"AUA\",\n",
      "          \"SAN\",\n",
      "          \"MCI\",\n",
      "          \"IND\",\n",
      "          \"MSY\",\n",
      "          \"CZM\",\n",
      "          \"SNA\",\n",
      "          \"BWI\",\n",
      "          \"OAK\",\n",
      "          \"STL\",\n",
      "          \"MBJ\",\n",
      "          \"MCO\",\n",
      "          \"SJD\",\n",
      "          \"MDW\",\n",
      "          \"GCM\",\n",
      "          \"FLL\",\n",
      "          \"HOU\",\n",
      "          \"LIR\",\n",
      "          \"ATL\",\n",
      "          \"SAT\",\n",
      "          \"PUJ\",\n",
      "          \"BNA\",\n",
      "          \"CUN\",\n",
      "          \"PVR\",\n",
      "          \"SJO\",\n",
      "          \"DEN\",\n",
      "          \"PHX\",\n",
      "          \"PLS\",\n",
      "          \"TPA\"\n",
      "        ]\n",
      "      },\n",
      "      \"expectation_type\": \"expect_column_values_to_be_in_set\"\n",
      "    },\n",
      "    {\n",
      "      \"meta\": {\n",
      "        \"profiler_details\": {\n",
      "          \"metric_configuration\": {\n",
      "            \"domain_kwargs\": {\n",
      "              \"column\": \"ORIGIN\"\n",
      "            },\n",
      "            \"metric_name\": \"column.distinct_values.count\",\n",
      "            \"metric_value_kwargs\": null\n",
      "          },\n",
      "          \"num_batches\": 1\n",
      "        }\n",
      "      },\n",
      "      \"kwargs\": {\n",
      "        \"column\": \"ORIGIN\",\n",
      "        \"max_value\": 35,\n",
      "        \"min_value\": 35,\n",
      "        \"strict_max\": false,\n",
      "        \"strict_min\": false\n",
      "      },\n",
      "      \"expectation_type\": \"expect_column_unique_value_count_to_be_between\"\n",
      "    },\n",
      "    {\n",
      "      \"meta\": {\n",
      "        \"profiler_details\": {\n",
      "          \"metric_configuration\": {\n",
      "            \"domain_kwargs\": {\n",
      "              \"column\": \"ORIGIN\"\n",
      "            },\n",
      "            \"metric_name\": \"column.unique_proportion\",\n",
      "            \"metric_value_kwargs\": null\n",
      "          },\n",
      "          \"num_batches\": 1\n",
      "        }\n",
      "      },\n",
      "      \"kwargs\": {\n",
      "        \"column\": \"ORIGIN\",\n",
      "        \"max_value\": 0.15086206896551724,\n",
      "        \"min_value\": 0.15086206896551724,\n",
      "        \"strict_max\": false,\n",
      "        \"strict_min\": false\n",
      "      },\n",
      "      \"expectation_type\": \"expect_column_proportion_of_unique_values_to_be_between\"\n",
      "    },\n",
      "    {\n",
      "      \"meta\": {\n",
      "        \"profiler_details\": {\n",
      "          \"metric_configuration\": {\n",
      "            \"domain_kwargs\": {\n",
      "              \"column\": \"DEST\"\n",
      "            },\n",
      "            \"metric_name\": \"column.distinct_values\",\n",
      "            \"metric_value_kwargs\": null\n",
      "          },\n",
      "          \"num_batches\": 1,\n",
      "          \"parse_strings_as_datetimes\": false\n",
      "        }\n",
      "      },\n",
      "      \"kwargs\": {\n",
      "        \"column\": \"DEST\",\n",
      "        \"mostly\": 1.0,\n",
      "        \"value_set\": [\n",
      "          \"HAV\",\n",
      "          \"NAS\",\n",
      "          \"BZE\",\n",
      "          \"AUS\",\n",
      "          \"ORD\",\n",
      "          \"SMF\",\n",
      "          \"AUA\",\n",
      "          \"PIT\",\n",
      "          \"SAN\",\n",
      "          \"MCI\",\n",
      "          \"IND\",\n",
      "          \"MSY\",\n",
      "          \"CZM\",\n",
      "          \"SNA\",\n",
      "          \"BWI\",\n",
      "          \"OAK\",\n",
      "          \"STL\",\n",
      "          \"MBJ\",\n",
      "          \"MCO\",\n",
      "          \"SJD\",\n",
      "          \"MDW\",\n",
      "          \"GCM\",\n",
      "          \"FLL\",\n",
      "          \"HOU\",\n",
      "          \"LIR\",\n",
      "          \"ATL\",\n",
      "          \"SAT\",\n",
      "          \"PUJ\",\n",
      "          \"BNA\",\n",
      "          \"CUN\",\n",
      "          \"PVR\",\n",
      "          \"SJO\",\n",
      "          \"DEN\",\n",
      "          \"PHX\",\n",
      "          \"PLS\",\n",
      "          \"TPA\"\n",
      "        ]\n",
      "      },\n",
      "      \"expectation_type\": \"expect_column_values_to_be_in_set\"\n",
      "    },\n",
      "    {\n",
      "      \"meta\": {\n",
      "        \"profiler_details\": {\n",
      "          \"metric_configuration\": {\n",
      "            \"domain_kwargs\": {\n",
      "              \"column\": \"DEST\"\n",
      "            },\n",
      "            \"metric_name\": \"column.distinct_values.count\",\n",
      "            \"metric_value_kwargs\": null\n",
      "          },\n",
      "          \"num_batches\": 1\n",
      "        }\n",
      "      },\n",
      "      \"kwargs\": {\n",
      "        \"column\": \"DEST\",\n",
      "        \"max_value\": 36,\n",
      "        \"min_value\": 36,\n",
      "        \"strict_max\": false,\n",
      "        \"strict_min\": false\n",
      "      },\n",
      "      \"expectation_type\": \"expect_column_unique_value_count_to_be_between\"\n",
      "    },\n",
      "    {\n",
      "      \"meta\": {\n",
      "        \"profiler_details\": {\n",
      "          \"metric_configuration\": {\n",
      "            \"domain_kwargs\": {\n",
      "              \"column\": \"DEST\"\n",
      "            },\n",
      "            \"metric_name\": \"column.unique_proportion\",\n",
      "            \"metric_value_kwargs\": null\n",
      "          },\n",
      "          \"num_batches\": 1\n",
      "        }\n",
      "      },\n",
      "      \"kwargs\": {\n",
      "        \"column\": \"DEST\",\n",
      "        \"max_value\": 0.15517241379310345,\n",
      "        \"min_value\": 0.15517241379310345,\n",
      "        \"strict_max\": false,\n",
      "        \"strict_min\": false\n",
      "      },\n",
      "      \"expectation_type\": \"expect_column_proportion_of_unique_values_to_be_between\"\n",
      "    },\n",
      "    {\n",
      "      \"meta\": {\n",
      "        \"profiler_details\": {\n",
      "          \"metric_configuration\": {\n",
      "            \"domain_kwargs\": {\n",
      "              \"column\": \"AIRCRAFT_TYPE\"\n",
      "            },\n",
      "            \"metric_name\": \"column.distinct_values\",\n",
      "            \"metric_value_kwargs\": null\n",
      "          },\n",
      "          \"num_batches\": 1,\n",
      "          \"parse_strings_as_datetimes\": false\n",
      "        }\n",
      "      },\n",
      "      \"kwargs\": {\n",
      "        \"column\": \"AIRCRAFT_TYPE\",\n",
      "        \"mostly\": 1.0,\n",
      "        \"value_set\": [\n",
      "          838,\n",
      "          612,\n",
      "          614\n",
      "        ]\n",
      "      },\n",
      "      \"expectation_type\": \"expect_column_values_to_be_in_set\"\n",
      "    },\n",
      "    {\n",
      "      \"meta\": {\n",
      "        \"profiler_details\": {\n",
      "          \"metric_configuration\": {\n",
      "            \"domain_kwargs\": {\n",
      "              \"column\": \"AIRCRAFT_TYPE\"\n",
      "            },\n",
      "            \"metric_name\": \"column.distinct_values.count\",\n",
      "            \"metric_value_kwargs\": null\n",
      "          },\n",
      "          \"num_batches\": 1\n",
      "        }\n",
      "      },\n",
      "      \"kwargs\": {\n",
      "        \"column\": \"AIRCRAFT_TYPE\",\n",
      "        \"max_value\": 3,\n",
      "        \"min_value\": 3,\n",
      "        \"strict_max\": false,\n",
      "        \"strict_min\": false\n",
      "      },\n",
      "      \"expectation_type\": \"expect_column_unique_value_count_to_be_between\"\n",
      "    },\n",
      "    {\n",
      "      \"meta\": {\n",
      "        \"profiler_details\": {\n",
      "          \"metric_configuration\": {\n",
      "            \"domain_kwargs\": {\n",
      "              \"column\": \"AIRCRAFT_TYPE\"\n",
      "            },\n",
      "            \"metric_name\": \"column.unique_proportion\",\n",
      "            \"metric_value_kwargs\": null\n",
      "          },\n",
      "          \"num_batches\": 1\n",
      "        }\n",
      "      },\n",
      "      \"kwargs\": {\n",
      "        \"column\": \"AIRCRAFT_TYPE\",\n",
      "        \"max_value\": 0.01293103448275862,\n",
      "        \"min_value\": 0.01293103448275862,\n",
      "        \"strict_max\": false,\n",
      "        \"strict_min\": false\n",
      "      },\n",
      "      \"expectation_type\": \"expect_column_proportion_of_unique_values_to_be_between\"\n",
      "    },\n",
      "    {\n",
      "      \"meta\": {\n",
      "        \"profiler_details\": {\n",
      "          \"metric_configuration\": {\n",
      "            \"domain_kwargs\": {\n",
      "              \"column\": \"SEATS_PER_FLIGHT\"\n",
      "            },\n",
      "            \"metric_name\": \"column.distinct_values\",\n",
      "            \"metric_value_kwargs\": null\n",
      "          },\n",
      "          \"num_batches\": 1,\n",
      "          \"parse_strings_as_datetimes\": false\n",
      "        }\n",
      "      },\n",
      "      \"kwargs\": {\n",
      "        \"column\": \"SEATS_PER_FLIGHT\",\n",
      "        \"mostly\": 1.0,\n",
      "        \"value_set\": [\n",
      "          175.0,\n",
      "          299.0,\n",
      "          143.0\n",
      "        ]\n",
      "      },\n",
      "      \"expectation_type\": \"expect_column_values_to_be_in_set\"\n",
      "    },\n",
      "    {\n",
      "      \"meta\": {\n",
      "        \"profiler_details\": {\n",
      "          \"metric_configuration\": {\n",
      "            \"domain_kwargs\": {\n",
      "              \"column\": \"SEATS_PER_FLIGHT\"\n",
      "            },\n",
      "            \"metric_name\": \"column.distinct_values.count\",\n",
      "            \"metric_value_kwargs\": null\n",
      "          },\n",
      "          \"num_batches\": 1\n",
      "        }\n",
      "      },\n",
      "      \"kwargs\": {\n",
      "        \"column\": \"SEATS_PER_FLIGHT\",\n",
      "        \"max_value\": 3,\n",
      "        \"min_value\": 3,\n",
      "        \"strict_max\": false,\n",
      "        \"strict_min\": false\n",
      "      },\n",
      "      \"expectation_type\": \"expect_column_unique_value_count_to_be_between\"\n",
      "    },\n",
      "    {\n",
      "      \"meta\": {\n",
      "        \"profiler_details\": {\n",
      "          \"metric_configuration\": {\n",
      "            \"domain_kwargs\": {\n",
      "              \"column\": \"SEATS_PER_FLIGHT\"\n",
      "            },\n",
      "            \"metric_name\": \"column.unique_proportion\",\n",
      "            \"metric_value_kwargs\": null\n",
      "          },\n",
      "          \"num_batches\": 1\n",
      "        }\n",
      "      },\n",
      "      \"kwargs\": {\n",
      "        \"column\": \"SEATS_PER_FLIGHT\",\n",
      "        \"max_value\": 0.01293103448275862,\n",
      "        \"min_value\": 0.01293103448275862,\n",
      "        \"strict_max\": false,\n",
      "        \"strict_min\": false\n",
      "      },\n",
      "      \"expectation_type\": \"expect_column_proportion_of_unique_values_to_be_between\"\n",
      "    }\n",
      "  ]\n",
      "}\n"
     ]
    }
   ],
   "source": [
    "print(context.get_expectation_suite(expectation_suite_name=expectation_suite_name))\n",
    "context.add_or_update_expectation_suite(expectation_suite=suite)\n",
    "\n",
    "suite_identifier = ExpectationSuiteIdentifier(expectation_suite_name=expectation_suite_name)\n",
    "context.build_data_docs(resource_identifiers=[suite_identifier])\n",
    "context.open_data_docs(resource_identifier=suite_identifier)"
   ]
  },
  {
   "cell_type": "markdown",
   "metadata": {},
   "source": [
    "### Import necessary components"
   ]
  },
  {
   "cell_type": "code",
   "execution_count": 59,
   "metadata": {},
   "outputs": [],
   "source": [
    "from great_expectations.core.batch import BatchRequest\n",
    "from great_expectations.checkpoint import SimpleCheckpoint"
   ]
  },
  {
   "cell_type": "markdown",
   "metadata": {},
   "source": [
    "### Define data batch request"
   ]
  },
  {
   "cell_type": "code",
   "execution_count": 60,
   "metadata": {},
   "outputs": [],
   "source": [
    "batch_request = {'datasource_name': 'airline_data', 'data_connector_name': 'default_inferred_data_connector_name', 'data_asset_name': 'southwest_passengers.csv', 'limit': 1000}"
   ]
  },
  {
   "cell_type": "markdown",
   "metadata": {},
   "source": [
    "### Bring together data batch and set of expectations in validator"
   ]
  },
  {
   "cell_type": "code",
   "execution_count": 61,
   "metadata": {},
   "outputs": [],
   "source": [
    "validator = context.get_validator(\n",
    "    batch_request=BatchRequest(**batch_request),\n",
    "    expectation_suite_name=expectation_suite_name\n",
    ")"
   ]
  },
  {
   "cell_type": "markdown",
   "metadata": {},
   "source": [
    "### Save Expectation Suite, configure and run the checkpoint to apply the validator and build and open data docs with validation results"
   ]
  },
  {
   "cell_type": "code",
   "execution_count": 62,
   "metadata": {},
   "outputs": [
    {
     "name": "stdout",
     "output_type": "stream",
     "text": [
      "{\n",
      "  \"data_asset_type\": null,\n",
      "  \"meta\": {\n",
      "    \"citations\": [\n",
      "      {\n",
      "        \"citation_date\": \"2024-09-22T12:26:52.219104Z\",\n",
      "        \"comment\": \"Created by effective Rule-Based Profiler of OnboardingDataAssistant with the configuration included.\\n\"\n",
      "      }\n",
      "    ],\n",
      "    \"great_expectations_version\": \"0.18.13\"\n",
      "  },\n",
      "  \"expectation_suite_name\": \"southwest_passengers_suite\",\n",
      "  \"ge_cloud_id\": null,\n",
      "  \"expectations\": [\n",
      "    {\n",
      "      \"meta\": {\n",
      "        \"profiler_details\": {\n",
      "          \"success_ratio\": 1.0\n",
      "        }\n",
      "      },\n",
      "      \"kwargs\": {\n",
      "        \"column_set\": [\n",
      "          \"AV_PASSENGERS_PER_FLIGHT\",\n",
      "          \"PASSENGERS\",\n",
      "          \"SEATS_PER_FLIGHT\",\n",
      "          \"FREIGHT\",\n",
      "          \"DEPARTURES_PERFORMED\",\n",
      "          \"UNIQUE_CARRIER_NAME\",\n",
      "          \"ORIGIN\",\n",
      "          \"DEST\",\n",
      "          \"SEATS\",\n",
      "          \"AIRCRAFT_GROUP\",\n",
      "          \"MAIL\",\n",
      "          \"MONTH\",\n",
      "          \"AIRCRAFT_TYPE\",\n",
      "          \"UNIQUE_CARRIER\",\n",
      "          \"YEAR\"\n",
      "        ]\n",
      "      },\n",
      "      \"expectation_type\": \"expect_table_columns_to_match_set\"\n",
      "    },\n",
      "    {\n",
      "      \"meta\": {\n",
      "        \"profiler_details\": {\n",
      "          \"metric_configuration\": {\n",
      "            \"domain_kwargs\": {\n",
      "              \"column\": \"PASSENGERS\"\n",
      "            },\n",
      "            \"metric_name\": \"column_values.nonnull.unexpected_count\",\n",
      "            \"metric_value_kwargs\": null\n",
      "          },\n",
      "          \"num_batches\": 1\n",
      "        }\n",
      "      },\n",
      "      \"kwargs\": {\n",
      "        \"column\": \"PASSENGERS\"\n",
      "      },\n",
      "      \"expectation_type\": \"expect_column_values_to_not_be_null\"\n",
      "    },\n",
      "    {\n",
      "      \"meta\": {\n",
      "        \"profiler_details\": {\n",
      "          \"metric_configuration\": {\n",
      "            \"domain_kwargs\": {\n",
      "              \"column\": \"ORIGIN\"\n",
      "            },\n",
      "            \"metric_name\": \"column_values.nonnull.unexpected_count\",\n",
      "            \"metric_value_kwargs\": null\n",
      "          },\n",
      "          \"num_batches\": 1\n",
      "        }\n",
      "      },\n",
      "      \"kwargs\": {\n",
      "        \"column\": \"ORIGIN\"\n",
      "      },\n",
      "      \"expectation_type\": \"expect_column_values_to_not_be_null\"\n",
      "    },\n",
      "    {\n",
      "      \"meta\": {\n",
      "        \"profiler_details\": {\n",
      "          \"metric_configuration\": {\n",
      "            \"domain_kwargs\": {\n",
      "              \"column\": \"DEST\"\n",
      "            },\n",
      "            \"metric_name\": \"column_values.nonnull.unexpected_count\",\n",
      "            \"metric_value_kwargs\": null\n",
      "          },\n",
      "          \"num_batches\": 1\n",
      "        }\n",
      "      },\n",
      "      \"kwargs\": {\n",
      "        \"column\": \"DEST\"\n",
      "      },\n",
      "      \"expectation_type\": \"expect_column_values_to_not_be_null\"\n",
      "    },\n",
      "    {\n",
      "      \"meta\": {\n",
      "        \"profiler_details\": {\n",
      "          \"metric_configuration\": {\n",
      "            \"domain_kwargs\": {\n",
      "              \"column\": \"AIRCRAFT_TYPE\"\n",
      "            },\n",
      "            \"metric_name\": \"column_values.nonnull.unexpected_count\",\n",
      "            \"metric_value_kwargs\": null\n",
      "          },\n",
      "          \"num_batches\": 1\n",
      "        }\n",
      "      },\n",
      "      \"kwargs\": {\n",
      "        \"column\": \"AIRCRAFT_TYPE\"\n",
      "      },\n",
      "      \"expectation_type\": \"expect_column_values_to_not_be_null\"\n",
      "    },\n",
      "    {\n",
      "      \"meta\": {\n",
      "        \"profiler_details\": {\n",
      "          \"metric_configuration\": {\n",
      "            \"domain_kwargs\": {\n",
      "              \"column\": \"SEATS_PER_FLIGHT\"\n",
      "            },\n",
      "            \"metric_name\": \"column_values.nonnull.unexpected_count\",\n",
      "            \"metric_value_kwargs\": null\n",
      "          },\n",
      "          \"num_batches\": 1\n",
      "        }\n",
      "      },\n",
      "      \"kwargs\": {\n",
      "        \"column\": \"SEATS_PER_FLIGHT\"\n",
      "      },\n",
      "      \"expectation_type\": \"expect_column_values_to_not_be_null\"\n",
      "    },\n",
      "    {\n",
      "      \"meta\": {\n",
      "        \"profiler_details\": {\n",
      "          \"metric_configuration\": {\n",
      "            \"domain_kwargs\": {\n",
      "              \"column\": \"AV_PASSENGERS_PER_FLIGHT\"\n",
      "            },\n",
      "            \"metric_name\": \"column_values.nonnull.unexpected_count\",\n",
      "            \"metric_value_kwargs\": null\n",
      "          },\n",
      "          \"num_batches\": 1\n",
      "        }\n",
      "      },\n",
      "      \"kwargs\": {\n",
      "        \"column\": \"AV_PASSENGERS_PER_FLIGHT\"\n",
      "      },\n",
      "      \"expectation_type\": \"expect_column_values_to_not_be_null\"\n",
      "    },\n",
      "    {\n",
      "      \"meta\": {\n",
      "        \"profiler_details\": {\n",
      "          \"column_max_values_range_estimator\": {\n",
      "            \"metric_configuration\": {\n",
      "              \"domain_kwargs\": {\n",
      "                \"column\": \"AIRCRAFT_TYPE\"\n",
      "              },\n",
      "              \"metric_name\": \"column.max\",\n",
      "              \"metric_value_kwargs\": null\n",
      "            },\n",
      "            \"num_batches\": 1\n",
      "          },\n",
      "          \"column_min_values_range_estimator\": {\n",
      "            \"metric_configuration\": {\n",
      "              \"domain_kwargs\": {\n",
      "                \"column\": \"AIRCRAFT_TYPE\"\n",
      "              },\n",
      "              \"metric_name\": \"column.min\",\n",
      "              \"metric_value_kwargs\": null\n",
      "            },\n",
      "            \"num_batches\": 1\n",
      "          }\n",
      "        }\n",
      "      },\n",
      "      \"kwargs\": {\n",
      "        \"column\": \"AIRCRAFT_TYPE\",\n",
      "        \"max_value\": 838,\n",
      "        \"min_value\": 612,\n",
      "        \"mostly\": 1.0,\n",
      "        \"strict_max\": false,\n",
      "        \"strict_min\": false\n",
      "      },\n",
      "      \"expectation_type\": \"expect_column_values_to_be_between\"\n",
      "    },\n",
      "    {\n",
      "      \"meta\": {\n",
      "        \"profiler_details\": {\n",
      "          \"column_max_values_range_estimator\": {\n",
      "            \"metric_configuration\": {\n",
      "              \"domain_kwargs\": {\n",
      "                \"column\": \"SEATS_PER_FLIGHT\"\n",
      "              },\n",
      "              \"metric_name\": \"column.max\",\n",
      "              \"metric_value_kwargs\": null\n",
      "            },\n",
      "            \"num_batches\": 1\n",
      "          },\n",
      "          \"column_min_values_range_estimator\": {\n",
      "            \"metric_configuration\": {\n",
      "              \"domain_kwargs\": {\n",
      "                \"column\": \"SEATS_PER_FLIGHT\"\n",
      "              },\n",
      "              \"metric_name\": \"column.min\",\n",
      "              \"metric_value_kwargs\": null\n",
      "            },\n",
      "            \"num_batches\": 1\n",
      "          }\n",
      "        }\n",
      "      },\n",
      "      \"kwargs\": {\n",
      "        \"column\": \"SEATS_PER_FLIGHT\",\n",
      "        \"max_value\": 175.0,\n",
      "        \"min_value\": 143.0,\n",
      "        \"mostly\": 1.0,\n",
      "        \"strict_max\": false,\n",
      "        \"strict_min\": false\n",
      "      },\n",
      "      \"expectation_type\": \"expect_column_values_to_be_between\"\n",
      "    },\n",
      "    {\n",
      "      \"meta\": {\n",
      "        \"profiler_details\": {\n",
      "          \"column_max_length_range_estimator\": {\n",
      "            \"metric_configuration\": {\n",
      "              \"domain_kwargs\": {\n",
      "                \"column\": \"ORIGIN\"\n",
      "              },\n",
      "              \"metric_name\": \"column_values.length.max\",\n",
      "              \"metric_value_kwargs\": null\n",
      "            },\n",
      "            \"num_batches\": 1\n",
      "          },\n",
      "          \"column_min_length_range_estimator\": {\n",
      "            \"metric_configuration\": {\n",
      "              \"domain_kwargs\": {\n",
      "                \"column\": \"ORIGIN\"\n",
      "              },\n",
      "              \"metric_name\": \"column_values.length.min\",\n",
      "              \"metric_value_kwargs\": null\n",
      "            },\n",
      "            \"num_batches\": 1\n",
      "          }\n",
      "        }\n",
      "      },\n",
      "      \"kwargs\": {\n",
      "        \"column\": \"ORIGIN\",\n",
      "        \"max_value\": 3,\n",
      "        \"min_value\": 3,\n",
      "        \"mostly\": 1.0,\n",
      "        \"strict_max\": false,\n",
      "        \"strict_min\": false\n",
      "      },\n",
      "      \"expectation_type\": \"expect_column_value_lengths_to_be_between\"\n",
      "    },\n",
      "    {\n",
      "      \"meta\": {\n",
      "        \"profiler_details\": {\n",
      "          \"column_max_length_range_estimator\": {\n",
      "            \"metric_configuration\": {\n",
      "              \"domain_kwargs\": {\n",
      "                \"column\": \"DEST\"\n",
      "              },\n",
      "              \"metric_name\": \"column_values.length.max\",\n",
      "              \"metric_value_kwargs\": null\n",
      "            },\n",
      "            \"num_batches\": 1\n",
      "          },\n",
      "          \"column_min_length_range_estimator\": {\n",
      "            \"metric_configuration\": {\n",
      "              \"domain_kwargs\": {\n",
      "                \"column\": \"DEST\"\n",
      "              },\n",
      "              \"metric_name\": \"column_values.length.min\",\n",
      "              \"metric_value_kwargs\": null\n",
      "            },\n",
      "            \"num_batches\": 1\n",
      "          }\n",
      "        }\n",
      "      },\n",
      "      \"kwargs\": {\n",
      "        \"column\": \"DEST\",\n",
      "        \"max_value\": 3,\n",
      "        \"min_value\": 3,\n",
      "        \"mostly\": 1.0,\n",
      "        \"strict_max\": false,\n",
      "        \"strict_min\": false\n",
      "      },\n",
      "      \"expectation_type\": \"expect_column_value_lengths_to_be_between\"\n",
      "    },\n",
      "    {\n",
      "      \"meta\": {\n",
      "        \"profiler_details\": {\n",
      "          \"metric_configuration\": {\n",
      "            \"domain_kwargs\": {\n",
      "              \"column\": \"AIRCRAFT_TYPE\"\n",
      "            },\n",
      "            \"metric_name\": \"column.distinct_values\",\n",
      "            \"metric_value_kwargs\": null\n",
      "          },\n",
      "          \"num_batches\": 1,\n",
      "          \"parse_strings_as_datetimes\": false\n",
      "        }\n",
      "      },\n",
      "      \"kwargs\": {\n",
      "        \"column\": \"AIRCRAFT_TYPE\",\n",
      "        \"mostly\": 1.0,\n",
      "        \"value_set\": [\n",
      "          838,\n",
      "          612,\n",
      "          614\n",
      "        ]\n",
      "      },\n",
      "      \"expectation_type\": \"expect_column_values_to_be_in_set\"\n",
      "    },\n",
      "    {\n",
      "      \"meta\": {\n",
      "        \"profiler_details\": {\n",
      "          \"metric_configuration\": {\n",
      "            \"domain_kwargs\": {\n",
      "              \"column\": \"AIRCRAFT_TYPE\"\n",
      "            },\n",
      "            \"metric_name\": \"column.distinct_values.count\",\n",
      "            \"metric_value_kwargs\": null\n",
      "          },\n",
      "          \"num_batches\": 1\n",
      "        }\n",
      "      },\n",
      "      \"kwargs\": {\n",
      "        \"column\": \"AIRCRAFT_TYPE\",\n",
      "        \"max_value\": 3,\n",
      "        \"min_value\": 3,\n",
      "        \"strict_max\": false,\n",
      "        \"strict_min\": false\n",
      "      },\n",
      "      \"expectation_type\": \"expect_column_unique_value_count_to_be_between\"\n",
      "    },\n",
      "    {\n",
      "      \"meta\": {\n",
      "        \"profiler_details\": {\n",
      "          \"metric_configuration\": {\n",
      "            \"domain_kwargs\": {\n",
      "              \"column\": \"SEATS_PER_FLIGHT\"\n",
      "            },\n",
      "            \"metric_name\": \"column.distinct_values.count\",\n",
      "            \"metric_value_kwargs\": null\n",
      "          },\n",
      "          \"num_batches\": 1\n",
      "        }\n",
      "      },\n",
      "      \"kwargs\": {\n",
      "        \"column\": \"SEATS_PER_FLIGHT\",\n",
      "        \"max_value\": 2,\n",
      "        \"min_value\": 2,\n",
      "        \"strict_max\": false,\n",
      "        \"strict_min\": false\n",
      "      },\n",
      "      \"expectation_type\": \"expect_column_unique_value_count_to_be_between\"\n",
      "    },\n",
      "    {\n",
      "      \"meta\": {},\n",
      "      \"kwargs\": {\n",
      "        \"column_A\": \"AIRCRAFT_TYPE\",\n",
      "        \"column_B\": \"SEATS_PER_FLIGHT\",\n",
      "        \"value_pairs_set\": [\n",
      "          [\n",
      "            612,\n",
      "            143\n",
      "          ],\n",
      "          [\n",
      "            614,\n",
      "            175\n",
      "          ],\n",
      "          [\n",
      "            838,\n",
      "            175\n",
      "          ]\n",
      "        ]\n",
      "      },\n",
      "      \"expectation_type\": \"expect_column_pair_values_to_be_in_set\"\n",
      "    },\n",
      "    {\n",
      "      \"meta\": {},\n",
      "      \"kwargs\": {\n",
      "        \"column\": \"ORIGIN\",\n",
      "        \"type_\": \"str\"\n",
      "      },\n",
      "      \"expectation_type\": \"expect_column_values_to_be_of_type\"\n",
      "    },\n",
      "    {\n",
      "      \"meta\": {},\n",
      "      \"kwargs\": {\n",
      "        \"column\": \"DEST\",\n",
      "        \"type_\": \"str\"\n",
      "      },\n",
      "      \"expectation_type\": \"expect_column_values_to_be_of_type\"\n",
      "    }\n",
      "  ]\n",
      "}\n"
     ]
    },
    {
     "data": {
      "application/vnd.jupyter.widget-view+json": {
       "model_id": "b9374c471d4e475595b36c81390f8deb",
       "version_major": 2,
       "version_minor": 0
      },
      "text/plain": [
       "Calculating Metrics:   0%|          | 0/81 [00:00<?, ?it/s]"
      ]
     },
     "metadata": {},
     "output_type": "display_data"
    }
   ],
   "source": [
    "print(validator.get_expectation_suite(discard_failed_expectations=False))\n",
    "validator.save_expectation_suite(discard_failed_expectations=False)\n",
    "\n",
    "checkpoint_config = {\n",
    "    \"class_name\": \"SimpleCheckpoint\",\n",
    "    \"validations\": [\n",
    "        {\n",
    "            \"batch_request\": batch_request,\n",
    "            \"expectation_suite_name\": expectation_suite_name\n",
    "        }\n",
    "    ]\n",
    "}\n",
    "checkpoint = SimpleCheckpoint(\n",
    "    f\"{validator.active_batch_definition.data_asset_name}_{expectation_suite_name}\",\n",
    "    context,\n",
    "    **checkpoint_config\n",
    ")\n",
    "checkpoint_result = checkpoint.run()\n",
    "\n",
    "context.build_data_docs()\n",
    "\n",
    "validation_result_identifier = checkpoint_result.list_validation_result_identifiers()[0]\n",
    "context.open_data_docs(resource_identifier=validation_result_identifier)"
   ]
  }
 ],
 "metadata": {
  "kernelspec": {
   "display_name": "py38_env",
   "language": "python",
   "name": "python3"
  },
  "language_info": {
   "codemirror_mode": {
    "name": "ipython",
    "version": 3
   },
   "file_extension": ".py",
   "mimetype": "text/x-python",
   "name": "python",
   "nbconvert_exporter": "python",
   "pygments_lexer": "ipython3",
   "version": "3.8.19"
  }
 },
 "nbformat": 4,
 "nbformat_minor": 2
}
